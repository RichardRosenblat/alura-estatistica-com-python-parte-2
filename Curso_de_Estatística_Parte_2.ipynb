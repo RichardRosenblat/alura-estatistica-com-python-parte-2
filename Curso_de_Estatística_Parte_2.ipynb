{
  "cells": [
    {
      "cell_type": "markdown",
      "metadata": {
        "id": "view-in-github",
        "colab_type": "text"
      },
      "source": [
        "<a href=\"https://colab.research.google.com/github/RichardRosenblat/alura-estatistica-com-python-parte-2/blob/main/Curso_de_Estat%C3%ADstica_Parte_2.ipynb\" target=\"_parent\"><img src=\"https://colab.research.google.com/assets/colab-badge.svg\" alt=\"Open In Colab\"/></a>"
      ]
    },
    {
      "cell_type": "markdown",
      "metadata": {
        "id": "WvMflodMjQKe"
      },
      "source": [
        "***\n",
        "# <font color=green size=10>CURSO DE ESTATÍSTICA - PARTE 2</font>\n",
        "***"
      ]
    },
    {
      "cell_type": "markdown",
      "metadata": {
        "id": "cVgsZ_E3jQKg"
      },
      "source": [
        "# <font color=green>1 CONHECENDO OS DADOS</font>\n",
        "***"
      ]
    },
    {
      "cell_type": "markdown",
      "metadata": {
        "id": "TDjqYYNojQKh"
      },
      "source": [
        "## <font color=green>1.1 Dataset do projeto</font>\n",
        "***"
      ]
    },
    {
      "cell_type": "markdown",
      "metadata": {
        "id": "iN1gIbaKjQKh"
      },
      "source": [
        "### Pesquisa Nacional por Amostra de Domicílios - 2015\n",
        "\n",
        "A **Pesquisa Nacional por Amostra de Domicílios - PNAD** investiga anualmente, de forma permanente, características gerais da população, de educação, trabalho, rendimento e habitação e outras, com periodicidade variável, de acordo com as necessidades de informação para o país, como as características sobre migração, fecundidade, nupcialidade, saúde, segurança alimentar, entre outros temas. O levantamento dessas estatísticas constitui, ao longo dos 49 anos de realização da pesquisa, um importante instrumento para formulação, validação e avaliação de políticas orientadas para o desenvolvimento socioeconômico e a melhoria das condições de vida no Brasil."
      ]
    },
    {
      "cell_type": "markdown",
      "metadata": {
        "id": "U6V7br1RjQKi"
      },
      "source": [
        "### Fonte dos Dados\n",
        "\n",
        "https://ww2.ibge.gov.br/home/estatistica/populacao/trabalhoerendimento/pnad2015/microdados.shtm"
      ]
    },
    {
      "cell_type": "markdown",
      "metadata": {
        "id": "r0Fe_qnzjQKj"
      },
      "source": [
        "### Variáveis utilizadas\n",
        "\n",
        "> ### Renda\n",
        "> ***\n",
        "\n",
        "Rendimento mensal do trabalho principal para pessoas de 10 anos ou mais de idade.\n",
        "\n",
        "> ### Idade\n",
        "> ***\n",
        "\n",
        "Idade do morador na data de referência em anos.\n",
        "\n",
        "> ### Altura (elaboração própria)\n",
        "> ***\n",
        "\n",
        "Altura do morador em metros.\n",
        "\n",
        "> ### UF\n",
        "> ***\n",
        "\n",
        "|Código|Descrição|\n",
        "|---|---|\n",
        "|11|Rondônia|\n",
        "|12|Acre|\n",
        "|13|Amazonas|\n",
        "|14|Roraima|\n",
        "|15|Pará|\n",
        "|16|Amapá|\n",
        "|17|Tocantins|\n",
        "|21|Maranhão|\n",
        "|22|Piauí|\n",
        "|23|Ceará|\n",
        "|24|Rio Grande do Norte|\n",
        "|25|Paraíba|\n",
        "|26|Pernambuco|\n",
        "|27|Alagoas|\n",
        "|28|Sergipe|\n",
        "|29|Bahia|\n",
        "|31|Minas Gerais|\n",
        "|32|Espírito Santo|\n",
        "|33|Rio de Janeiro|\n",
        "|35|São Paulo|\n",
        "|41|Paraná|\n",
        "|42|Santa Catarina|\n",
        "|43|Rio Grande do Sul|\n",
        "|50|Mato Grosso do Sul|\n",
        "|51|Mato Grosso|\n",
        "|52|Goiás|\n",
        "|53|Distrito Federal|\n",
        "\n",
        "> ### Sexo\t\n",
        "> ***\n",
        "\n",
        "|Código|Descrição|\n",
        "|---|---|\n",
        "|0|Masculino|\n",
        "|1|Feminino|\n",
        "\n",
        "> ### Anos de Estudo\n",
        "> ***\n",
        "\n",
        "|Código|Descrição|\n",
        "|---|---|\n",
        "|1|Sem instrução e menos de 1 ano|\n",
        "|2|1 ano|\n",
        "|3|2 anos|\n",
        "|4|3 anos|\n",
        "|5|4 anos|\n",
        "|6|5 anos|\n",
        "|7|6 anos|\n",
        "|8|7 anos|\n",
        "|9|8 anos|\n",
        "|10|9 anos|\n",
        "|11|10 anos|\n",
        "|12|11 anos|\n",
        "|13|12 anos|\n",
        "|14|13 anos|\n",
        "|15|14 anos|\n",
        "|16|15 anos ou mais|\n",
        "|17|Não determinados| \n",
        "||Não aplicável|\n",
        "\n",
        "> ### Cor\n",
        "> ***\n",
        "\n",
        "|Código|Descrição|\n",
        "|---|---|\n",
        "|0|Indígena|\n",
        "|2|Branca|\n",
        "|4|Preta|\n",
        "|6|Amarela|\n",
        "|8|Parda|\n",
        "|9|Sem declaração|"
      ]
    },
    {
      "cell_type": "markdown",
      "metadata": {
        "id": "OK1IQH5cX7Gb"
      },
      "source": [
        "#### <font color='red'>Observação</font>\n",
        "***\n",
        "> Os seguintes tratamentos foram realizados nos dados originais:\n",
        "> 1. Foram eliminados os registros onde a **Renda** era inválida (999 999 999 999);\n",
        "> 2. Foram eliminados os registros onde a **Renda** era missing;\n",
        "> 3. Foram considerados somente os registros das **Pessoas de Referência** de cada domicílio (responsável pelo domicílio)."
      ]
    },
    {
      "cell_type": "markdown",
      "metadata": {
        "id": "8Rw70V6ojQKk"
      },
      "source": [
        "### Importando pandas e lendo o dataset do projeto\n",
        "\n",
        "https://pandas.pydata.org/"
      ]
    },
    {
      "cell_type": "code",
      "execution_count": 1,
      "metadata": {
        "id": "8QgOpE-wjQKl"
      },
      "outputs": [],
      "source": [
        "import pandas as pd"
      ]
    },
    {
      "cell_type": "code",
      "execution_count": 2,
      "metadata": {
        "id": "ufRZ7TLwjQKo"
      },
      "outputs": [],
      "source": [
        "dados = pd.read_csv('dados.csv')"
      ]
    },
    {
      "cell_type": "code",
      "execution_count": 3,
      "metadata": {
        "colab": {
          "base_uri": "https://localhost:8080/",
          "height": 206
        },
        "id": "GsC_WhLFjQKq",
        "outputId": "96203abd-153f-4a4d-e3a2-35562caab83c",
        "scrolled": true
      },
      "outputs": [
        {
          "output_type": "execute_result",
          "data": {
            "text/plain": [
              "   UF  Sexo  Idade  Cor  Anos de Estudo  Renda    Altura\n",
              "0  11     0     23    8              12    800  1.603808\n",
              "1  11     1     23    2              12   1150  1.739790\n",
              "2  11     1     35    8              15    880  1.760444\n",
              "3  11     0     46    2               6   3500  1.783158\n",
              "4  11     1     47    8               9    150  1.690631"
            ],
            "text/html": [
              "\n",
              "  <div id=\"df-f531f54d-ac70-4e9e-b6c7-99ccf3eedb5a\">\n",
              "    <div class=\"colab-df-container\">\n",
              "      <div>\n",
              "<style scoped>\n",
              "    .dataframe tbody tr th:only-of-type {\n",
              "        vertical-align: middle;\n",
              "    }\n",
              "\n",
              "    .dataframe tbody tr th {\n",
              "        vertical-align: top;\n",
              "    }\n",
              "\n",
              "    .dataframe thead th {\n",
              "        text-align: right;\n",
              "    }\n",
              "</style>\n",
              "<table border=\"1\" class=\"dataframe\">\n",
              "  <thead>\n",
              "    <tr style=\"text-align: right;\">\n",
              "      <th></th>\n",
              "      <th>UF</th>\n",
              "      <th>Sexo</th>\n",
              "      <th>Idade</th>\n",
              "      <th>Cor</th>\n",
              "      <th>Anos de Estudo</th>\n",
              "      <th>Renda</th>\n",
              "      <th>Altura</th>\n",
              "    </tr>\n",
              "  </thead>\n",
              "  <tbody>\n",
              "    <tr>\n",
              "      <th>0</th>\n",
              "      <td>11</td>\n",
              "      <td>0</td>\n",
              "      <td>23</td>\n",
              "      <td>8</td>\n",
              "      <td>12</td>\n",
              "      <td>800</td>\n",
              "      <td>1.603808</td>\n",
              "    </tr>\n",
              "    <tr>\n",
              "      <th>1</th>\n",
              "      <td>11</td>\n",
              "      <td>1</td>\n",
              "      <td>23</td>\n",
              "      <td>2</td>\n",
              "      <td>12</td>\n",
              "      <td>1150</td>\n",
              "      <td>1.739790</td>\n",
              "    </tr>\n",
              "    <tr>\n",
              "      <th>2</th>\n",
              "      <td>11</td>\n",
              "      <td>1</td>\n",
              "      <td>35</td>\n",
              "      <td>8</td>\n",
              "      <td>15</td>\n",
              "      <td>880</td>\n",
              "      <td>1.760444</td>\n",
              "    </tr>\n",
              "    <tr>\n",
              "      <th>3</th>\n",
              "      <td>11</td>\n",
              "      <td>0</td>\n",
              "      <td>46</td>\n",
              "      <td>2</td>\n",
              "      <td>6</td>\n",
              "      <td>3500</td>\n",
              "      <td>1.783158</td>\n",
              "    </tr>\n",
              "    <tr>\n",
              "      <th>4</th>\n",
              "      <td>11</td>\n",
              "      <td>1</td>\n",
              "      <td>47</td>\n",
              "      <td>8</td>\n",
              "      <td>9</td>\n",
              "      <td>150</td>\n",
              "      <td>1.690631</td>\n",
              "    </tr>\n",
              "  </tbody>\n",
              "</table>\n",
              "</div>\n",
              "      <button class=\"colab-df-convert\" onclick=\"convertToInteractive('df-f531f54d-ac70-4e9e-b6c7-99ccf3eedb5a')\"\n",
              "              title=\"Convert this dataframe to an interactive table.\"\n",
              "              style=\"display:none;\">\n",
              "        \n",
              "  <svg xmlns=\"http://www.w3.org/2000/svg\" height=\"24px\"viewBox=\"0 0 24 24\"\n",
              "       width=\"24px\">\n",
              "    <path d=\"M0 0h24v24H0V0z\" fill=\"none\"/>\n",
              "    <path d=\"M18.56 5.44l.94 2.06.94-2.06 2.06-.94-2.06-.94-.94-2.06-.94 2.06-2.06.94zm-11 1L8.5 8.5l.94-2.06 2.06-.94-2.06-.94L8.5 2.5l-.94 2.06-2.06.94zm10 10l.94 2.06.94-2.06 2.06-.94-2.06-.94-.94-2.06-.94 2.06-2.06.94z\"/><path d=\"M17.41 7.96l-1.37-1.37c-.4-.4-.92-.59-1.43-.59-.52 0-1.04.2-1.43.59L10.3 9.45l-7.72 7.72c-.78.78-.78 2.05 0 2.83L4 21.41c.39.39.9.59 1.41.59.51 0 1.02-.2 1.41-.59l7.78-7.78 2.81-2.81c.8-.78.8-2.07 0-2.86zM5.41 20L4 18.59l7.72-7.72 1.47 1.35L5.41 20z\"/>\n",
              "  </svg>\n",
              "      </button>\n",
              "      \n",
              "  <style>\n",
              "    .colab-df-container {\n",
              "      display:flex;\n",
              "      flex-wrap:wrap;\n",
              "      gap: 12px;\n",
              "    }\n",
              "\n",
              "    .colab-df-convert {\n",
              "      background-color: #E8F0FE;\n",
              "      border: none;\n",
              "      border-radius: 50%;\n",
              "      cursor: pointer;\n",
              "      display: none;\n",
              "      fill: #1967D2;\n",
              "      height: 32px;\n",
              "      padding: 0 0 0 0;\n",
              "      width: 32px;\n",
              "    }\n",
              "\n",
              "    .colab-df-convert:hover {\n",
              "      background-color: #E2EBFA;\n",
              "      box-shadow: 0px 1px 2px rgba(60, 64, 67, 0.3), 0px 1px 3px 1px rgba(60, 64, 67, 0.15);\n",
              "      fill: #174EA6;\n",
              "    }\n",
              "\n",
              "    [theme=dark] .colab-df-convert {\n",
              "      background-color: #3B4455;\n",
              "      fill: #D2E3FC;\n",
              "    }\n",
              "\n",
              "    [theme=dark] .colab-df-convert:hover {\n",
              "      background-color: #434B5C;\n",
              "      box-shadow: 0px 1px 3px 1px rgba(0, 0, 0, 0.15);\n",
              "      filter: drop-shadow(0px 1px 2px rgba(0, 0, 0, 0.3));\n",
              "      fill: #FFFFFF;\n",
              "    }\n",
              "  </style>\n",
              "\n",
              "      <script>\n",
              "        const buttonEl =\n",
              "          document.querySelector('#df-f531f54d-ac70-4e9e-b6c7-99ccf3eedb5a button.colab-df-convert');\n",
              "        buttonEl.style.display =\n",
              "          google.colab.kernel.accessAllowed ? 'block' : 'none';\n",
              "\n",
              "        async function convertToInteractive(key) {\n",
              "          const element = document.querySelector('#df-f531f54d-ac70-4e9e-b6c7-99ccf3eedb5a');\n",
              "          const dataTable =\n",
              "            await google.colab.kernel.invokeFunction('convertToInteractive',\n",
              "                                                     [key], {});\n",
              "          if (!dataTable) return;\n",
              "\n",
              "          const docLinkHtml = 'Like what you see? Visit the ' +\n",
              "            '<a target=\"_blank\" href=https://colab.research.google.com/notebooks/data_table.ipynb>data table notebook</a>'\n",
              "            + ' to learn more about interactive tables.';\n",
              "          element.innerHTML = '';\n",
              "          dataTable['output_type'] = 'display_data';\n",
              "          await google.colab.output.renderOutput(dataTable, element);\n",
              "          const docLink = document.createElement('div');\n",
              "          docLink.innerHTML = docLinkHtml;\n",
              "          element.appendChild(docLink);\n",
              "        }\n",
              "      </script>\n",
              "    </div>\n",
              "  </div>\n",
              "  "
            ]
          },
          "metadata": {},
          "execution_count": 3
        }
      ],
      "source": [
        "dados.head()"
      ]
    },
    {
      "cell_type": "markdown",
      "metadata": {
        "id": "-z3bLQIUG3Hv"
      },
      "source": [
        "---\n",
        "---"
      ]
    },
    {
      "cell_type": "markdown",
      "metadata": {
        "id": "tL9xVLwTX07g"
      },
      "source": [
        "# <font color=green>2 DISTRIBUIÇÕES DE PROBABILIDADE</font>\n",
        "***"
      ]
    },
    {
      "cell_type": "markdown",
      "metadata": {
        "id": "3nlvC-5qG3Bj"
      },
      "source": [
        "## <font color=red>Problema</font>\n",
        "***"
      ]
    },
    {
      "cell_type": "markdown",
      "metadata": {
        "id": "8CclIz9oG3Bk"
      },
      "source": [
        "Em um concurso para preencher uma vaga de cientista de dados temos um total de **10 questões** de múltipla escolha com **3 alternativas possíveis** em cada questão. **Cada questão tem o mesmo valor.** Suponha que um candidato resolva se aventurar sem ter estudado absolutamente nada. Ele resolve fazer a prova de olhos vendados e chutar todas as resposta. Assumindo que a prova **vale 10 pontos e a nota de corte seja 5**, obtenha a probabilidade deste candidato **acertar 5 questões** (Problema 1) e também a probabilidade deste candidato **passar para a próxima etapa do processo seletivo** (Problema 2)."
      ]
    },
    {
      "cell_type": "markdown",
      "metadata": {
        "id": "KJxd2KFSYLML"
      },
      "source": [
        "## <font color=green>2.1 Distribuição Binomial</font>\n",
        "***"
      ]
    },
    {
      "cell_type": "markdown",
      "metadata": {
        "id": "mcbl3KbnG3Bq"
      },
      "source": [
        "Um evento **binomial** é caracterizado pela possibilidade de ocorrência de apenas duas categorias. Estas categorias somadas representam todo o espaço amostral, sendo também mutuamente excludentes, ou seja, a ocorrência de uma implica na não ocorrência da outra.\n",
        "\n",
        "Em análises estatísticas o uso mais comum da distribuição binomial é na solução de problemas que envolvem situações de **sucesso** e **fracasso**."
      ]
    },
    {
      "cell_type": "markdown",
      "metadata": {
        "id": "iLoYAuJ9G3Bs"
      },
      "source": [
        "# $$P(k)=\\binom{n}{k} p^k q^{n-k}$$\n",
        "\n",
        "Onde:\n",
        "\n",
        "$\\binom{n}{k}$ = combinação $n$ $k$ a $k$ <font color=red> mais detalhes sobre combinação abaixo</font>\n",
        "\n",
        "$p$ = probabilidade de sucesso em um unico evento, sendo $1 > p > 0$\n",
        "\n",
        "$q = (1 - p)$ = probabilidade de fracasso, em um unico evento\n",
        "\n",
        "$n$ = número de eventos estudados\n",
        "\n",
        "$k$ = número de eventos necessários que tenham sucesso"
      ]
    },
    {
      "cell_type": "markdown",
      "metadata": {
        "id": "PxEgWbFdG3Bt"
      },
      "source": [
        "### Experimento Binomial"
      ]
    },
    {
      "cell_type": "markdown",
      "metadata": {
        "id": "eqQK3Ny-G3Bv"
      },
      "source": [
        "1. **Realização de $n$ ensaios idênticos**, ou seja, nada muda entre eles, por exemplo, no caso de jogar um dado, o tipo de dado deve sempre ser o mesmo\n",
        "\n",
        "2. **Os ensaios são independentes**, ou seja, no exemplo de respostas de uma prova, o estudante não pode mudar o resultado que iria marcar levando outros resultados em consideração\n",
        "\n",
        "3. **Somente dois resultados são possíveis**, exemplo: Verdadeiro ou falso; Cara ou coroa; Sucesso ou fracasso.\n",
        "\n",
        "4. A probabilidade de sucesso é representada por $p$ e a de fracasso por $1-p=q$. **Estas probabilidades não se modificam de ensaio para ensaio**. por exemplo, no caso de lançar uma moeda, então a chance de cair cara ou coroa não pode mudar"
      ]
    },
    {
      "cell_type": "markdown",
      "metadata": {
        "id": "mT77udQ0G3Bx"
      },
      "source": [
        "### Média da distribuição binomial\n",
        "O uso e o porquê disso vai estar mais adiante"
      ]
    },
    {
      "cell_type": "markdown",
      "metadata": {
        "id": "EGiuemgqG3By"
      },
      "source": [
        "O valor esperado ou a média da distribuição binomial é igual ao número de experimentos realizados multiplicado pela chance de ocorrência do evento.\n",
        "\n",
        "# $$\\mu = n \\times p$$"
      ]
    },
    {
      "cell_type": "markdown",
      "metadata": {
        "id": "1fDLi96OG3Bz"
      },
      "source": [
        "### Desvio padrão da distribuição binomial\n",
        "O uso e o porquê disso vai estar mais adiante"
      ]
    },
    {
      "cell_type": "markdown",
      "metadata": {
        "id": "EZojizotG3B1"
      },
      "source": [
        "O desvio padrão é o produto entre o número de experimentos, a probabilidade de sucesso e a probabilidade de fracasso.\n",
        "\n",
        "# $$\\sigma = \\sqrt{n \\times p \\times q}$$"
      ]
    },
    {
      "cell_type": "markdown",
      "metadata": {
        "id": "udqnjFnsG3B2"
      },
      "source": [
        "### Importando bibliotecas\n",
        "https://docs.scipy.org/doc/scipy/reference/generated/scipy.special.comb.html"
      ]
    },
    {
      "cell_type": "code",
      "execution_count": 4,
      "metadata": {
        "id": "-U2sGssNG3B4"
      },
      "outputs": [],
      "source": [
        "from scipy.special import comb"
      ]
    },
    {
      "cell_type": "markdown",
      "metadata": {
        "id": "MxxuJNSwG3B7"
      },
      "source": [
        "### Combinações\n",
        "\n",
        "Número de combinações de $n$ objetos, tomados $k$ a cada vez, é:\n",
        "\n",
        "# $$C_{k}^{n} = \\binom{n}{k} = \\frac{n!}{k!(n - k)!}$$\n",
        "\n",
        "Onde\n",
        "\n",
        "## $$n! = n\\times(n-1)\\times(n-2)\\times...\\times(2)\\times(1)$$\n",
        "## $$k! = k\\times(k-1)\\times(k-2)\\times...\\times(2)\\times(1)$$\n",
        "\n",
        "Por definição\n",
        "\n",
        "## $$0! = 1$$\n",
        "\n",
        "\n",
        "Tabém chamamos $C_{k}^{n}$ de **Espaço amostral** ou **$\\Omega$** ou **$S$**"
      ]
    },
    {
      "cell_type": "markdown",
      "source": [
        "### **Espaço amostral** ($\\Omega$)\n",
        "\n",
        "**O espaço amostral ($\\Omega$)** é o **conjunto formado por todos os resultados possíveis de um experimento aleatório**. Em outras palavras, é o conjunto formado por todos os pontos amostrais de um experimento. Veja exemplos:\n",
        "\n",
        "a) O espaço amostral do experimento “cara ou coroa” é o conjunto $S$ = {Cara, Coroa}. Os pontos amostrais desse experimento são os mesmos elementos desse conjunto.\n",
        "\n",
        "b) O espaço amostral do experimento “lançamento de um dado” é o conjunto $S$ = {1, 2, 3, 4, 5, 6}. Os pontos amostrais desse experimento são 1, 2, 3, 4, 5 e 6.\n",
        "\n",
        "c) O espaço amostral do experimento \"Lançamento de uma moeda duas vezes\" é o conjunto $S$ = {(Cara, Coroa), (Cara, Cara), (Coroa, Cara), (Coroa, Coroa)}"
      ],
      "metadata": {
        "id": "49GdbUNK5O2T"
      }
    },
    {
      "cell_type": "markdown",
      "metadata": {
        "id": "Udz87Pq3G3B8"
      },
      "source": [
        "## <font color='blue'>Exemplo: Mega Sena</font>"
      ]
    },
    {
      "cell_type": "markdown",
      "metadata": {
        "id": "h1Mo9AxyG3B8"
      },
      "source": [
        "Em um volante de loteria da Mega Sena temos um total de **60 números** para escolher onde a aposta mínima é de **seis números**. Você que é curiosa(o) resolve calcular a probabilidade de se acertar na Mega Sena com apenas **um jogo**. Para isso precisamos saber quantas **combinações de seis números podem ser formadas com os 60 números disponíveis**.\n",
        "\n",
        "### $$C_{6}^{60} = \\binom{60}{6} = \\frac{60!}{6!(60 - 6)!}$$\n",
        "\n",
        "A combinação de 60 6 a 6"
      ]
    },
    {
      "cell_type": "code",
      "execution_count": 5,
      "metadata": {
        "colab": {
          "base_uri": "https://localhost:8080/"
        },
        "id": "c2t7yHl7G3B9",
        "outputId": "06ea47eb-0a5c-47e2-a8c8-8ac5097ae3dc"
      },
      "outputs": [
        {
          "output_type": "execute_result",
          "data": {
            "text/plain": [
              "50063860.0"
            ]
          },
          "metadata": {},
          "execution_count": 5
        }
      ],
      "source": [
        "combinacoes = comb(60, 6)\n",
        "combinacoes"
      ]
    },
    {
      "cell_type": "code",
      "execution_count": 6,
      "metadata": {
        "colab": {
          "base_uri": "https://localhost:8080/"
        },
        "id": "LpioeTSXG3CB",
        "outputId": "b9c991b1-e6f3-42f9-80b3-536de982eb40"
      },
      "outputs": [
        {
          "output_type": "stream",
          "name": "stdout",
          "text": [
            "0.000000019974488583181559601500398826688653652894345214008353650569915771484375\n"
          ]
        }
      ],
      "source": [
        "probabilidade = 1 / combinacoes\n",
        "print('%.78f'% probabilidade)"
      ]
    },
    {
      "cell_type": "code",
      "source": [
        "# Exercicio\n",
        "combinacoes = comb(25, 20)\n",
        "combinacoes\n",
        "probabilidade = 1 / combinacoes\n",
        "\n",
        "print('Combinacoes: %d' % combinacoes)\n",
        "print('Probabilidade: %.15f'% probabilidade)"
      ],
      "metadata": {
        "colab": {
          "base_uri": "https://localhost:8080/"
        },
        "id": "BSW3PE2s-b9j",
        "outputId": "c712117a-3836-4dac-883f-877912a33cf9"
      },
      "execution_count": 7,
      "outputs": [
        {
          "output_type": "stream",
          "name": "stdout",
          "text": [
            "Combinacoes: 53130\n",
            "Probabilidade: 0.000018821757952\n"
          ]
        }
      ]
    },
    {
      "cell_type": "markdown",
      "metadata": {
        "id": "t1rA1yJpG3CF"
      },
      "source": [
        "## <font color='blue'>Exemplo: Concurso para cientista de dados</font>"
      ]
    },
    {
      "cell_type": "markdown",
      "metadata": {
        "id": "K0DPDD37G3CG"
      },
      "source": [
        "Em um concurso para preencher uma vaga de cientista de dados temos um total de **10 questões** de múltipla escolha com **3 alternativas possíveis** em cada questão. **Cada questão tem o mesmo valor.** Suponha que um candidato resolva se aventurar sem ter estudado absolutamente nada. Ele resolve fazer a prova de olhos vendados e chutar todas as resposta. Assumindo que a prova **vale 10 pontos e a nota de corte seja 5**, obtenha a probabilidade deste candidato **acertar 5 questões** (Problema 1) e também a probabilidade deste candidato **passar para a próxima etapa do processo seletivo** (Problema 2)."
      ]
    },
    {
      "cell_type": "markdown",
      "source": [
        "Relembrando: \n",
        "# $$P(k)=\\binom{n}{k} p^k q^{n-k}$$\n",
        "\n",
        "Onde:\n",
        "\n",
        "\n",
        "$p$ = probabilidade de sucesso em um unico evento, sendo $1 \\ge p \\ge 0$\n",
        "\n",
        "$q = (1 - p)$ = probabilidade de fracasso, em um unico evento\n",
        "\n",
        "$n$ = número de eventos estudados\n",
        "\n",
        "$k$ = número de eventos necessários que tenham sucesso\n",
        "\n",
        "$\\binom{n}{k}$ = combinação $n$ $k$ a $k$"
      ],
      "metadata": {
        "id": "HbbF9Ca4_w7U"
      }
    },
    {
      "cell_type": "markdown",
      "metadata": {
        "id": "sf-NMPfxG3CH"
      },
      "source": [
        "### Qual o número de ensaios ($n$)?"
      ]
    },
    {
      "cell_type": "code",
      "execution_count": 8,
      "metadata": {
        "colab": {
          "base_uri": "https://localhost:8080/"
        },
        "id": "WmnjMTnYG3CH",
        "outputId": "0d9029c9-4a88-48aa-8b72-5cc1975f8f01"
      },
      "outputs": [
        {
          "output_type": "execute_result",
          "data": {
            "text/plain": [
              "10"
            ]
          },
          "metadata": {},
          "execution_count": 8
        }
      ],
      "source": [
        "# As 10 questões\n",
        "n = 10 \n",
        "n"
      ]
    },
    {
      "cell_type": "markdown",
      "metadata": {
        "id": "1USf9Ro8G3CK"
      },
      "source": [
        "### Os ensaios são independentes?"
      ]
    },
    {
      "cell_type": "markdown",
      "metadata": {
        "id": "82xf2XIkG3CM"
      },
      "source": [
        "Sim. A opção escolhida em uma questão não influencia em nada a opção escolhida em outra questão."
      ]
    },
    {
      "cell_type": "markdown",
      "metadata": {
        "id": "7jN0H5e7G3CN"
      },
      "source": [
        "### Somente dois resultados são possíveis em cada ensaio?"
      ]
    },
    {
      "cell_type": "markdown",
      "metadata": {
        "id": "gGxcY7K8G3CO"
      },
      "source": [
        "Sim. Mesmo cada questão tendo 3 respostas, a candidato tem duas possibilidades, ACERTA ou ERRAR uma questão. "
      ]
    },
    {
      "cell_type": "markdown",
      "metadata": {
        "id": "MZw2LDQjG3CR"
      },
      "source": [
        "### Qual a probabilidade de sucesso ($p$)?"
      ]
    },
    {
      "cell_type": "code",
      "execution_count": 9,
      "metadata": {
        "colab": {
          "base_uri": "https://localhost:8080/"
        },
        "id": "AazGDtt0G3CS",
        "outputId": "d12d6937-a64c-49d8-8300-8375686457c8"
      },
      "outputs": [
        {
          "output_type": "execute_result",
          "data": {
            "text/plain": [
              "0.3333333333333333"
            ]
          },
          "metadata": {},
          "execution_count": 9
        }
      ],
      "source": [
        "numero_alternativas_por_questao = 3\n",
        "p = 1/numero_alternativas_por_questao\n",
        "p"
      ]
    },
    {
      "cell_type": "markdown",
      "metadata": {
        "id": "KPCw41OlG3CX"
      },
      "source": [
        "### Qual a probabilidade de fracasso ($q$)?"
      ]
    },
    {
      "cell_type": "code",
      "execution_count": 10,
      "metadata": {
        "colab": {
          "base_uri": "https://localhost:8080/"
        },
        "id": "FRhmjCnpG3CZ",
        "outputId": "321f7ba7-aa40-4ca8-fe2e-332da065676f"
      },
      "outputs": [
        {
          "output_type": "execute_result",
          "data": {
            "text/plain": [
              "0.6666666666666667"
            ]
          },
          "metadata": {},
          "execution_count": 10
        }
      ],
      "source": [
        "q = 1 - p\n",
        "q"
      ]
    },
    {
      "cell_type": "markdown",
      "metadata": {
        "id": "W2htpmzaG3Ce"
      },
      "source": [
        "### Qual o total de eventos que se deseja obter sucesso ($k$)?"
      ]
    },
    {
      "cell_type": "code",
      "execution_count": 11,
      "metadata": {
        "colab": {
          "base_uri": "https://localhost:8080/"
        },
        "id": "MmHpiIIuG3Cj",
        "outputId": "75a95443-e11d-4deb-b6ec-ff4545275a14"
      },
      "outputs": [
        {
          "output_type": "execute_result",
          "data": {
            "text/plain": [
              "5"
            ]
          },
          "metadata": {},
          "execution_count": 11
        }
      ],
      "source": [
        "k = 5\n",
        "k"
      ]
    },
    {
      "cell_type": "markdown",
      "metadata": {
        "id": "r8TZ6DSuG3Cm"
      },
      "source": [
        "### Solução 1"
      ]
    },
    {
      "cell_type": "code",
      "execution_count": 12,
      "metadata": {
        "colab": {
          "base_uri": "https://localhost:8080/"
        },
        "id": "tZBbMIzKG3Cn",
        "outputId": "b9bef2ed-b1cd-4e57-cb29-92902e137192"
      },
      "outputs": [
        {
          "output_type": "stream",
          "name": "stdout",
          "text": [
            "0.13656455\n",
            "Ou\n",
            "13.66%\n"
          ]
        }
      ],
      "source": [
        "probabilidade = comb(n, k) * (p**k) * (q**(n-k))\n",
        "print(\"%.8f\" % probabilidade)\n",
        "print('Ou')\n",
        "print(\"%.2f%%\" % (probabilidade*100))"
      ]
    },
    {
      "cell_type": "markdown",
      "metadata": {
        "id": "rDwUvW5UG3Cq"
      },
      "source": [
        "### Importando bibliotecas\n",
        "https://docs.scipy.org/doc/scipy/reference/generated/scipy.stats.binom.html"
      ]
    },
    {
      "cell_type": "code",
      "execution_count": 13,
      "metadata": {
        "id": "rhlsI3iLG3Cr"
      },
      "outputs": [],
      "source": [
        "# formulas relating to binomial discrete random variables\n",
        "from scipy.stats import binom"
      ]
    },
    {
      "cell_type": "markdown",
      "metadata": {
        "id": "hvj2sYaSG3Ct"
      },
      "source": [
        "### Solução 2"
      ]
    },
    {
      "cell_type": "code",
      "execution_count": 14,
      "metadata": {
        "colab": {
          "base_uri": "https://localhost:8080/"
        },
        "id": "OjS1xsz5G3Cu",
        "outputId": "58f5153f-8be2-4490-f591-f3aeb16c6d57"
      },
      "outputs": [
        {
          "output_type": "stream",
          "name": "stdout",
          "text": [
            "0.13656455\n",
            "Ou\n",
            "13.66%\n"
          ]
        }
      ],
      "source": [
        "eventos_para_sucesso = k\n",
        "numero_de_eventos = n\n",
        "chance_sucesso_evento_unico = p\n",
        "\n",
        "# Probability mass function of a binomial distribuition\n",
        "probabilidade = binom.pmf(\n",
        "  eventos_para_sucesso,\n",
        "  numero_de_eventos,\n",
        "  chance_sucesso_evento_unico\n",
        ")\n",
        "print(\"%.8f\" % probabilidade)\n",
        "print('Ou')\n",
        "print(\"%.2f%%\" % (probabilidade*100))"
      ]
    },
    {
      "cell_type": "markdown",
      "metadata": {
        "id": "vAwCuN3rt-Yp"
      },
      "source": [
        "### Obter a probabilidade do candidato passar\n",
        "Ou seja, acertar 5, 6, 7, 8, 9 ou 10 perguntas  \n",
        "Em outras palavras acertar no mínimo, 5 perguntas"
      ]
    },
    {
      "cell_type": "markdown",
      "metadata": {
        "id": "mgpyt5NOt-Yq"
      },
      "source": [
        "### $$P(acertar \\geq 5) = P(5) + P(6) + P(7) + P(8) + P(9) + P10)$$"
      ]
    },
    {
      "cell_type": "code",
      "execution_count": 15,
      "metadata": {
        "colab": {
          "base_uri": "https://localhost:8080/"
        },
        "id": "LgiBf2OAt-Yq",
        "outputId": "fd8e75e9-d9fb-42ae-b936-ed9003383857"
      },
      "outputs": [
        {
          "output_type": "execute_result",
          "data": {
            "text/plain": [
              "0.21312808006909492"
            ]
          },
          "metadata": {},
          "execution_count": 15
        }
      ],
      "source": [
        "binom.pmf(5, n, p) + \\\n",
        "binom.pmf(6, n, p) + \\\n",
        "binom.pmf(7, n, p) + \\\n",
        "binom.pmf(8, n, p) + \\\n",
        "binom.pmf(9, n, p) + \\\n",
        "binom.pmf(10, n, p)"
      ]
    },
    {
      "cell_type": "code",
      "execution_count": 16,
      "metadata": {
        "colab": {
          "base_uri": "https://localhost:8080/"
        },
        "id": "EIdlWl-Vt-Yq",
        "outputId": "bafe1b7e-a5be-46de-916a-572a143e9bc8"
      },
      "outputs": [
        {
          "output_type": "execute_result",
          "data": {
            "text/plain": [
              "0.21312808006909492"
            ]
          },
          "metadata": {},
          "execution_count": 16
        }
      ],
      "source": [
        "# Aceita listas, e devolve uma lista com os resultados em ordem\n",
        "binom.pmf([5, 6, 7, 8, 9, 10], n, p).sum()"
      ]
    },
    {
      "cell_type": "code",
      "execution_count": 17,
      "metadata": {
        "colab": {
          "base_uri": "https://localhost:8080/"
        },
        "id": "WwrzNpzdt-Yq",
        "outputId": "0ca7e35a-d0bb-4ac2-d7d7-2c15ea92796d"
      },
      "outputs": [
        {
          "output_type": "execute_result",
          "data": {
            "text/plain": [
              "0.7868719199309048"
            ]
          },
          "metadata": {},
          "execution_count": 17
        }
      ],
      "source": [
        "# mesma coisa que binom.pmf([0, 1, 2, 3, 4], n, p).sum()\n",
        "# Cumulative distribution function\n",
        "binom.cdf(4, n, p)"
      ]
    },
    {
      "cell_type": "markdown",
      "source": [
        "Queremos a chance do candidato acertar uma quantidade $> 4$ para isso vamos\n",
        "seguir a lógica abaixo  \n",
        "\n",
        "Quando calculamos o cdf usando a quantidade de maxima de sucessos sendo igual a quantidade de eventos ($k = n$  nesse caso é $k = n = 10$) sempre obtemos 1.0 como resultado, já que a chance é de 100% de conseguir um valor dentro de todas as possibilidades  \n",
        "\n",
        "$$binom.cdf(n, n, p) = 1.0$$\n",
        "\n",
        "Então podemos concluir que:  \n",
        "$$binom.cdf(4, n, p) + x = 1.0$$\n",
        "\n",
        "Então isso significa que:  \n",
        "$$1.0 - binom.cdf(4, n, p) = x$$\n",
        "\n",
        "Ou seja, o que queremos é:   \n",
        "\n",
        "**Definir a quantidade maxima de sucessos que considerariamos como fracasso.**  \n",
        "\n",
        "Nesse exemplo, a quantidade maxima de questões que o candidato pode acertar, \n",
        "e ainda sim não passar para a proxima etapa\n",
        "\n",
        "Então com os calculos acima conseguimos a soma das seguintes pmf:\n",
        "$$ S = [k+1, k+2, ...n]$$"
      ],
      "metadata": {
        "id": "Bp00D__QULhH"
      }
    },
    {
      "cell_type": "code",
      "execution_count": 18,
      "metadata": {
        "colab": {
          "base_uri": "https://localhost:8080/"
        },
        "id": "aQxWjnsgt-Yq",
        "outputId": "45221bba-ce96-4437-a08f-1911134749a2"
      },
      "outputs": [
        {
          "output_type": "execute_result",
          "data": {
            "text/plain": [
              "0.21312808006909523"
            ]
          },
          "metadata": {},
          "execution_count": 18
        }
      ],
      "source": [
        "# para uma quantidade maior que 4\n",
        "# mesma coisa que binom.pmf([5, 6, 7, 8, 9, 10], n, p).sum()\n",
        "1.0 - binom.cdf(4, n, p)"
      ]
    },
    {
      "cell_type": "code",
      "source": [
        "# Mesma coisa que 1.0 - binom.cdf(4, n, p), porém é mais preciso\n",
        "# Survival function\n",
        "binom.sf(4, n, p)"
      ],
      "metadata": {
        "colab": {
          "base_uri": "https://localhost:8080/"
        },
        "id": "ypBDw-N6Sb3_",
        "outputId": "e399d1f0-aa4f-4752-fe44-73f9d62c141b"
      },
      "execution_count": 19,
      "outputs": [
        {
          "output_type": "execute_result",
          "data": {
            "text/plain": [
              "0.21312808006909525"
            ]
          },
          "metadata": {},
          "execution_count": 19
        }
      ]
    },
    {
      "cell_type": "markdown",
      "source": [
        "### Exercicio 1\n",
        "\n",
        "Uma moeda, perfeitamente equilibrada, é lançada para o alto quatro vezes. Utilizando a distribuição binomial, obtenha a probabilidade de a moeda cair com a face coroa voltada para cima duas vezes"
      ],
      "metadata": {
        "id": "695rAHFeWrAn"
      }
    },
    {
      "cell_type": "code",
      "source": [
        "# Total de sucessos (vezes que queremos ter faces COROA voltada para cima)\n",
        "# k\n",
        "eventos_para_sucesso = 2 \n",
        "\n",
        "# Total de lançamentos\n",
        "# n\n",
        "numero_de_eventos = 4\n",
        "\n",
        "# Probabilidade de sair COROA em uma unica moeda\n",
        "# p\n",
        "chance_sucesso_evento_unico = 1 / 2  \n",
        "\n",
        "binom.pmf(eventos_para_sucesso, numero_de_eventos, chance_sucesso_evento_unico)"
      ],
      "metadata": {
        "colab": {
          "base_uri": "https://localhost:8080/"
        },
        "id": "Kvbn81LdWx9W",
        "outputId": "a1a9e4b2-0404-493b-e0b4-456457be3b95"
      },
      "execution_count": 20,
      "outputs": [
        {
          "output_type": "execute_result",
          "data": {
            "text/plain": [
              "0.375"
            ]
          },
          "metadata": {},
          "execution_count": 20
        }
      ]
    },
    {
      "cell_type": "markdown",
      "source": [
        "### Exercicio 2\n",
        "\n",
        "Um dado, perfeitamente equilibrado, é lançado para o alto dez vezes. Utilizando a distribuição binomial, obtenha a probabilidade de o dado cair com o número cinco voltado para cima pelo menos três vezes."
      ],
      "metadata": {
        "id": "q2HwWY_EW7-o"
      }
    },
    {
      "cell_type": "code",
      "source": [
        "# A quantidade maxima de sucessos para considerarmos os lançamentos uma falha\n",
        "max_sucessos_para_falha = 2\n",
        "\n",
        "# Total de lançamentos\n",
        "# n\n",
        "numero_de_eventos = 10\n",
        "\n",
        "# Probabilidade de sair o número 5 em um dado\n",
        "# p\n",
        "chance_sucesso_evento_unico = 1 / 6\n",
        "\n",
        "# 0.22477320212874055\n",
        "probabilidade = binom.sf(\n",
        "  max_sucessos_para_falha, \n",
        "  numero_de_eventos, \n",
        "  chance_sucesso_evento_unico\n",
        ")\n",
        "\n",
        "print(\"{0:.2%}\".format(probabilidade))"
      ],
      "metadata": {
        "colab": {
          "base_uri": "https://localhost:8080/"
        },
        "id": "iX_ha5G7XVFO",
        "outputId": "f3ab7efc-594e-4f8c-8264-52cbe355a60d"
      },
      "execution_count": 21,
      "outputs": [
        {
          "output_type": "stream",
          "name": "stdout",
          "text": [
            "22.48%\n"
          ]
        }
      ]
    },
    {
      "cell_type": "markdown",
      "metadata": {
        "id": "7hAZ4XkMG3Cx"
      },
      "source": [
        "## <font color='blue'>Exemplo: Gincana</font>"
      ]
    },
    {
      "cell_type": "markdown",
      "metadata": {
        "id": "l42alRhOG3Cy"
      },
      "source": [
        "Uma cidade do interior realiza todos os anos uma gincana para arrecadar fundos para o hospital da cidade. Na última gincana se sabe que a **proporção de participantes do sexo feminino foi de 60%**. **O total de equipes, com 12 integrantes, inscritas na gincana deste ano é de 30**. Com as informações acima responda: Quantas equipes deverão ser formadas por **8 mulheres**?"
      ]
    },
    {
      "cell_type": "markdown",
      "source": [
        "O que a questão quer saber é:\n",
        "\n",
        "Em média, quantas equipes das 30 devem ser formadas por 8 mulheres e 4 homens  \n",
        "\n",
        "Então, os nossos passos são:  \n",
        "1. A probabilidade de uma equipe de ser formada por 8 mulheres e 4 homens\n",
        "2. Calcular a quantidade média entre todas as 30 equipes de serem formadas por 8 mulheres\n"
      ],
      "metadata": {
        "id": "hbCbC8b2fQbQ"
      }
    },
    {
      "cell_type": "markdown",
      "metadata": {
        "id": "dqBGf6d7G3C0"
      },
      "source": [
        "### Solução"
      ]
    },
    {
      "cell_type": "code",
      "execution_count": 22,
      "metadata": {
        "colab": {
          "base_uri": "https://localhost:8080/"
        },
        "id": "Xw9b6ch3G3C1",
        "outputId": "9d683e91-b08d-4ec2-9589-4b28819e3aa8"
      },
      "outputs": [
        {
          "output_type": "execute_result",
          "data": {
            "text/plain": [
              "0.6"
            ]
          },
          "metadata": {},
          "execution_count": 22
        }
      ],
      "source": [
        "# Probabilidade de sucesso\n",
        "# chance de um participante ser mulher\n",
        "p = 0.6\n",
        "p"
      ]
    },
    {
      "cell_type": "code",
      "execution_count": 23,
      "metadata": {
        "colab": {
          "base_uri": "https://localhost:8080/"
        },
        "id": "R3-RaxP5G3C3",
        "outputId": "8b6881b8-56d7-4746-ce8a-6c58230bdaca"
      },
      "outputs": [
        {
          "output_type": "execute_result",
          "data": {
            "text/plain": [
              "12"
            ]
          },
          "metadata": {},
          "execution_count": 23
        }
      ],
      "source": [
        "# Total de eventos\n",
        "# total de pessoas em uma equipe\n",
        "n = 12\n",
        "n"
      ]
    },
    {
      "cell_type": "code",
      "execution_count": 24,
      "metadata": {
        "colab": {
          "base_uri": "https://localhost:8080/"
        },
        "id": "otBHHyD0G3C6",
        "outputId": "1eac2c95-c4f5-42fd-872b-c8f9e77aaa7e"
      },
      "outputs": [
        {
          "output_type": "execute_result",
          "data": {
            "text/plain": [
              "8"
            ]
          },
          "metadata": {},
          "execution_count": 24
        }
      ],
      "source": [
        "# Eventos sucedidos para sucesso\n",
        "# quantidade de mulheres esperadas em uma equipe\n",
        "k = 8\n",
        "k"
      ]
    },
    {
      "cell_type": "code",
      "execution_count": 25,
      "metadata": {
        "colab": {
          "base_uri": "https://localhost:8080/"
        },
        "id": "ZAoBvbQqG3C9",
        "outputId": "8485bdfa-afaf-4316-ae08-dd9b78b2c614"
      },
      "outputs": [
        {
          "output_type": "stream",
          "name": "stdout",
          "text": [
            "0.21284094\n"
          ]
        }
      ],
      "source": [
        "probabilidade = binom.pmf(k, n, p)\n",
        "print(\"%.8f\" % probabilidade)"
      ]
    },
    {
      "cell_type": "markdown",
      "source": [
        "Agora, utilizaremos a média, para calcular a quantidade média entre todas as 30 equipes de serem formadas pelas 8 mulheres\n",
        "$$\\mu = n \\times p$$\n",
        "ou seja\n",
        "$$\\mu = 30 \\times 0.21284094$$"
      ],
      "metadata": {
        "id": "ApUQKwJto9tP"
      }
    },
    {
      "cell_type": "code",
      "execution_count": 26,
      "metadata": {
        "colab": {
          "base_uri": "https://localhost:8080/"
        },
        "id": "Tg53uGL4G3DA",
        "outputId": "c7a475cb-b55b-44bb-9ac7-14db0853c55e"
      },
      "outputs": [
        {
          "output_type": "stream",
          "name": "stdout",
          "text": [
            "6.38522819\n"
          ]
        }
      ],
      "source": [
        "equipes = 30 * probabilidade \n",
        "print(\"%.8f\" % equipes)\n",
        "# 6.38522819 equipes em média vão ser formadas por 8 mulheres e 4 homens"
      ]
    },
    {
      "cell_type": "markdown",
      "source": [
        "## Exercício 1\n",
        "Suponha que a probabilidade de um casal ter filhos com olhos azuis seja de 22%. Em 50 famílias, com 3 crianças cada uma, quantas podemos esperar que tenham dois filhos com olhos azuis?"
      ],
      "metadata": {
        "id": "TO7sNSqwqcnX"
      }
    },
    {
      "cell_type": "code",
      "source": [
        "p = 0.22\n",
        "k = 2\n",
        "n = 3\n",
        "probabilidade = binom.pmf(k, n, p)\n",
        "filhos = 50 * probabilidade \n",
        "\n",
        "print(\"%.8f\" % filhos)"
      ],
      "metadata": {
        "colab": {
          "base_uri": "https://localhost:8080/"
        },
        "id": "8AO-Vk0HqcMz",
        "outputId": "679232a7-8b2a-405e-c6a1-5eaf4bc30f35"
      },
      "execution_count": 27,
      "outputs": [
        {
          "output_type": "stream",
          "name": "stdout",
          "text": [
            "5.66280000\n"
          ]
        }
      ]
    },
    {
      "cell_type": "markdown",
      "metadata": {
        "id": "49TiCQRvG3DC"
      },
      "source": [
        "---\n",
        "---"
      ]
    },
    {
      "cell_type": "markdown",
      "metadata": {
        "id": "X6bYonAZG3DE"
      },
      "source": [
        "## <font color=red>Problema</font>\n",
        "***"
      ]
    },
    {
      "cell_type": "markdown",
      "metadata": {
        "id": "Ccx-Bc9oG3DH"
      },
      "source": [
        "Um restaurante recebe em média **20 pedidos por hora**. Qual a chance de que, em determinada hora escolhida ao acaso, o restaurante receba **15 pedidos**?"
      ]
    },
    {
      "cell_type": "markdown",
      "metadata": {
        "id": "k-uV7bgsmand"
      },
      "source": [
        "## <font color=green>2.2 Distribuição Poisson</font>\n",
        "***"
      ]
    },
    {
      "cell_type": "markdown",
      "metadata": {
        "id": "H0jPtJICG3DM"
      },
      "source": [
        "É empregada para descrever o número de ocorrências em um intervalo de tempo ou espaço específico. Os eventos são caracterizados pela possibilidade de contagem dos ocorrências, mas a não possibilidade de contagem das não ocorrências.\n",
        "\n",
        "Como exemplos de processos onde podemos aplicar a distribuição de Poisson temos a determinação do número de clientes que entram em uma loja em determinada hora, o número de carros que chegam em um drive-thru de uma lanchonete na hora do almoço, a determinação do número de acidentes registrados em um trecho de estrada etc."
      ]
    },
    {
      "cell_type": "markdown",
      "metadata": {
        "id": "O_XqwANJG3DN"
      },
      "source": [
        "# $$P(k) = \\frac{e^{-\\mu}(\\mu)^k}{k!}$$\n",
        "\n",
        "Onde:\n",
        "\n",
        "$e$ = constante cujo valor aproximado é 2,718281828459045\n",
        "\n",
        "$\\mu$ = representa o número médio de ocorrências em um determinado intervalo de tempo ou espaço\n",
        "\n",
        "$k$ = número de ocorrências no intervalo desejado"
      ]
    },
    {
      "cell_type": "markdown",
      "metadata": {
        "id": "FqquU8wOG3DO"
      },
      "source": [
        "### Experimento Poisson"
      ]
    },
    {
      "cell_type": "markdown",
      "metadata": {
        "id": "ir2odEW3G3DO"
      },
      "source": [
        "1. **A probabilidade de uma ocorrência é a mesma em todo o intervalo observado.** No exemplo de buracos em uma estrada, a probabilidade de ter buracos por toda a estrada deve ser a mesma\n",
        "\n",
        "2. **O número de ocorrências em determinado intervalo é independente do número de ocorrências em outros intervalos.** No exemplo de buracos em uma estrada, a probabilidades de buracos não pode diminuir dependendo de quantos outros buracos existem em outra parte da estrada\n",
        "\n",
        "3. **A probabilidade de uma ocorrência é a mesma em intervalos de igual comprimento.** No exemplo de buracos em uma estrada, a chance de haver 100 buracos em um dado 1 km de estrada deve ser a mesma de ocorrer em qualquer outro 1 km"
      ]
    },
    {
      "cell_type": "markdown",
      "metadata": {
        "id": "2INlWMa0G3DP"
      },
      "source": [
        "### Média da distribuição Poisson"
      ]
    },
    {
      "cell_type": "markdown",
      "metadata": {
        "id": "xywTsniCG3DP"
      },
      "source": [
        "# $$\\mu$$"
      ]
    },
    {
      "cell_type": "markdown",
      "metadata": {
        "id": "7-Lh-LpfG3DQ"
      },
      "source": [
        "### Desvio padrão da distribuição Poisson"
      ]
    },
    {
      "cell_type": "markdown",
      "metadata": {
        "id": "61uStWUsG3DQ"
      },
      "source": [
        "# $$\\sigma = \\sqrt{\\mu}$$"
      ]
    },
    {
      "cell_type": "markdown",
      "metadata": {
        "id": "vniBmzIMG3DR"
      },
      "source": [
        "### Importando bibliotecas\n",
        "\n",
        "http://www.numpy.org/"
      ]
    },
    {
      "cell_type": "code",
      "execution_count": 28,
      "metadata": {
        "id": "w23fjVT-G3DS"
      },
      "outputs": [],
      "source": [
        "import numpy as np"
      ]
    },
    {
      "cell_type": "code",
      "execution_count": 29,
      "metadata": {
        "id": "rdNqMuFNG3DU",
        "colab": {
          "base_uri": "https://localhost:8080/"
        },
        "outputId": "4b3d3b10-b49c-4afd-b4d5-2a8115285d97"
      },
      "outputs": [
        {
          "output_type": "execute_result",
          "data": {
            "text/plain": [
              "2.718281828459045"
            ]
          },
          "metadata": {},
          "execution_count": 29
        }
      ],
      "source": [
        "np.e"
      ]
    },
    {
      "cell_type": "markdown",
      "metadata": {
        "id": "RKQWuVgMG3DW"
      },
      "source": [
        "## <font color='blue'>Exemplo: Delivery</font>"
      ]
    },
    {
      "cell_type": "markdown",
      "metadata": {
        "id": "ZKc__49bG3DX"
      },
      "source": [
        "Um restaurante recebe em média **20 pedidos por hora**. Qual a chance de que, em determinada hora escolhida ao acaso, o restaurante receba **15 pedidos**?"
      ]
    },
    {
      "cell_type": "markdown",
      "metadata": {
        "id": "W-MJ4XBkG3DX"
      },
      "source": [
        "### Qual o número médio de ocorrências por hora ($\\mu$)?"
      ]
    },
    {
      "cell_type": "code",
      "execution_count": 30,
      "metadata": {
        "id": "2fVfJxdSG3DY",
        "colab": {
          "base_uri": "https://localhost:8080/"
        },
        "outputId": "4a663e9c-ee2a-4f8f-a0db-8d741db3dc60"
      },
      "outputs": [
        {
          "output_type": "execute_result",
          "data": {
            "text/plain": [
              "20"
            ]
          },
          "metadata": {},
          "execution_count": 30
        }
      ],
      "source": [
        "media = 20\n",
        "media"
      ]
    },
    {
      "cell_type": "markdown",
      "metadata": {
        "id": "3SagRtPvG3Da"
      },
      "source": [
        "### Qual o número de ocorrências que queremos obter no período ($k$)?"
      ]
    },
    {
      "cell_type": "code",
      "execution_count": 31,
      "metadata": {
        "id": "yXB3QhWyG3Da",
        "colab": {
          "base_uri": "https://localhost:8080/"
        },
        "outputId": "c4cc0a1a-5426-46ce-b70a-8227b90df605"
      },
      "outputs": [
        {
          "output_type": "execute_result",
          "data": {
            "text/plain": [
              "15"
            ]
          },
          "metadata": {},
          "execution_count": 31
        }
      ],
      "source": [
        "eventos = 15\n",
        "eventos"
      ]
    },
    {
      "cell_type": "markdown",
      "metadata": {
        "id": "3wFh3lFCG3De"
      },
      "source": [
        "### Solução 1\n",
        "#### $$P(k) = \\frac{e^{-\\mu}(\\mu)^k}{k!}$$\n",
        "Onde:\n",
        "\n",
        "$e$ = constante cujo valor aproximado é 2,718281828459045\n",
        "\n",
        "$\\mu$ = representa o número médio de ocorrências em um determinado intervalo de tempo ou espaço\n",
        "\n",
        "$k$ = número de ocorrências no intervalo desejado"
      ]
    },
    {
      "cell_type": "code",
      "execution_count": 32,
      "metadata": {
        "id": "IEGO31WCG3Df",
        "colab": {
          "base_uri": "https://localhost:8080/"
        },
        "outputId": "34ee08bf-457a-4654-9b5a-e69a7ef91d0f"
      },
      "outputs": [
        {
          "output_type": "stream",
          "name": "stdout",
          "text": [
            "0.05164885\n"
          ]
        }
      ],
      "source": [
        "probabilidade = ((np.e**(-media))*((media)**eventos))/ np.math.factorial(eventos)\n",
        "print(\"%.8f\" % probabilidade)"
      ]
    },
    {
      "cell_type": "markdown",
      "metadata": {
        "id": "GoIBvH62G3Di"
      },
      "source": [
        "### Importando bibliotecas"
      ]
    },
    {
      "cell_type": "markdown",
      "metadata": {
        "id": "iFSF_9Y4G3Dj"
      },
      "source": [
        "https://docs.scipy.org/doc/scipy/reference/generated/scipy.stats.poisson.html"
      ]
    },
    {
      "cell_type": "code",
      "source": [
        "from scipy.stats import poisson"
      ],
      "metadata": {
        "id": "7HJNSJIZifTQ"
      },
      "execution_count": 33,
      "outputs": []
    },
    {
      "cell_type": "markdown",
      "metadata": {
        "id": "yAyXh0euG3Dk"
      },
      "source": [
        "### Solução 2"
      ]
    },
    {
      "cell_type": "code",
      "execution_count": 34,
      "metadata": {
        "id": "sNw4oCAyG3Dk",
        "colab": {
          "base_uri": "https://localhost:8080/"
        },
        "outputId": "b55f2feb-d11b-4454-f9ec-8067b1297416"
      },
      "outputs": [
        {
          "output_type": "stream",
          "name": "stdout",
          "text": [
            "0.05164885\n"
          ]
        }
      ],
      "source": [
        "probabilidade = poisson.pmf(eventos, media)\n",
        "print(\"%.8f\" % probabilidade)"
      ]
    },
    {
      "cell_type": "markdown",
      "source": [
        "### Exercício \n",
        "O número médio de clientes que entram em uma padaria por hora é igual a 20. Obtenha a probabilidade de, na próxima hora, entrarem exatamente 25 clientes.\n",
        "\n"
      ],
      "metadata": {
        "id": "PCdsvfWYjdNG"
      }
    },
    {
      "cell_type": "code",
      "source": [
        "media = 20\n",
        "k = 25\n",
        "\n",
        "probabilidade = poisson.pmf(k, media)\n",
        "print(\"{0:.2%}\".format(probabilidade))"
      ],
      "metadata": {
        "colab": {
          "base_uri": "https://localhost:8080/"
        },
        "id": "Jm0g-LCHjcom",
        "outputId": "849540fe-6ad6-4ea3-ec0a-d775333f3827"
      },
      "execution_count": 35,
      "outputs": [
        {
          "output_type": "stream",
          "name": "stdout",
          "text": [
            "4.46%\n"
          ]
        }
      ]
    },
    {
      "cell_type": "markdown",
      "source": [
        "## Poisson vs Binomial\n",
        "**A distribuição Binomial** nos permite encontrar a chance de uma quantidade especifica de eventos obterem \"sucesso\" dentro de uma sequencia de eventos em dentro de um periodo/espaço definido/limitado\n",
        "\n",
        "**A distribuição Poisson** nos permite encontrar a chance de uma contagem de eventos específica ocorrerem em um período/espaço aleatório, tendo apenas a média desses eventos dentro de um período/espaço indefinido/ilimitado\n",
        "\n",
        "Utilizamos a **distribuição Binomial** para contabilizar eventos boleanos(sucessos/falhas) em sequencias de espaço ou tempo discretos, ou seja, limitados\n",
        "\n",
        "Utilizamos a **distribuição Poisson** para contabilizar eventos em sequencias de espaço ou tempo discretos e aleatórios, ou seja, indefinidos ou ilimitados"
      ],
      "metadata": {
        "id": "4fvJ_2w4ZMlq"
      }
    },
    {
      "cell_type": "markdown",
      "metadata": {
        "id": "g3ng8tQFG3Do"
      },
      "source": [
        "---\n",
        "---"
      ]
    },
    {
      "cell_type": "markdown",
      "metadata": {
        "id": "tVPUT9kEG3Dp"
      },
      "source": [
        "## <font color=red>Problema</font>\n",
        "***"
      ]
    },
    {
      "cell_type": "markdown",
      "metadata": {
        "id": "j7zVDN0kG3Dq"
      },
      "source": [
        "Em um estudo sobre as alturas dos moradores de uma cidade verificou-se que o conjunto de dados segue uma **distribuição aproximadamente normal**, com **média 1,70** e **desvio padrão de 0,1**. Com estas informações obtenha o seguinte conjunto de probabilidades:\n",
        "\n",
        "> **A.** probabilidade de uma pessoa, selecionada ao acaso, ter menos de 1,80 metros.\n",
        "\n",
        "> **B.** probabilidade de uma pessoa, selecionada ao acaso, ter entre 1,60 metros e 1,80 metros.    \n",
        "\n",
        "> **C.** probabilidade de uma pessoa, selecionada ao acaso, ter mais de 1,90 metros."
      ]
    },
    {
      "cell_type": "markdown",
      "metadata": {
        "id": "AowcVaKqpvf2"
      },
      "source": [
        "## <font color=green>2.3 Distribuição Normal</font>\n",
        "***"
      ]
    },
    {
      "cell_type": "markdown",
      "metadata": {
        "id": "YOBD21hGG3Dw"
      },
      "source": [
        "A distribuição normal é uma das mais utilizadas em estatística. É uma distribuição contínua, onde a distribuição de frequências de uma variável quantitativa apresenta a forma de sino e é simétrica em relação a sua média."
      ]
    },
    {
      "cell_type": "markdown",
      "metadata": {
        "id": "kbPy2ORqqKJA"
      },
      "source": [
        "![Normal](https://caelum-online-public.s3.amazonaws.com/1178-estatistica-parte2/01/img001.png)"
      ]
    },
    {
      "cell_type": "markdown",
      "metadata": {
        "id": "J3eKESHTG3Dx"
      },
      "source": [
        "### Características importantes"
      ]
    },
    {
      "cell_type": "markdown",
      "metadata": {
        "id": "z8GxAzWZG3Dx"
      },
      "source": [
        "1. É simétrica em torno da média;\n",
        "\n",
        "2. A área sob a curva corresponde à proporção 1 ou 100%, ou seja, a chance de qualquer valor de $x$ de existir sob a curva é sempre 100%;\n",
        "\n",
        "3. As medidas de tendência central (média, mediana e moda) apresentam o mesmo valor;\n",
        "\n",
        "4. Os extremos da curva tendem ao infinito em ambas as direções e, teoricamente, jamais tocam o eixo $x$. Ou seja, nunca vai existir o 0 exemplos de qualquer valor de $x$;\n",
        "\n",
        "5. O desvio padrão define o achatamento e largura da distribuição. Curvas mais largas e mais achatadas apresentam valores maiores de desvio padrão;\n",
        "\n",
        "6. A distribuição é definida por sua média e desvio padrão. A Localização e a Largura da curva, respectivamente; \n",
        "\n",
        "7. **A probabilidade sempre será igual à área sob a curva, delimitada pelos limites inferior e superior**, ou seja, a integral definida utilizando os limites superiores e inferiores, sendo assim a chance de um valor existir dentro da curva depende de quão proximo da média os limites são e o tamanho da diferença entre eles."
      ]
    },
    {
      "cell_type": "markdown",
      "metadata": {
        "id": "hoWLlOiwG3Dy"
      },
      "source": [
        "# $$f(x) = \\frac{1}{\\sqrt{2\\pi\\sigma}}e^{-\\frac{1}{2}\\left(\\frac{x-\\mu}{\\sigma}\\right)^2}$$\n",
        "\n",
        "Onde:\n",
        "\n",
        "$x$ = variável normal\n",
        "\n",
        "$\\sigma$ = desvio padrão\n",
        "\n",
        "$\\mu$ = média"
      ]
    },
    {
      "cell_type": "markdown",
      "metadata": {
        "id": "8n03Z0VlG3Dz"
      },
      "source": [
        "A probabilidade é obtida a partir da área sob a curva, delimitada pelos limites inferior e superior especificados. Um exemplo pode ser visto na figura abaixo."
      ]
    },
    {
      "cell_type": "markdown",
      "metadata": {
        "id": "X1UgmFoxG3Dz"
      },
      "source": [
        "![alt text](https://caelum-online-public.s3.amazonaws.com/1178-estatistica-parte2/01/img002.png)\n"
      ]
    },
    {
      "cell_type": "markdown",
      "metadata": {
        "id": "rtKiApHLG3D0"
      },
      "source": [
        "Para obter a área acima basta calcular a integral da função para os intervalos determinados. Conforme equação abaixo:"
      ]
    },
    {
      "cell_type": "markdown",
      "metadata": {
        "id": "0r_9CbSOG3D0"
      },
      "source": [
        "# $$P(L_i<x<L_s) = \\int_{L_i}^{L_s}\\frac{1}{\\sqrt{2\\pi\\sigma}}e^{-\\frac{1}{2}\\left(\\frac{x-\\mu}{\\sigma}\\right)^2}$$\n",
        "\n",
        "Onde:\n",
        "\n",
        "$x$ = variável normal\n",
        "\n",
        "$\\sigma$ = desvio padrão\n",
        "\n",
        "$\\mu$ = média\n",
        "\n",
        "$L_i$ = limite inferior\n",
        "\n",
        "$L_s$ = limite superior\n",
        "\n"
      ]
    },
    {
      "cell_type": "markdown",
      "metadata": {
        "id": "qP-Ye-leG3D1"
      },
      "source": [
        "### Tabelas padronizadas"
      ]
    },
    {
      "cell_type": "markdown",
      "metadata": {
        "id": "Z1VnLK11G3D1"
      },
      "source": [
        "As tabelas padronizadas foram criadas para facilitar a obtenção dos valores das áreas sob a curva normal e eliminar a necessidade de solucionar integrais definidas.\n",
        "\n",
        "Para consultarmos os valores em uma tabela padronizada basta transformarmos nossa variável em uma variável padronizada $Z$.\n",
        "\n",
        "Esta variável $Z$ representa o afastamento em desvios padrões de um valor da variável original em relação à média."
      ]
    },
    {
      "cell_type": "markdown",
      "metadata": {
        "id": "HJcdgdsgG3D2"
      },
      "source": [
        "# $$Z = \\frac{x-\\mu}{\\sigma}$$\n",
        "\n",
        "Onde:\n",
        "\n",
        "$x$ = variável normal com média $\\mu$ e desvio padrão $\\sigma$\n",
        "\n",
        "$\\sigma$ = desvio padrão\n",
        "\n",
        "$\\mu$ = média"
      ]
    },
    {
      "cell_type": "markdown",
      "metadata": {
        "id": "hUrVKJH3G3D2"
      },
      "source": [
        "### Construindo tabela normal padronizada\n",
        "https://docs.scipy.org/doc/scipy/reference/generated/scipy.stats.norm.html"
      ]
    },
    {
      "cell_type": "code",
      "execution_count": 36,
      "metadata": {
        "colab": {
          "base_uri": "https://localhost:8080/",
          "height": 1000
        },
        "id": "7SudUNlcG3D4",
        "outputId": "df5e140c-3054-47f8-ab38-8f4945a95d64"
      },
      "outputs": [
        {
          "output_type": "execute_result",
          "data": {
            "text/plain": [
              "Z       0.00    0.01    0.02    0.03    0.04    0.05    0.06    0.07    0.08  \\\n",
              "0.00  0.5000  0.5040  0.5080  0.5120  0.5160  0.5199  0.5239  0.5279  0.5319   \n",
              "0.10  0.5398  0.5438  0.5478  0.5517  0.5557  0.5596  0.5636  0.5675  0.5714   \n",
              "0.20  0.5793  0.5832  0.5871  0.5910  0.5948  0.5987  0.6026  0.6064  0.6103   \n",
              "0.30  0.6179  0.6217  0.6255  0.6293  0.6331  0.6368  0.6406  0.6443  0.6480   \n",
              "0.40  0.6554  0.6591  0.6628  0.6664  0.6700  0.6736  0.6772  0.6808  0.6844   \n",
              "0.50  0.6915  0.6950  0.6985  0.7019  0.7054  0.7088  0.7123  0.7157  0.7190   \n",
              "0.60  0.7257  0.7291  0.7324  0.7357  0.7389  0.7422  0.7454  0.7486  0.7517   \n",
              "0.70  0.7580  0.7611  0.7642  0.7673  0.7704  0.7734  0.7764  0.7794  0.7823   \n",
              "0.80  0.7881  0.7910  0.7939  0.7967  0.7995  0.8023  0.8051  0.8078  0.8106   \n",
              "0.90  0.8159  0.8186  0.8212  0.8238  0.8264  0.8289  0.8315  0.8340  0.8365   \n",
              "1.00  0.8413  0.8438  0.8461  0.8485  0.8508  0.8531  0.8554  0.8577  0.8599   \n",
              "1.10  0.8643  0.8665  0.8686  0.8708  0.8729  0.8749  0.8770  0.8790  0.8810   \n",
              "1.20  0.8849  0.8869  0.8888  0.8907  0.8925  0.8944  0.8962  0.8980  0.8997   \n",
              "1.30  0.9032  0.9049  0.9066  0.9082  0.9099  0.9115  0.9131  0.9147  0.9162   \n",
              "1.40  0.9192  0.9207  0.9222  0.9236  0.9251  0.9265  0.9279  0.9292  0.9306   \n",
              "1.50  0.9332  0.9345  0.9357  0.9370  0.9382  0.9394  0.9406  0.9418  0.9429   \n",
              "1.60  0.9452  0.9463  0.9474  0.9484  0.9495  0.9505  0.9515  0.9525  0.9535   \n",
              "1.70  0.9554  0.9564  0.9573  0.9582  0.9591  0.9599  0.9608  0.9616  0.9625   \n",
              "1.80  0.9641  0.9649  0.9656  0.9664  0.9671  0.9678  0.9686  0.9693  0.9699   \n",
              "1.90  0.9713  0.9719  0.9726  0.9732  0.9738  0.9744  0.9750  0.9756  0.9761   \n",
              "2.00  0.9772  0.9778  0.9783  0.9788  0.9793  0.9798  0.9803  0.9808  0.9812   \n",
              "2.10  0.9821  0.9826  0.9830  0.9834  0.9838  0.9842  0.9846  0.9850  0.9854   \n",
              "2.20  0.9861  0.9864  0.9868  0.9871  0.9875  0.9878  0.9881  0.9884  0.9887   \n",
              "2.30  0.9893  0.9896  0.9898  0.9901  0.9904  0.9906  0.9909  0.9911  0.9913   \n",
              "2.40  0.9918  0.9920  0.9922  0.9925  0.9927  0.9929  0.9931  0.9932  0.9934   \n",
              "2.50  0.9938  0.9940  0.9941  0.9943  0.9945  0.9946  0.9948  0.9949  0.9951   \n",
              "2.60  0.9953  0.9955  0.9956  0.9957  0.9959  0.9960  0.9961  0.9962  0.9963   \n",
              "2.70  0.9965  0.9966  0.9967  0.9968  0.9969  0.9970  0.9971  0.9972  0.9973   \n",
              "2.80  0.9974  0.9975  0.9976  0.9977  0.9977  0.9978  0.9979  0.9979  0.9980   \n",
              "2.90  0.9981  0.9982  0.9982  0.9983  0.9984  0.9984  0.9985  0.9985  0.9986   \n",
              "3.00  0.9987  0.9987  0.9987  0.9988  0.9988  0.9989  0.9989  0.9989  0.9990   \n",
              "3.10  0.9990  0.9991  0.9991  0.9991  0.9992  0.9992  0.9992  0.9992  0.9993   \n",
              "3.20  0.9993  0.9993  0.9994  0.9994  0.9994  0.9994  0.9994  0.9995  0.9995   \n",
              "3.30  0.9995  0.9995  0.9995  0.9996  0.9996  0.9996  0.9996  0.9996  0.9996   \n",
              "3.40  0.9997  0.9997  0.9997  0.9997  0.9997  0.9997  0.9997  0.9997  0.9997   \n",
              "3.50  0.9998  0.9998  0.9998  0.9998  0.9998  0.9998  0.9998  0.9998  0.9998   \n",
              "3.60  0.9998  0.9998  0.9999  0.9999  0.9999  0.9999  0.9999  0.9999  0.9999   \n",
              "3.70  0.9999  0.9999  0.9999  0.9999  0.9999  0.9999  0.9999  0.9999  0.9999   \n",
              "3.80  0.9999  0.9999  0.9999  0.9999  0.9999  0.9999  0.9999  0.9999  0.9999   \n",
              "3.90  1.0000  1.0000  1.0000  1.0000  1.0000  1.0000  1.0000  1.0000  1.0000   \n",
              "\n",
              "Z       0.09  \n",
              "0.00  0.5359  \n",
              "0.10  0.5753  \n",
              "0.20  0.6141  \n",
              "0.30  0.6517  \n",
              "0.40  0.6879  \n",
              "0.50  0.7224  \n",
              "0.60  0.7549  \n",
              "0.70  0.7852  \n",
              "0.80  0.8133  \n",
              "0.90  0.8389  \n",
              "1.00  0.8621  \n",
              "1.10  0.8830  \n",
              "1.20  0.9015  \n",
              "1.30  0.9177  \n",
              "1.40  0.9319  \n",
              "1.50  0.9441  \n",
              "1.60  0.9545  \n",
              "1.70  0.9633  \n",
              "1.80  0.9706  \n",
              "1.90  0.9767  \n",
              "2.00  0.9817  \n",
              "2.10  0.9857  \n",
              "2.20  0.9890  \n",
              "2.30  0.9916  \n",
              "2.40  0.9936  \n",
              "2.50  0.9952  \n",
              "2.60  0.9964  \n",
              "2.70  0.9974  \n",
              "2.80  0.9981  \n",
              "2.90  0.9986  \n",
              "3.00  0.9990  \n",
              "3.10  0.9993  \n",
              "3.20  0.9995  \n",
              "3.30  0.9997  \n",
              "3.40  0.9998  \n",
              "3.50  0.9998  \n",
              "3.60  0.9999  \n",
              "3.70  0.9999  \n",
              "3.80  0.9999  \n",
              "3.90  1.0000  "
            ],
            "text/html": [
              "\n",
              "  <div id=\"df-95e0f364-7c9d-4b67-847a-787e317e9ce6\">\n",
              "    <div class=\"colab-df-container\">\n",
              "      <div>\n",
              "<style scoped>\n",
              "    .dataframe tbody tr th:only-of-type {\n",
              "        vertical-align: middle;\n",
              "    }\n",
              "\n",
              "    .dataframe tbody tr th {\n",
              "        vertical-align: top;\n",
              "    }\n",
              "\n",
              "    .dataframe thead th {\n",
              "        text-align: right;\n",
              "    }\n",
              "</style>\n",
              "<table border=\"1\" class=\"dataframe\">\n",
              "  <thead>\n",
              "    <tr style=\"text-align: right;\">\n",
              "      <th>Z</th>\n",
              "      <th>0.00</th>\n",
              "      <th>0.01</th>\n",
              "      <th>0.02</th>\n",
              "      <th>0.03</th>\n",
              "      <th>0.04</th>\n",
              "      <th>0.05</th>\n",
              "      <th>0.06</th>\n",
              "      <th>0.07</th>\n",
              "      <th>0.08</th>\n",
              "      <th>0.09</th>\n",
              "    </tr>\n",
              "  </thead>\n",
              "  <tbody>\n",
              "    <tr>\n",
              "      <th>0.00</th>\n",
              "      <td>0.5000</td>\n",
              "      <td>0.5040</td>\n",
              "      <td>0.5080</td>\n",
              "      <td>0.5120</td>\n",
              "      <td>0.5160</td>\n",
              "      <td>0.5199</td>\n",
              "      <td>0.5239</td>\n",
              "      <td>0.5279</td>\n",
              "      <td>0.5319</td>\n",
              "      <td>0.5359</td>\n",
              "    </tr>\n",
              "    <tr>\n",
              "      <th>0.10</th>\n",
              "      <td>0.5398</td>\n",
              "      <td>0.5438</td>\n",
              "      <td>0.5478</td>\n",
              "      <td>0.5517</td>\n",
              "      <td>0.5557</td>\n",
              "      <td>0.5596</td>\n",
              "      <td>0.5636</td>\n",
              "      <td>0.5675</td>\n",
              "      <td>0.5714</td>\n",
              "      <td>0.5753</td>\n",
              "    </tr>\n",
              "    <tr>\n",
              "      <th>0.20</th>\n",
              "      <td>0.5793</td>\n",
              "      <td>0.5832</td>\n",
              "      <td>0.5871</td>\n",
              "      <td>0.5910</td>\n",
              "      <td>0.5948</td>\n",
              "      <td>0.5987</td>\n",
              "      <td>0.6026</td>\n",
              "      <td>0.6064</td>\n",
              "      <td>0.6103</td>\n",
              "      <td>0.6141</td>\n",
              "    </tr>\n",
              "    <tr>\n",
              "      <th>0.30</th>\n",
              "      <td>0.6179</td>\n",
              "      <td>0.6217</td>\n",
              "      <td>0.6255</td>\n",
              "      <td>0.6293</td>\n",
              "      <td>0.6331</td>\n",
              "      <td>0.6368</td>\n",
              "      <td>0.6406</td>\n",
              "      <td>0.6443</td>\n",
              "      <td>0.6480</td>\n",
              "      <td>0.6517</td>\n",
              "    </tr>\n",
              "    <tr>\n",
              "      <th>0.40</th>\n",
              "      <td>0.6554</td>\n",
              "      <td>0.6591</td>\n",
              "      <td>0.6628</td>\n",
              "      <td>0.6664</td>\n",
              "      <td>0.6700</td>\n",
              "      <td>0.6736</td>\n",
              "      <td>0.6772</td>\n",
              "      <td>0.6808</td>\n",
              "      <td>0.6844</td>\n",
              "      <td>0.6879</td>\n",
              "    </tr>\n",
              "    <tr>\n",
              "      <th>0.50</th>\n",
              "      <td>0.6915</td>\n",
              "      <td>0.6950</td>\n",
              "      <td>0.6985</td>\n",
              "      <td>0.7019</td>\n",
              "      <td>0.7054</td>\n",
              "      <td>0.7088</td>\n",
              "      <td>0.7123</td>\n",
              "      <td>0.7157</td>\n",
              "      <td>0.7190</td>\n",
              "      <td>0.7224</td>\n",
              "    </tr>\n",
              "    <tr>\n",
              "      <th>0.60</th>\n",
              "      <td>0.7257</td>\n",
              "      <td>0.7291</td>\n",
              "      <td>0.7324</td>\n",
              "      <td>0.7357</td>\n",
              "      <td>0.7389</td>\n",
              "      <td>0.7422</td>\n",
              "      <td>0.7454</td>\n",
              "      <td>0.7486</td>\n",
              "      <td>0.7517</td>\n",
              "      <td>0.7549</td>\n",
              "    </tr>\n",
              "    <tr>\n",
              "      <th>0.70</th>\n",
              "      <td>0.7580</td>\n",
              "      <td>0.7611</td>\n",
              "      <td>0.7642</td>\n",
              "      <td>0.7673</td>\n",
              "      <td>0.7704</td>\n",
              "      <td>0.7734</td>\n",
              "      <td>0.7764</td>\n",
              "      <td>0.7794</td>\n",
              "      <td>0.7823</td>\n",
              "      <td>0.7852</td>\n",
              "    </tr>\n",
              "    <tr>\n",
              "      <th>0.80</th>\n",
              "      <td>0.7881</td>\n",
              "      <td>0.7910</td>\n",
              "      <td>0.7939</td>\n",
              "      <td>0.7967</td>\n",
              "      <td>0.7995</td>\n",
              "      <td>0.8023</td>\n",
              "      <td>0.8051</td>\n",
              "      <td>0.8078</td>\n",
              "      <td>0.8106</td>\n",
              "      <td>0.8133</td>\n",
              "    </tr>\n",
              "    <tr>\n",
              "      <th>0.90</th>\n",
              "      <td>0.8159</td>\n",
              "      <td>0.8186</td>\n",
              "      <td>0.8212</td>\n",
              "      <td>0.8238</td>\n",
              "      <td>0.8264</td>\n",
              "      <td>0.8289</td>\n",
              "      <td>0.8315</td>\n",
              "      <td>0.8340</td>\n",
              "      <td>0.8365</td>\n",
              "      <td>0.8389</td>\n",
              "    </tr>\n",
              "    <tr>\n",
              "      <th>1.00</th>\n",
              "      <td>0.8413</td>\n",
              "      <td>0.8438</td>\n",
              "      <td>0.8461</td>\n",
              "      <td>0.8485</td>\n",
              "      <td>0.8508</td>\n",
              "      <td>0.8531</td>\n",
              "      <td>0.8554</td>\n",
              "      <td>0.8577</td>\n",
              "      <td>0.8599</td>\n",
              "      <td>0.8621</td>\n",
              "    </tr>\n",
              "    <tr>\n",
              "      <th>1.10</th>\n",
              "      <td>0.8643</td>\n",
              "      <td>0.8665</td>\n",
              "      <td>0.8686</td>\n",
              "      <td>0.8708</td>\n",
              "      <td>0.8729</td>\n",
              "      <td>0.8749</td>\n",
              "      <td>0.8770</td>\n",
              "      <td>0.8790</td>\n",
              "      <td>0.8810</td>\n",
              "      <td>0.8830</td>\n",
              "    </tr>\n",
              "    <tr>\n",
              "      <th>1.20</th>\n",
              "      <td>0.8849</td>\n",
              "      <td>0.8869</td>\n",
              "      <td>0.8888</td>\n",
              "      <td>0.8907</td>\n",
              "      <td>0.8925</td>\n",
              "      <td>0.8944</td>\n",
              "      <td>0.8962</td>\n",
              "      <td>0.8980</td>\n",
              "      <td>0.8997</td>\n",
              "      <td>0.9015</td>\n",
              "    </tr>\n",
              "    <tr>\n",
              "      <th>1.30</th>\n",
              "      <td>0.9032</td>\n",
              "      <td>0.9049</td>\n",
              "      <td>0.9066</td>\n",
              "      <td>0.9082</td>\n",
              "      <td>0.9099</td>\n",
              "      <td>0.9115</td>\n",
              "      <td>0.9131</td>\n",
              "      <td>0.9147</td>\n",
              "      <td>0.9162</td>\n",
              "      <td>0.9177</td>\n",
              "    </tr>\n",
              "    <tr>\n",
              "      <th>1.40</th>\n",
              "      <td>0.9192</td>\n",
              "      <td>0.9207</td>\n",
              "      <td>0.9222</td>\n",
              "      <td>0.9236</td>\n",
              "      <td>0.9251</td>\n",
              "      <td>0.9265</td>\n",
              "      <td>0.9279</td>\n",
              "      <td>0.9292</td>\n",
              "      <td>0.9306</td>\n",
              "      <td>0.9319</td>\n",
              "    </tr>\n",
              "    <tr>\n",
              "      <th>1.50</th>\n",
              "      <td>0.9332</td>\n",
              "      <td>0.9345</td>\n",
              "      <td>0.9357</td>\n",
              "      <td>0.9370</td>\n",
              "      <td>0.9382</td>\n",
              "      <td>0.9394</td>\n",
              "      <td>0.9406</td>\n",
              "      <td>0.9418</td>\n",
              "      <td>0.9429</td>\n",
              "      <td>0.9441</td>\n",
              "    </tr>\n",
              "    <tr>\n",
              "      <th>1.60</th>\n",
              "      <td>0.9452</td>\n",
              "      <td>0.9463</td>\n",
              "      <td>0.9474</td>\n",
              "      <td>0.9484</td>\n",
              "      <td>0.9495</td>\n",
              "      <td>0.9505</td>\n",
              "      <td>0.9515</td>\n",
              "      <td>0.9525</td>\n",
              "      <td>0.9535</td>\n",
              "      <td>0.9545</td>\n",
              "    </tr>\n",
              "    <tr>\n",
              "      <th>1.70</th>\n",
              "      <td>0.9554</td>\n",
              "      <td>0.9564</td>\n",
              "      <td>0.9573</td>\n",
              "      <td>0.9582</td>\n",
              "      <td>0.9591</td>\n",
              "      <td>0.9599</td>\n",
              "      <td>0.9608</td>\n",
              "      <td>0.9616</td>\n",
              "      <td>0.9625</td>\n",
              "      <td>0.9633</td>\n",
              "    </tr>\n",
              "    <tr>\n",
              "      <th>1.80</th>\n",
              "      <td>0.9641</td>\n",
              "      <td>0.9649</td>\n",
              "      <td>0.9656</td>\n",
              "      <td>0.9664</td>\n",
              "      <td>0.9671</td>\n",
              "      <td>0.9678</td>\n",
              "      <td>0.9686</td>\n",
              "      <td>0.9693</td>\n",
              "      <td>0.9699</td>\n",
              "      <td>0.9706</td>\n",
              "    </tr>\n",
              "    <tr>\n",
              "      <th>1.90</th>\n",
              "      <td>0.9713</td>\n",
              "      <td>0.9719</td>\n",
              "      <td>0.9726</td>\n",
              "      <td>0.9732</td>\n",
              "      <td>0.9738</td>\n",
              "      <td>0.9744</td>\n",
              "      <td>0.9750</td>\n",
              "      <td>0.9756</td>\n",
              "      <td>0.9761</td>\n",
              "      <td>0.9767</td>\n",
              "    </tr>\n",
              "    <tr>\n",
              "      <th>2.00</th>\n",
              "      <td>0.9772</td>\n",
              "      <td>0.9778</td>\n",
              "      <td>0.9783</td>\n",
              "      <td>0.9788</td>\n",
              "      <td>0.9793</td>\n",
              "      <td>0.9798</td>\n",
              "      <td>0.9803</td>\n",
              "      <td>0.9808</td>\n",
              "      <td>0.9812</td>\n",
              "      <td>0.9817</td>\n",
              "    </tr>\n",
              "    <tr>\n",
              "      <th>2.10</th>\n",
              "      <td>0.9821</td>\n",
              "      <td>0.9826</td>\n",
              "      <td>0.9830</td>\n",
              "      <td>0.9834</td>\n",
              "      <td>0.9838</td>\n",
              "      <td>0.9842</td>\n",
              "      <td>0.9846</td>\n",
              "      <td>0.9850</td>\n",
              "      <td>0.9854</td>\n",
              "      <td>0.9857</td>\n",
              "    </tr>\n",
              "    <tr>\n",
              "      <th>2.20</th>\n",
              "      <td>0.9861</td>\n",
              "      <td>0.9864</td>\n",
              "      <td>0.9868</td>\n",
              "      <td>0.9871</td>\n",
              "      <td>0.9875</td>\n",
              "      <td>0.9878</td>\n",
              "      <td>0.9881</td>\n",
              "      <td>0.9884</td>\n",
              "      <td>0.9887</td>\n",
              "      <td>0.9890</td>\n",
              "    </tr>\n",
              "    <tr>\n",
              "      <th>2.30</th>\n",
              "      <td>0.9893</td>\n",
              "      <td>0.9896</td>\n",
              "      <td>0.9898</td>\n",
              "      <td>0.9901</td>\n",
              "      <td>0.9904</td>\n",
              "      <td>0.9906</td>\n",
              "      <td>0.9909</td>\n",
              "      <td>0.9911</td>\n",
              "      <td>0.9913</td>\n",
              "      <td>0.9916</td>\n",
              "    </tr>\n",
              "    <tr>\n",
              "      <th>2.40</th>\n",
              "      <td>0.9918</td>\n",
              "      <td>0.9920</td>\n",
              "      <td>0.9922</td>\n",
              "      <td>0.9925</td>\n",
              "      <td>0.9927</td>\n",
              "      <td>0.9929</td>\n",
              "      <td>0.9931</td>\n",
              "      <td>0.9932</td>\n",
              "      <td>0.9934</td>\n",
              "      <td>0.9936</td>\n",
              "    </tr>\n",
              "    <tr>\n",
              "      <th>2.50</th>\n",
              "      <td>0.9938</td>\n",
              "      <td>0.9940</td>\n",
              "      <td>0.9941</td>\n",
              "      <td>0.9943</td>\n",
              "      <td>0.9945</td>\n",
              "      <td>0.9946</td>\n",
              "      <td>0.9948</td>\n",
              "      <td>0.9949</td>\n",
              "      <td>0.9951</td>\n",
              "      <td>0.9952</td>\n",
              "    </tr>\n",
              "    <tr>\n",
              "      <th>2.60</th>\n",
              "      <td>0.9953</td>\n",
              "      <td>0.9955</td>\n",
              "      <td>0.9956</td>\n",
              "      <td>0.9957</td>\n",
              "      <td>0.9959</td>\n",
              "      <td>0.9960</td>\n",
              "      <td>0.9961</td>\n",
              "      <td>0.9962</td>\n",
              "      <td>0.9963</td>\n",
              "      <td>0.9964</td>\n",
              "    </tr>\n",
              "    <tr>\n",
              "      <th>2.70</th>\n",
              "      <td>0.9965</td>\n",
              "      <td>0.9966</td>\n",
              "      <td>0.9967</td>\n",
              "      <td>0.9968</td>\n",
              "      <td>0.9969</td>\n",
              "      <td>0.9970</td>\n",
              "      <td>0.9971</td>\n",
              "      <td>0.9972</td>\n",
              "      <td>0.9973</td>\n",
              "      <td>0.9974</td>\n",
              "    </tr>\n",
              "    <tr>\n",
              "      <th>2.80</th>\n",
              "      <td>0.9974</td>\n",
              "      <td>0.9975</td>\n",
              "      <td>0.9976</td>\n",
              "      <td>0.9977</td>\n",
              "      <td>0.9977</td>\n",
              "      <td>0.9978</td>\n",
              "      <td>0.9979</td>\n",
              "      <td>0.9979</td>\n",
              "      <td>0.9980</td>\n",
              "      <td>0.9981</td>\n",
              "    </tr>\n",
              "    <tr>\n",
              "      <th>2.90</th>\n",
              "      <td>0.9981</td>\n",
              "      <td>0.9982</td>\n",
              "      <td>0.9982</td>\n",
              "      <td>0.9983</td>\n",
              "      <td>0.9984</td>\n",
              "      <td>0.9984</td>\n",
              "      <td>0.9985</td>\n",
              "      <td>0.9985</td>\n",
              "      <td>0.9986</td>\n",
              "      <td>0.9986</td>\n",
              "    </tr>\n",
              "    <tr>\n",
              "      <th>3.00</th>\n",
              "      <td>0.9987</td>\n",
              "      <td>0.9987</td>\n",
              "      <td>0.9987</td>\n",
              "      <td>0.9988</td>\n",
              "      <td>0.9988</td>\n",
              "      <td>0.9989</td>\n",
              "      <td>0.9989</td>\n",
              "      <td>0.9989</td>\n",
              "      <td>0.9990</td>\n",
              "      <td>0.9990</td>\n",
              "    </tr>\n",
              "    <tr>\n",
              "      <th>3.10</th>\n",
              "      <td>0.9990</td>\n",
              "      <td>0.9991</td>\n",
              "      <td>0.9991</td>\n",
              "      <td>0.9991</td>\n",
              "      <td>0.9992</td>\n",
              "      <td>0.9992</td>\n",
              "      <td>0.9992</td>\n",
              "      <td>0.9992</td>\n",
              "      <td>0.9993</td>\n",
              "      <td>0.9993</td>\n",
              "    </tr>\n",
              "    <tr>\n",
              "      <th>3.20</th>\n",
              "      <td>0.9993</td>\n",
              "      <td>0.9993</td>\n",
              "      <td>0.9994</td>\n",
              "      <td>0.9994</td>\n",
              "      <td>0.9994</td>\n",
              "      <td>0.9994</td>\n",
              "      <td>0.9994</td>\n",
              "      <td>0.9995</td>\n",
              "      <td>0.9995</td>\n",
              "      <td>0.9995</td>\n",
              "    </tr>\n",
              "    <tr>\n",
              "      <th>3.30</th>\n",
              "      <td>0.9995</td>\n",
              "      <td>0.9995</td>\n",
              "      <td>0.9995</td>\n",
              "      <td>0.9996</td>\n",
              "      <td>0.9996</td>\n",
              "      <td>0.9996</td>\n",
              "      <td>0.9996</td>\n",
              "      <td>0.9996</td>\n",
              "      <td>0.9996</td>\n",
              "      <td>0.9997</td>\n",
              "    </tr>\n",
              "    <tr>\n",
              "      <th>3.40</th>\n",
              "      <td>0.9997</td>\n",
              "      <td>0.9997</td>\n",
              "      <td>0.9997</td>\n",
              "      <td>0.9997</td>\n",
              "      <td>0.9997</td>\n",
              "      <td>0.9997</td>\n",
              "      <td>0.9997</td>\n",
              "      <td>0.9997</td>\n",
              "      <td>0.9997</td>\n",
              "      <td>0.9998</td>\n",
              "    </tr>\n",
              "    <tr>\n",
              "      <th>3.50</th>\n",
              "      <td>0.9998</td>\n",
              "      <td>0.9998</td>\n",
              "      <td>0.9998</td>\n",
              "      <td>0.9998</td>\n",
              "      <td>0.9998</td>\n",
              "      <td>0.9998</td>\n",
              "      <td>0.9998</td>\n",
              "      <td>0.9998</td>\n",
              "      <td>0.9998</td>\n",
              "      <td>0.9998</td>\n",
              "    </tr>\n",
              "    <tr>\n",
              "      <th>3.60</th>\n",
              "      <td>0.9998</td>\n",
              "      <td>0.9998</td>\n",
              "      <td>0.9999</td>\n",
              "      <td>0.9999</td>\n",
              "      <td>0.9999</td>\n",
              "      <td>0.9999</td>\n",
              "      <td>0.9999</td>\n",
              "      <td>0.9999</td>\n",
              "      <td>0.9999</td>\n",
              "      <td>0.9999</td>\n",
              "    </tr>\n",
              "    <tr>\n",
              "      <th>3.70</th>\n",
              "      <td>0.9999</td>\n",
              "      <td>0.9999</td>\n",
              "      <td>0.9999</td>\n",
              "      <td>0.9999</td>\n",
              "      <td>0.9999</td>\n",
              "      <td>0.9999</td>\n",
              "      <td>0.9999</td>\n",
              "      <td>0.9999</td>\n",
              "      <td>0.9999</td>\n",
              "      <td>0.9999</td>\n",
              "    </tr>\n",
              "    <tr>\n",
              "      <th>3.80</th>\n",
              "      <td>0.9999</td>\n",
              "      <td>0.9999</td>\n",
              "      <td>0.9999</td>\n",
              "      <td>0.9999</td>\n",
              "      <td>0.9999</td>\n",
              "      <td>0.9999</td>\n",
              "      <td>0.9999</td>\n",
              "      <td>0.9999</td>\n",
              "      <td>0.9999</td>\n",
              "      <td>0.9999</td>\n",
              "    </tr>\n",
              "    <tr>\n",
              "      <th>3.90</th>\n",
              "      <td>1.0000</td>\n",
              "      <td>1.0000</td>\n",
              "      <td>1.0000</td>\n",
              "      <td>1.0000</td>\n",
              "      <td>1.0000</td>\n",
              "      <td>1.0000</td>\n",
              "      <td>1.0000</td>\n",
              "      <td>1.0000</td>\n",
              "      <td>1.0000</td>\n",
              "      <td>1.0000</td>\n",
              "    </tr>\n",
              "  </tbody>\n",
              "</table>\n",
              "</div>\n",
              "      <button class=\"colab-df-convert\" onclick=\"convertToInteractive('df-95e0f364-7c9d-4b67-847a-787e317e9ce6')\"\n",
              "              title=\"Convert this dataframe to an interactive table.\"\n",
              "              style=\"display:none;\">\n",
              "        \n",
              "  <svg xmlns=\"http://www.w3.org/2000/svg\" height=\"24px\"viewBox=\"0 0 24 24\"\n",
              "       width=\"24px\">\n",
              "    <path d=\"M0 0h24v24H0V0z\" fill=\"none\"/>\n",
              "    <path d=\"M18.56 5.44l.94 2.06.94-2.06 2.06-.94-2.06-.94-.94-2.06-.94 2.06-2.06.94zm-11 1L8.5 8.5l.94-2.06 2.06-.94-2.06-.94L8.5 2.5l-.94 2.06-2.06.94zm10 10l.94 2.06.94-2.06 2.06-.94-2.06-.94-.94-2.06-.94 2.06-2.06.94z\"/><path d=\"M17.41 7.96l-1.37-1.37c-.4-.4-.92-.59-1.43-.59-.52 0-1.04.2-1.43.59L10.3 9.45l-7.72 7.72c-.78.78-.78 2.05 0 2.83L4 21.41c.39.39.9.59 1.41.59.51 0 1.02-.2 1.41-.59l7.78-7.78 2.81-2.81c.8-.78.8-2.07 0-2.86zM5.41 20L4 18.59l7.72-7.72 1.47 1.35L5.41 20z\"/>\n",
              "  </svg>\n",
              "      </button>\n",
              "      \n",
              "  <style>\n",
              "    .colab-df-container {\n",
              "      display:flex;\n",
              "      flex-wrap:wrap;\n",
              "      gap: 12px;\n",
              "    }\n",
              "\n",
              "    .colab-df-convert {\n",
              "      background-color: #E8F0FE;\n",
              "      border: none;\n",
              "      border-radius: 50%;\n",
              "      cursor: pointer;\n",
              "      display: none;\n",
              "      fill: #1967D2;\n",
              "      height: 32px;\n",
              "      padding: 0 0 0 0;\n",
              "      width: 32px;\n",
              "    }\n",
              "\n",
              "    .colab-df-convert:hover {\n",
              "      background-color: #E2EBFA;\n",
              "      box-shadow: 0px 1px 2px rgba(60, 64, 67, 0.3), 0px 1px 3px 1px rgba(60, 64, 67, 0.15);\n",
              "      fill: #174EA6;\n",
              "    }\n",
              "\n",
              "    [theme=dark] .colab-df-convert {\n",
              "      background-color: #3B4455;\n",
              "      fill: #D2E3FC;\n",
              "    }\n",
              "\n",
              "    [theme=dark] .colab-df-convert:hover {\n",
              "      background-color: #434B5C;\n",
              "      box-shadow: 0px 1px 3px 1px rgba(0, 0, 0, 0.15);\n",
              "      filter: drop-shadow(0px 1px 2px rgba(0, 0, 0, 0.3));\n",
              "      fill: #FFFFFF;\n",
              "    }\n",
              "  </style>\n",
              "\n",
              "      <script>\n",
              "        const buttonEl =\n",
              "          document.querySelector('#df-95e0f364-7c9d-4b67-847a-787e317e9ce6 button.colab-df-convert');\n",
              "        buttonEl.style.display =\n",
              "          google.colab.kernel.accessAllowed ? 'block' : 'none';\n",
              "\n",
              "        async function convertToInteractive(key) {\n",
              "          const element = document.querySelector('#df-95e0f364-7c9d-4b67-847a-787e317e9ce6');\n",
              "          const dataTable =\n",
              "            await google.colab.kernel.invokeFunction('convertToInteractive',\n",
              "                                                     [key], {});\n",
              "          if (!dataTable) return;\n",
              "\n",
              "          const docLinkHtml = 'Like what you see? Visit the ' +\n",
              "            '<a target=\"_blank\" href=https://colab.research.google.com/notebooks/data_table.ipynb>data table notebook</a>'\n",
              "            + ' to learn more about interactive tables.';\n",
              "          element.innerHTML = '';\n",
              "          dataTable['output_type'] = 'display_data';\n",
              "          await google.colab.output.renderOutput(dataTable, element);\n",
              "          const docLink = document.createElement('div');\n",
              "          docLink.innerHTML = docLinkHtml;\n",
              "          element.appendChild(docLink);\n",
              "        }\n",
              "      </script>\n",
              "    </div>\n",
              "  </div>\n",
              "  "
            ]
          },
          "metadata": {},
          "execution_count": 36
        }
      ],
      "source": [
        "import pandas as pd\n",
        "import numpy as np\n",
        "from scipy.stats import norm\n",
        "\n",
        "tabela_normal_padronizada = pd.DataFrame(\n",
        "    [], \n",
        "    index=[\"{0:0.2f}\".format(i / 100) for i in range(0, 400, 10)],\n",
        "    columns = [\"{0:0.2f}\".format(i / 100) for i in range(0, 10)])\n",
        "\n",
        "for index in tabela_normal_padronizada.index:\n",
        "    for column in tabela_normal_padronizada.columns:\n",
        "        Z = np.round(float(index) + float(column), 2)\n",
        "        tabela_normal_padronizada.loc[index, column] = \"{0:0.4f}\".format(norm.cdf(Z))\n",
        "\n",
        "tabela_normal_padronizada.rename_axis('Z', axis = 'columns', inplace = True)\n",
        "\n",
        "tabela_normal_padronizada"
      ]
    },
    {
      "cell_type": "markdown",
      "metadata": {
        "id": "XHYeMaN3G3D9"
      },
      "source": [
        "<img src='https://caelum-online-public.s3.amazonaws.com/1178-estatistica-parte2/01/img003.png' width='250px'>\n",
        "\n",
        "A tabela acima fornece a área sob a curva entre $-\\infty$ e $Z$ desvios padrão acima da média. Lembrando que por se tratar de valores padronizados temos $\\mu = 0$.\n",
        "\n",
        "Algumas tabelas podem fornecer a área sob a curva entre a média ($\\mu$) e $Z$, nesses casos, para chegar nos valores das tabelas acima, é apenas somar $0.5$\n",
        "\n",
        "A tabela acima utiliza a CDF (cumulative distribuition function) para calcular a de um ponto que escolhermos ($Z$) de estar na area de uma curva que vai de $-\\infty$ até $Z$\n",
        "\n",
        "A $\\mu$ padrão da CDF é 0 e a $\\sigma$ padrão é 1\n",
        "\n",
        "$Z$ é apenas uma ferramenta para nos mostrar quanto sd (standard deviation points) estamos da média, então podemos utlizar-lo para calcular a probabilidade, sendo um valor positivo significa que $X$ é maior que a média\n",
        "\n",
        "A tabela toda representa apenas um valor, as linhas são somadas com as colunas, ou seja, a linha 3.10 na coluna 0.02 é igual à distancia $Z = 3.12$ \n",
        "\n",
        "O valor de $Z$ chega a 1 pois estamos colocando valores arredondados, então consideraremos como 1 um valor maior que 0.9999, mesmo sendo impossível chegar a 100% já que a curva é infinita\n",
        "\n",
        "Esse valor chega tão próximo a 1 tão rápido devida à distribuição padrão ser pequena"
      ]
    },
    {
      "cell_type": "markdown",
      "metadata": {
        "id": "Bs-KyZAJG3D-"
      },
      "source": [
        "## <font color='blue'>Exemplo: Qual sua altura?</font>"
      ]
    },
    {
      "cell_type": "markdown",
      "metadata": {
        "id": "8PFIjXejG3EA"
      },
      "source": [
        "Em um estudo sobre as alturas dos moradores de uma cidade verificou-se que o conjunto de dados segue uma **distribuição aproximadamente normal**, com **média 1,70** e **desvio padrão de 0,1**. Com estas informações obtenha o seguinte conjunto de probabilidades:\n",
        "\n",
        "> **A.** probabilidade de uma pessoa, selecionada ao acaso, ter menos de 1,80 metros.\n",
        "\n",
        "> **B.** probabilidade de uma pessoa, selecionada ao acaso, ter entre 1,60 metros e 1,80 metros.    \n",
        "\n",
        "> **C.** probabilidade de uma pessoa, selecionada ao acaso, ter mais de 1,90 metros."
      ]
    },
    {
      "cell_type": "markdown",
      "metadata": {
        "id": "aHpZLwt1G3EC"
      },
      "source": [
        "### Problema A - Identificação da área sob a curva"
      ]
    },
    {
      "cell_type": "markdown",
      "metadata": {
        "id": "V1eC7tydG3EF"
      },
      "source": [
        "<img style='float: left' src='https://caelum-online-public.s3.amazonaws.com/1178-estatistica-parte2/01/img004.png' width='350px'>"
      ]
    },
    {
      "cell_type": "markdown",
      "metadata": {
        "id": "X61wEuRrG3EI"
      },
      "source": [
        "### Obter a variável padronizada $Z$"
      ]
    },
    {
      "cell_type": "code",
      "execution_count": 37,
      "metadata": {
        "id": "gNSNIMvZG3EK",
        "colab": {
          "base_uri": "https://localhost:8080/"
        },
        "outputId": "c2bcb201-9799-481b-a0f8-159eed73ba5a"
      },
      "outputs": [
        {
          "output_type": "execute_result",
          "data": {
            "text/plain": [
              "1.7"
            ]
          },
          "metadata": {},
          "execution_count": 37
        }
      ],
      "source": [
        "media = 1.7\n",
        "media"
      ]
    },
    {
      "cell_type": "code",
      "execution_count": 38,
      "metadata": {
        "id": "E_f2lycRG3ES",
        "colab": {
          "base_uri": "https://localhost:8080/"
        },
        "outputId": "0fd0ab66-c451-4d75-9884-09b23a225329"
      },
      "outputs": [
        {
          "output_type": "execute_result",
          "data": {
            "text/plain": [
              "0.1"
            ]
          },
          "metadata": {},
          "execution_count": 38
        }
      ],
      "source": [
        "desvio_padrao = 0.1\n",
        "desvio_padrao"
      ]
    },
    {
      "cell_type": "code",
      "execution_count": 39,
      "metadata": {
        "id": "xnsCkUb6G3EX",
        "colab": {
          "base_uri": "https://localhost:8080/"
        },
        "outputId": "768fe052-2b8a-4157-a3f1-124adc7013f5"
      },
      "outputs": [
        {
          "output_type": "execute_result",
          "data": {
            "text/plain": [
              "1.0000000000000009"
            ]
          },
          "metadata": {},
          "execution_count": 39
        }
      ],
      "source": [
        "Z = (1.8 - media)/ desvio_padrao\n",
        "Z"
      ]
    },
    {
      "cell_type": "markdown",
      "metadata": {
        "id": "oj9sgHbkG3Eb"
      },
      "source": [
        "### Solução 1 - Utilizando tabela"
      ]
    },
    {
      "cell_type": "code",
      "execution_count": 40,
      "metadata": {
        "id": "ReDTH3WgG3Ec",
        "colab": {
          "base_uri": "https://localhost:8080/"
        },
        "outputId": "633b99de-6a2a-46f7-d482-b2e095b0af55"
      },
      "outputs": [
        {
          "output_type": "execute_result",
          "data": {
            "text/plain": [
              "0.8413"
            ]
          },
          "metadata": {},
          "execution_count": 40
        }
      ],
      "source": [
        "probabilidade = 0.8413 # Da tabela\n",
        "probabilidade"
      ]
    },
    {
      "cell_type": "markdown",
      "metadata": {
        "id": "4ud0OnQOG3Eh"
      },
      "source": [
        "### Solução 2 - Utilizando Scipy"
      ]
    },
    {
      "cell_type": "code",
      "execution_count": 41,
      "metadata": {
        "id": "sx7riZVlG3Ei",
        "colab": {
          "base_uri": "https://localhost:8080/"
        },
        "outputId": "2c4ee2b4-6691-4b58-d100-23ff32a5b9fc"
      },
      "outputs": [
        {
          "output_type": "execute_result",
          "data": {
            "text/plain": [
              "0.8413447460685431"
            ]
          },
          "metadata": {},
          "execution_count": 41
        }
      ],
      "source": [
        "from scipy.stats import norm\n",
        "norm.cdf(Z)"
      ]
    },
    {
      "cell_type": "code",
      "source": [
        "norm.cdf(1.8, loc=media, scale=desvio_padrao)"
      ],
      "metadata": {
        "colab": {
          "base_uri": "https://localhost:8080/"
        },
        "id": "r9Z68EQf3fbf",
        "outputId": "3878637c-358d-4190-ff04-c993dca7d661"
      },
      "execution_count": 42,
      "outputs": [
        {
          "output_type": "execute_result",
          "data": {
            "text/plain": [
              "0.8413447460685431"
            ]
          },
          "metadata": {},
          "execution_count": 42
        }
      ]
    },
    {
      "cell_type": "markdown",
      "source": [
        "#### Exercicio\n",
        "A aplicação de uma prova de estatística em um concurso apresentou um conjunto de notas normalmente distribuídas. Verificou-se que o conjunto de notas tinha média 70 e desvio padrão de 5 pontos.\n",
        "\n",
        "Qual a probabilidade de um aluno, selecionado ao acaso, ter nota menor que 85?"
      ],
      "metadata": {
        "id": "Fm35ft1btN4Y"
      }
    },
    {
      "cell_type": "code",
      "source": [
        "z_score = (85 - 70)/5\n",
        "\n",
        "print(\"{0:.2%}\".format(norm.cdf(z_score)))"
      ],
      "metadata": {
        "colab": {
          "base_uri": "https://localhost:8080/"
        },
        "id": "JDaRzfJ1tNUN",
        "outputId": "afd4add0-f2f1-4c1c-b580-6b1fc657ccdf"
      },
      "execution_count": 43,
      "outputs": [
        {
          "output_type": "stream",
          "name": "stdout",
          "text": [
            "99.87%\n"
          ]
        }
      ]
    },
    {
      "cell_type": "markdown",
      "metadata": {
        "id": "ZsnMjGzJG3Ep"
      },
      "source": [
        "### Problema B - Identificação da área sob a curva"
      ]
    },
    {
      "cell_type": "markdown",
      "metadata": {
        "id": "LN2HY-UCG3Ep"
      },
      "source": [
        "<img style='float: left' src='https://caelum-online-public.s3.amazonaws.com/1178-estatistica-parte2/01/img005.png' width='350px'>\n",
        "\n",
        "Como a distancia entre 1.60 e a média é igual á distancia entre 1.80 e a média, e a curva é simétrica na média podemos concluir que a area de 1.60 até 1.80 é igual a a área de 16 até a média vezes 2\n",
        "\n",
        "Então podemos calcular isso calculando a distancia entre $-∞$ e 1.80 menos 0.5 (a area até a média) e multiplicamos o resultado por 2\n",
        "\n",
        "Também podemos descobrir a área entre $-∞$ e 1.80 e subitrair pela area de $-∞$ e 1.60"
      ]
    },
    {
      "cell_type": "markdown",
      "metadata": {
        "id": "FS6WNg88G3Eq"
      },
      "source": [
        "### Obter a variável padronizada $Z$"
      ]
    },
    {
      "cell_type": "code",
      "execution_count": 44,
      "metadata": {
        "id": "mxPsPIOYG3Er",
        "colab": {
          "base_uri": "https://localhost:8080/"
        },
        "outputId": "f6688e1e-3b1c-47de-ffb4-8c96ad4eb91f"
      },
      "outputs": [
        {
          "output_type": "execute_result",
          "data": {
            "text/plain": [
              "0.0"
            ]
          },
          "metadata": {},
          "execution_count": 44
        }
      ],
      "source": [
        "Z = (1.7 - media)/ desvio_padrao\n",
        "Z "
      ]
    },
    {
      "cell_type": "code",
      "execution_count": 45,
      "metadata": {
        "id": "s0Vf0GXHG3Et",
        "colab": {
          "base_uri": "https://localhost:8080/"
        },
        "outputId": "54dcc95f-fc46-4a19-c5b2-822f54598ef8"
      },
      "outputs": [
        {
          "output_type": "execute_result",
          "data": {
            "text/plain": [
              "1.0000000000000009"
            ]
          },
          "metadata": {},
          "execution_count": 45
        }
      ],
      "source": [
        "Z = (1.8 - media)/ desvio_padrao\n",
        "Z "
      ]
    },
    {
      "cell_type": "markdown",
      "metadata": {
        "id": "MseXjmZ7G3E0"
      },
      "source": [
        "### Solução 1 - Utilizando tabela"
      ]
    },
    {
      "cell_type": "code",
      "execution_count": 46,
      "metadata": {
        "id": "swZ6SVQGG3E0",
        "colab": {
          "base_uri": "https://localhost:8080/"
        },
        "outputId": "95ae25ad-94af-4784-9eb7-5462ba5c9da0"
      },
      "outputs": [
        {
          "output_type": "execute_result",
          "data": {
            "text/plain": [
              "0.8413"
            ]
          },
          "metadata": {},
          "execution_count": 46
        }
      ],
      "source": [
        "probabilidade = 0.8413\n",
        "probabilidade # de infinito até 1.80"
      ]
    },
    {
      "cell_type": "code",
      "execution_count": 47,
      "metadata": {
        "id": "oNfZZRBdGy2G",
        "colab": {
          "base_uri": "https://localhost:8080/"
        },
        "outputId": "94f62139-9be1-4b99-bcc3-60405b63b4de"
      },
      "outputs": [
        {
          "output_type": "execute_result",
          "data": {
            "text/plain": [
              "0.34130000000000005"
            ]
          },
          "metadata": {},
          "execution_count": 47
        }
      ],
      "source": [
        "probabilidade = probabilidade - 0.5\n",
        "probabilidade # Area da média até a 1.80"
      ]
    },
    {
      "cell_type": "code",
      "source": [
        "probabilidade = probabilidade*2\n",
        "probabilidade #1.60 a 1.80"
      ],
      "metadata": {
        "colab": {
          "base_uri": "https://localhost:8080/"
        },
        "id": "8yPILHNM1KbO",
        "outputId": "3d6c2c4d-fbdb-40ff-82b7-2dd0a3a8d006"
      },
      "execution_count": 48,
      "outputs": [
        {
          "output_type": "execute_result",
          "data": {
            "text/plain": [
              "0.6826000000000001"
            ]
          },
          "metadata": {},
          "execution_count": 48
        }
      ]
    },
    {
      "cell_type": "markdown",
      "metadata": {
        "id": "y5e4zAifG3E2"
      },
      "source": [
        "### Solução 2 - Utilizando Scipy"
      ]
    },
    {
      "cell_type": "code",
      "execution_count": 49,
      "metadata": {
        "id": "hcps6lkNG3E3",
        "colab": {
          "base_uri": "https://localhost:8080/"
        },
        "outputId": "646cf31d-bc7d-4d33-9e0a-176fb23fb144"
      },
      "outputs": [
        {
          "output_type": "stream",
          "name": "stdout",
          "text": [
            "1.0 -1.0\n"
          ]
        }
      ],
      "source": [
        "Z_superior = round((1.8 - media)/ desvio_padrao, 2)\n",
        "Z_inferior = round((1.6 - media)/ desvio_padrao, 2)\n",
        "print(Z_superior, Z_inferior)"
      ]
    },
    {
      "cell_type": "code",
      "execution_count": 50,
      "metadata": {
        "id": "MjEfhnQEG3E5",
        "colab": {
          "base_uri": "https://localhost:8080/"
        },
        "outputId": "7908f91b-2701-4297-d8b4-32a49b049b1c"
      },
      "outputs": [
        {
          "output_type": "execute_result",
          "data": {
            "text/plain": [
              "0.6826894921370859"
            ]
          },
          "metadata": {},
          "execution_count": 50
        }
      ],
      "source": [
        "# Esse é o melhor jeito, o outro jeito não é tão bom e é só valido para \n",
        "# esse tipo de caso em especifico, onde a distancia de ambos para a média\n",
        "# é igual\n",
        "probabilidade = norm.cdf(Z_superior) - norm.cdf(Z_inferior)\n",
        "probabilidade"
      ]
    },
    {
      "cell_type": "code",
      "source": [
        "# Isso também funciona pois ambas as áreas são iguais \n",
        "# norm.cdf(Z_superior) é de -inifinito até 1.80, e o restantante é 1-norm.cdf(Z_superior)\n",
        "# e já que a area dos dois são iguais, o restante para 1 é igual, então eu só removo\n",
        "# a mesma quantidade de area que falta para Z_superior para chegar a 1\n",
        "# de Z_superior, assim tirando a parte da esqueirda da area\n",
        "probabilidade = norm.cdf(Z_superior) - (1-norm.cdf(Z_superior))\n",
        "probabilidade"
      ],
      "metadata": {
        "colab": {
          "base_uri": "https://localhost:8080/"
        },
        "id": "Bb7eXvIn5Hm-",
        "outputId": "ca04ce35-937c-48e7-fdca-e7d160b7b440"
      },
      "execution_count": 51,
      "outputs": [
        {
          "output_type": "execute_result",
          "data": {
            "text/plain": [
              "0.6826894921370859"
            ]
          },
          "metadata": {},
          "execution_count": 51
        }
      ]
    },
    {
      "cell_type": "markdown",
      "source": [
        "#### Exercicio\n",
        "O faturamento diário de um motorista de aplicativo segue uma distribuição aproximadamente normal, com média R\\$ 300,00 e desvio padrão igual a R\\$ 50,00. Obtenha as probabilidades de que, em um dia aleatório, o motorista ganhe:\n",
        "\n",
        "1) Entre R\\$ 250,00 e R\\$ 350,00\n",
        "\n",
        "2) Entre R\\$ 400,00 e R\\$ 500,00"
      ],
      "metadata": {
        "id": "y5qjfU0N9d9w"
      }
    },
    {
      "cell_type": "code",
      "source": [
        "resposta_1 = norm.cdf(350, loc=300, scale=50)-norm.cdf(250, loc=300, scale=50)\n",
        "resposta_2 = norm.cdf(500, loc=300, scale=50)-norm.cdf(400, loc=300, scale=50)\n",
        "\n",
        "print(\"{0:0.2%}\".format(resposta_1))\n",
        "print(\"{0:0.2%}\".format(resposta_2))"
      ],
      "metadata": {
        "colab": {
          "base_uri": "https://localhost:8080/"
        },
        "id": "f2304RQK9dUJ",
        "outputId": "fd28a18d-cc13-4409-cc75-692ab92e0019"
      },
      "execution_count": 52,
      "outputs": [
        {
          "output_type": "stream",
          "name": "stdout",
          "text": [
            "68.27%\n",
            "2.27%\n"
          ]
        }
      ]
    },
    {
      "cell_type": "markdown",
      "metadata": {
        "id": "05sqVgdaG3E-"
      },
      "source": [
        "### Problema C - Identificação da área sob a curva"
      ]
    },
    {
      "cell_type": "markdown",
      "metadata": {
        "id": "EPKhGTEkG3E_"
      },
      "source": [
        "<img style='float: left' src='https://caelum-online-public.s3.amazonaws.com/1178-estatistica-parte2/01/img006.png' width='350px'>"
      ]
    },
    {
      "cell_type": "markdown",
      "metadata": {
        "id": "BA6jYbsSG3E_"
      },
      "source": [
        "### Obter a variável padronizada $Z$"
      ]
    },
    {
      "cell_type": "code",
      "execution_count": 53,
      "metadata": {
        "id": "3OVj60MzG3E_",
        "colab": {
          "base_uri": "https://localhost:8080/"
        },
        "outputId": "457802e5-7e68-4159-fac9-ef80bfe6015b"
      },
      "outputs": [
        {
          "output_type": "execute_result",
          "data": {
            "text/plain": [
              "1.9999999999999996"
            ]
          },
          "metadata": {},
          "execution_count": 53
        }
      ],
      "source": [
        "# Distancia de 1.90 para a média em unidades de desvio padrão\n",
        "Z = (1.9 - media)/ desvio_padrao\n",
        "Z "
      ]
    },
    {
      "cell_type": "markdown",
      "metadata": {
        "id": "hCiiWAm_G3FC"
      },
      "source": [
        "### Solução 1 - Utilizando tabela"
      ]
    },
    {
      "cell_type": "code",
      "execution_count": 54,
      "metadata": {
        "id": "mSNfoO6VG3FC",
        "colab": {
          "base_uri": "https://localhost:8080/"
        },
        "outputId": "1d1a872b-240f-47d6-a1b7-c6a3ad996763"
      },
      "outputs": [
        {
          "output_type": "execute_result",
          "data": {
            "text/plain": [
              "0.023299999999999987"
            ]
          },
          "metadata": {},
          "execution_count": 54
        }
      ],
      "source": [
        "# Usamos 1 - Z já que o que queremos é o restante da area de -infinito para 1.90\n",
        "probabilidade = 1- 0.9767\n",
        "probabilidade"
      ]
    },
    {
      "cell_type": "markdown",
      "metadata": {
        "id": "QCyoVXOdG3FF"
      },
      "source": [
        "### Solução 2 - Utilizando Scipy"
      ]
    },
    {
      "cell_type": "code",
      "execution_count": 55,
      "metadata": {
        "id": "caIE-t83G3FF",
        "colab": {
          "base_uri": "https://localhost:8080/"
        },
        "outputId": "d84628da-fcae-47b9-ee57-6d9032c29fb9"
      },
      "outputs": [
        {
          "output_type": "execute_result",
          "data": {
            "text/plain": [
              "0.02275013194817921"
            ]
          },
          "metadata": {},
          "execution_count": 55
        }
      ],
      "source": [
        "# Novamente, esse método é mais preciso que a tabela\n",
        "probabilidade = 1 - norm.cdf(Z)\n",
        "probabilidade"
      ]
    },
    {
      "cell_type": "code",
      "execution_count": 56,
      "metadata": {
        "id": "wKjqQGgMG3FI",
        "colab": {
          "base_uri": "https://localhost:8080/"
        },
        "outputId": "b458c77c-f9ad-4dbf-fd0c-93bf0c4f9d88"
      },
      "outputs": [
        {
          "output_type": "execute_result",
          "data": {
            "text/plain": [
              "0.022750131948179216"
            ]
          },
          "metadata": {},
          "execution_count": 56
        }
      ],
      "source": [
        "# ISSO FUNCIONA APENAS SE UTILIZARMOS O Z!!!!!!\n",
        "# Já que a curva é normal é sempre simétrica,\n",
        "# podemos simplemente pegar o valor que fica exatamente\n",
        "# oposto na curva ao valor que queremos, e então calcular a area entre\n",
        "# -infinito e o valor oposto ao que queremos\n",
        "# Sendo a mesma coisa que 1 - norm.cdf(Z)\n",
        "probabilidade = norm.cdf(-Z)\n",
        "probabilidade"
      ]
    },
    {
      "cell_type": "markdown",
      "source": [
        "## Exercícios"
      ],
      "metadata": {
        "id": "s1aGIh8RMqLF"
      }
    },
    {
      "cell_type": "markdown",
      "source": [
        "O Inmetro verificou que as lâmpadas incandescentes da fabricante XPTO apresentam uma vida útil normalmente distribuída, com média igual a 720 dias e desvio padrão igual a 30 dias. Calcule a probabilidade de uma lâmpada, escolhida ao acaso, durar:\n",
        "\n",
        "1) Entre 650 e 750 dias\n",
        "\n",
        "2) Mais que 800 dias\n",
        "\n",
        "3) Menos que 700 dias"
      ],
      "metadata": {
        "id": "E05rqppGM0Gj"
      }
    },
    {
      "cell_type": "code",
      "source": [
        "resposta_1 = norm.cdf(750, loc=720, scale=30) - norm.cdf(650, loc=720, scale=30)\n",
        "resposta_2 = 1 - norm.cdf(800, loc=720, scale=30)\n",
        "resposta_3 = norm.cdf(700, loc=720, scale=30) \n",
        "\n",
        "print(\"1) {0:0.2%}\".format(resposta_1))\n",
        "print(\"2) {0:0.2%}\".format(resposta_2))\n",
        "print(\"3) {0:0.2%}\".format(resposta_3))\n"
      ],
      "metadata": {
        "colab": {
          "base_uri": "https://localhost:8080/"
        },
        "id": "j0XfWS2NM4DO",
        "outputId": "e5dac643-0e30-4aad-bad6-a0ac0cb868c1"
      },
      "execution_count": 57,
      "outputs": [
        {
          "output_type": "stream",
          "name": "stdout",
          "text": [
            "1) 83.15%\n",
            "2) 0.38%\n",
            "3) 25.25%\n"
          ]
        }
      ]
    },
    {
      "cell_type": "markdown",
      "source": [
        "Utilizando a tabela padronizada, ou o ferramental disponibilizado pelo Python, encontre a área sob a curva normal para os valores de Z abaixo:\n",
        "\n",
        "1) Z < 1,96\n",
        "\n",
        "2) Z > 2,15\n",
        "\n",
        "3) Z < -0,78\n",
        "\n",
        "4) Z > 0,59"
      ],
      "metadata": {
        "id": "7tY4KQVSOlu7"
      }
    },
    {
      "cell_type": "code",
      "source": [
        "resposta_1 = norm.cdf(1.96)\n",
        "# mesma coisa que norm.cdf(-2.15)\n",
        "resposta_2 = norm.sf(2.15)\n",
        "resposta_3 = norm.cdf(-0.78)\n",
        "# mesma coisa que norm.cdf(-0.59)\n",
        "resposta_4 = norm.sf(0.59)\n",
        "\n",
        "print(\"1) {0:0.4f}\".format(resposta_1))\n",
        "print(\"2) {0:0.4f}\".format(resposta_2))\n",
        "print(\"3) {0:0.4f}\".format(resposta_3))\n",
        "print(\"4) {0:0.4f}\".format(resposta_4))\n"
      ],
      "metadata": {
        "colab": {
          "base_uri": "https://localhost:8080/"
        },
        "id": "1_oK6GQsOla8",
        "outputId": "228a65e2-9ca3-4357-bd87-cccff5122459"
      },
      "execution_count": 58,
      "outputs": [
        {
          "output_type": "stream",
          "name": "stdout",
          "text": [
            "1) 0.9750\n",
            "2) 0.0158\n",
            "3) 0.2177\n",
            "4) 0.2776\n"
          ]
        }
      ]
    },
    {
      "cell_type": "markdown",
      "metadata": {
        "id": "GmmzChE2t4wW"
      },
      "source": [
        "# <font color=green>3 AMOSTRAGEM</font>\n",
        "***"
      ]
    },
    {
      "cell_type": "markdown",
      "metadata": {
        "id": "g8PbtmQZt4Wv"
      },
      "source": [
        "## <font color=green>3.1 População e Amostra</font>\n",
        "***"
      ]
    },
    {
      "cell_type": "markdown",
      "metadata": {
        "id": "sedD5gB9G3FV"
      },
      "source": [
        "### População\n",
        "Conjunto de todos os elementos de interesse em um estudo. Diversos elementos podem compor uma população, por exemplo: pessoas, idades, alturas, carros etc.\n",
        "\n",
        "Com relação ao tamanho, as populações podem ser limitadas (populações finitas) ou ilimitadas (populações infinitas)."
      ]
    },
    {
      "cell_type": "markdown",
      "metadata": {
        "id": "XBFhAWNcG3FW"
      },
      "source": [
        "### Populações finitas\n",
        "\n",
        "Permitem a contagem de seus elementos. Como exemplos temos o número de funcionário de uma empresa, a quantidade de alunos em uma escola etc."
      ]
    },
    {
      "cell_type": "markdown",
      "metadata": {
        "id": "YT8V2GB1G3FW"
      },
      "source": [
        "### Populações infinitas\n",
        "\n",
        "Não é possível contar seus elementos. Como exemplos temos a quantidade de porções que se pode extrair da água do mar para uma análise, temperatura medida em cada ponto de um território etc.\n",
        "\n",
        "<font color=red>Quando os elementos de uma população puderem ser contados, porém apresentando uma quantidade muito grande, assume-se a população como infinita.</font>."
      ]
    },
    {
      "cell_type": "markdown",
      "metadata": {
        "id": "a-WtAXv1G3FX"
      },
      "source": [
        "### Amostra\n",
        "Subconjunto representativo da população. Uma população não adianta nada se ela não for representativa. Po isso é necessário utilizar as tecnicas certas para obte-las, tendo o tamanho correto e etc"
      ]
    },
    {
      "cell_type": "markdown",
      "metadata": {
        "id": "QWnDYpPSG3FX"
      },
      "source": [
        "Os atributos numéricos de uma população como sua média, variância e desvio padrão, são conhecidos como **parâmetros**. O principal foco da inferência estatística é justamente gerar estimativas e testar hipóteses sobre os parâmetros populacionais utilizando as informações de amostras."
      ]
    },
    {
      "cell_type": "markdown",
      "metadata": {
        "id": "dDz6vFbDG3FZ"
      },
      "source": [
        "## <font color=green>3.2 Quando utilizar uma amostra?</font>\n",
        "***"
      ]
    },
    {
      "cell_type": "markdown",
      "metadata": {
        "id": "5X1YwCGlG3Fe"
      },
      "source": [
        "### Populações infinitas\n",
        "\n",
        "O estudo não chegaria nunca ao fim. Não é possível investigar todos os elementos da população."
      ]
    },
    {
      "cell_type": "markdown",
      "metadata": {
        "id": "jHLtG8HSG3Ff"
      },
      "source": [
        "### Testes destrutivos\n",
        "\n",
        "Estudos onde os elementos avaliados são totalmente consumidos ou destruídos. Exemplo: testes de vida útil, testes de segurança contra colisões em automóveis."
      ]
    },
    {
      "cell_type": "markdown",
      "metadata": {
        "id": "lxYxepmdG3Ff"
      },
      "source": [
        "### Resultados rápidos\n",
        "\n",
        "Pesquisas que precisam de mais agilidade na divulgação. Exemplo: pesquisas de opinião, pesquisas que envolvam problemas de saúde pública."
      ]
    },
    {
      "cell_type": "markdown",
      "metadata": {
        "id": "PeUCGL5nG3Fj"
      },
      "source": [
        "### Custos elevados\n",
        "\n",
        "Quando a população é finita mas muito numerosa, o custo de um censo pode tornar o processo inviável."
      ]
    },
    {
      "cell_type": "markdown",
      "metadata": {
        "id": "1sbJeMpSG3Fj"
      },
      "source": [
        "## <font color=green>3.3 Amostragem Aleatória Simples</font>\n",
        "***"
      ]
    },
    {
      "cell_type": "markdown",
      "metadata": {
        "id": "Kiq9cYMYG3Fp"
      },
      "source": [
        "É uma das principais maneiras de se extrair uma amostra de uma população. A exigência fundamental deste tipo de abordagem é que cada elemento da população tenha as mesmas chances de ser selecionado para fazer parte da amostra.\n",
        "\n",
        "Uma boa amostra aleatória simples, vai ter parâmetros próximos (Com uma margem de erro) dos da população."
      ]
    },
    {
      "cell_type": "code",
      "execution_count": 59,
      "metadata": {
        "id": "NtQ8HOYdG3Fq",
        "colab": {
          "base_uri": "https://localhost:8080/",
          "height": 206
        },
        "outputId": "96259864-1060-41fc-ccfd-beb0d6d930c1"
      },
      "outputs": [
        {
          "output_type": "execute_result",
          "data": {
            "text/plain": [
              "   UF  Sexo  Idade  Cor  Anos de Estudo  Renda    Altura\n",
              "0  11     0     23    8              12    800  1.603808\n",
              "1  11     1     23    2              12   1150  1.739790\n",
              "2  11     1     35    8              15    880  1.760444\n",
              "3  11     0     46    2               6   3500  1.783158\n",
              "4  11     1     47    8               9    150  1.690631"
            ],
            "text/html": [
              "\n",
              "  <div id=\"df-72530129-357f-4bff-b574-097fa5e0beaf\">\n",
              "    <div class=\"colab-df-container\">\n",
              "      <div>\n",
              "<style scoped>\n",
              "    .dataframe tbody tr th:only-of-type {\n",
              "        vertical-align: middle;\n",
              "    }\n",
              "\n",
              "    .dataframe tbody tr th {\n",
              "        vertical-align: top;\n",
              "    }\n",
              "\n",
              "    .dataframe thead th {\n",
              "        text-align: right;\n",
              "    }\n",
              "</style>\n",
              "<table border=\"1\" class=\"dataframe\">\n",
              "  <thead>\n",
              "    <tr style=\"text-align: right;\">\n",
              "      <th></th>\n",
              "      <th>UF</th>\n",
              "      <th>Sexo</th>\n",
              "      <th>Idade</th>\n",
              "      <th>Cor</th>\n",
              "      <th>Anos de Estudo</th>\n",
              "      <th>Renda</th>\n",
              "      <th>Altura</th>\n",
              "    </tr>\n",
              "  </thead>\n",
              "  <tbody>\n",
              "    <tr>\n",
              "      <th>0</th>\n",
              "      <td>11</td>\n",
              "      <td>0</td>\n",
              "      <td>23</td>\n",
              "      <td>8</td>\n",
              "      <td>12</td>\n",
              "      <td>800</td>\n",
              "      <td>1.603808</td>\n",
              "    </tr>\n",
              "    <tr>\n",
              "      <th>1</th>\n",
              "      <td>11</td>\n",
              "      <td>1</td>\n",
              "      <td>23</td>\n",
              "      <td>2</td>\n",
              "      <td>12</td>\n",
              "      <td>1150</td>\n",
              "      <td>1.739790</td>\n",
              "    </tr>\n",
              "    <tr>\n",
              "      <th>2</th>\n",
              "      <td>11</td>\n",
              "      <td>1</td>\n",
              "      <td>35</td>\n",
              "      <td>8</td>\n",
              "      <td>15</td>\n",
              "      <td>880</td>\n",
              "      <td>1.760444</td>\n",
              "    </tr>\n",
              "    <tr>\n",
              "      <th>3</th>\n",
              "      <td>11</td>\n",
              "      <td>0</td>\n",
              "      <td>46</td>\n",
              "      <td>2</td>\n",
              "      <td>6</td>\n",
              "      <td>3500</td>\n",
              "      <td>1.783158</td>\n",
              "    </tr>\n",
              "    <tr>\n",
              "      <th>4</th>\n",
              "      <td>11</td>\n",
              "      <td>1</td>\n",
              "      <td>47</td>\n",
              "      <td>8</td>\n",
              "      <td>9</td>\n",
              "      <td>150</td>\n",
              "      <td>1.690631</td>\n",
              "    </tr>\n",
              "  </tbody>\n",
              "</table>\n",
              "</div>\n",
              "      <button class=\"colab-df-convert\" onclick=\"convertToInteractive('df-72530129-357f-4bff-b574-097fa5e0beaf')\"\n",
              "              title=\"Convert this dataframe to an interactive table.\"\n",
              "              style=\"display:none;\">\n",
              "        \n",
              "  <svg xmlns=\"http://www.w3.org/2000/svg\" height=\"24px\"viewBox=\"0 0 24 24\"\n",
              "       width=\"24px\">\n",
              "    <path d=\"M0 0h24v24H0V0z\" fill=\"none\"/>\n",
              "    <path d=\"M18.56 5.44l.94 2.06.94-2.06 2.06-.94-2.06-.94-.94-2.06-.94 2.06-2.06.94zm-11 1L8.5 8.5l.94-2.06 2.06-.94-2.06-.94L8.5 2.5l-.94 2.06-2.06.94zm10 10l.94 2.06.94-2.06 2.06-.94-2.06-.94-.94-2.06-.94 2.06-2.06.94z\"/><path d=\"M17.41 7.96l-1.37-1.37c-.4-.4-.92-.59-1.43-.59-.52 0-1.04.2-1.43.59L10.3 9.45l-7.72 7.72c-.78.78-.78 2.05 0 2.83L4 21.41c.39.39.9.59 1.41.59.51 0 1.02-.2 1.41-.59l7.78-7.78 2.81-2.81c.8-.78.8-2.07 0-2.86zM5.41 20L4 18.59l7.72-7.72 1.47 1.35L5.41 20z\"/>\n",
              "  </svg>\n",
              "      </button>\n",
              "      \n",
              "  <style>\n",
              "    .colab-df-container {\n",
              "      display:flex;\n",
              "      flex-wrap:wrap;\n",
              "      gap: 12px;\n",
              "    }\n",
              "\n",
              "    .colab-df-convert {\n",
              "      background-color: #E8F0FE;\n",
              "      border: none;\n",
              "      border-radius: 50%;\n",
              "      cursor: pointer;\n",
              "      display: none;\n",
              "      fill: #1967D2;\n",
              "      height: 32px;\n",
              "      padding: 0 0 0 0;\n",
              "      width: 32px;\n",
              "    }\n",
              "\n",
              "    .colab-df-convert:hover {\n",
              "      background-color: #E2EBFA;\n",
              "      box-shadow: 0px 1px 2px rgba(60, 64, 67, 0.3), 0px 1px 3px 1px rgba(60, 64, 67, 0.15);\n",
              "      fill: #174EA6;\n",
              "    }\n",
              "\n",
              "    [theme=dark] .colab-df-convert {\n",
              "      background-color: #3B4455;\n",
              "      fill: #D2E3FC;\n",
              "    }\n",
              "\n",
              "    [theme=dark] .colab-df-convert:hover {\n",
              "      background-color: #434B5C;\n",
              "      box-shadow: 0px 1px 3px 1px rgba(0, 0, 0, 0.15);\n",
              "      filter: drop-shadow(0px 1px 2px rgba(0, 0, 0, 0.3));\n",
              "      fill: #FFFFFF;\n",
              "    }\n",
              "  </style>\n",
              "\n",
              "      <script>\n",
              "        const buttonEl =\n",
              "          document.querySelector('#df-72530129-357f-4bff-b574-097fa5e0beaf button.colab-df-convert');\n",
              "        buttonEl.style.display =\n",
              "          google.colab.kernel.accessAllowed ? 'block' : 'none';\n",
              "\n",
              "        async function convertToInteractive(key) {\n",
              "          const element = document.querySelector('#df-72530129-357f-4bff-b574-097fa5e0beaf');\n",
              "          const dataTable =\n",
              "            await google.colab.kernel.invokeFunction('convertToInteractive',\n",
              "                                                     [key], {});\n",
              "          if (!dataTable) return;\n",
              "\n",
              "          const docLinkHtml = 'Like what you see? Visit the ' +\n",
              "            '<a target=\"_blank\" href=https://colab.research.google.com/notebooks/data_table.ipynb>data table notebook</a>'\n",
              "            + ' to learn more about interactive tables.';\n",
              "          element.innerHTML = '';\n",
              "          dataTable['output_type'] = 'display_data';\n",
              "          await google.colab.output.renderOutput(dataTable, element);\n",
              "          const docLink = document.createElement('div');\n",
              "          docLink.innerHTML = docLinkHtml;\n",
              "          element.appendChild(docLink);\n",
              "        }\n",
              "      </script>\n",
              "    </div>\n",
              "  </div>\n",
              "  "
            ]
          },
          "metadata": {},
          "execution_count": 59
        }
      ],
      "source": [
        "dados.head()"
      ]
    },
    {
      "cell_type": "code",
      "source": [
        "# 76840 registros ou 76840 observações\n",
        "dados.shape[0]"
      ],
      "metadata": {
        "colab": {
          "base_uri": "https://localhost:8080/"
        },
        "id": "4yOuytFqa108",
        "outputId": "df2a6f06-65ad-4e2b-df5b-cd3685cfb581"
      },
      "execution_count": 60,
      "outputs": [
        {
          "output_type": "execute_result",
          "data": {
            "text/plain": [
              "76840"
            ]
          },
          "metadata": {},
          "execution_count": 60
        }
      ]
    },
    {
      "cell_type": "code",
      "execution_count": 61,
      "metadata": {
        "id": "DsXJHWhMG3Fs",
        "colab": {
          "base_uri": "https://localhost:8080/"
        },
        "outputId": "39e9b72d-be3f-42ac-8c13-5e596f9dada4"
      },
      "outputs": [
        {
          "output_type": "execute_result",
          "data": {
            "text/plain": [
              "2000.3831988547631"
            ]
          },
          "metadata": {},
          "execution_count": 61
        }
      ],
      "source": [
        "dados['Renda'].mean()"
      ]
    },
    {
      "cell_type": "code",
      "execution_count": 62,
      "metadata": {
        "id": "k7yJucVMG3Fw",
        "colab": {
          "base_uri": "https://localhost:8080/",
          "height": 206
        },
        "outputId": "a2f7c67c-b844-4ca5-8870-989438044930"
      },
      "outputs": [
        {
          "output_type": "execute_result",
          "data": {
            "text/plain": [
              "       UF  Sexo  Idade  Cor  Anos de Estudo  Renda    Altura\n",
              "29042  29     0     39    8               5    480  1.719128\n",
              "62672  43     0     55    2               6    250  1.639205\n",
              "29973  29     1     36    2              12    788  1.654122\n",
              "22428  26     0     46    8               8   1680  1.622450\n",
              "55145  41     0     37    2               9   2500  1.625268"
            ],
            "text/html": [
              "\n",
              "  <div id=\"df-9c131474-2698-4248-90b2-2c96d8c86387\">\n",
              "    <div class=\"colab-df-container\">\n",
              "      <div>\n",
              "<style scoped>\n",
              "    .dataframe tbody tr th:only-of-type {\n",
              "        vertical-align: middle;\n",
              "    }\n",
              "\n",
              "    .dataframe tbody tr th {\n",
              "        vertical-align: top;\n",
              "    }\n",
              "\n",
              "    .dataframe thead th {\n",
              "        text-align: right;\n",
              "    }\n",
              "</style>\n",
              "<table border=\"1\" class=\"dataframe\">\n",
              "  <thead>\n",
              "    <tr style=\"text-align: right;\">\n",
              "      <th></th>\n",
              "      <th>UF</th>\n",
              "      <th>Sexo</th>\n",
              "      <th>Idade</th>\n",
              "      <th>Cor</th>\n",
              "      <th>Anos de Estudo</th>\n",
              "      <th>Renda</th>\n",
              "      <th>Altura</th>\n",
              "    </tr>\n",
              "  </thead>\n",
              "  <tbody>\n",
              "    <tr>\n",
              "      <th>29042</th>\n",
              "      <td>29</td>\n",
              "      <td>0</td>\n",
              "      <td>39</td>\n",
              "      <td>8</td>\n",
              "      <td>5</td>\n",
              "      <td>480</td>\n",
              "      <td>1.719128</td>\n",
              "    </tr>\n",
              "    <tr>\n",
              "      <th>62672</th>\n",
              "      <td>43</td>\n",
              "      <td>0</td>\n",
              "      <td>55</td>\n",
              "      <td>2</td>\n",
              "      <td>6</td>\n",
              "      <td>250</td>\n",
              "      <td>1.639205</td>\n",
              "    </tr>\n",
              "    <tr>\n",
              "      <th>29973</th>\n",
              "      <td>29</td>\n",
              "      <td>1</td>\n",
              "      <td>36</td>\n",
              "      <td>2</td>\n",
              "      <td>12</td>\n",
              "      <td>788</td>\n",
              "      <td>1.654122</td>\n",
              "    </tr>\n",
              "    <tr>\n",
              "      <th>22428</th>\n",
              "      <td>26</td>\n",
              "      <td>0</td>\n",
              "      <td>46</td>\n",
              "      <td>8</td>\n",
              "      <td>8</td>\n",
              "      <td>1680</td>\n",
              "      <td>1.622450</td>\n",
              "    </tr>\n",
              "    <tr>\n",
              "      <th>55145</th>\n",
              "      <td>41</td>\n",
              "      <td>0</td>\n",
              "      <td>37</td>\n",
              "      <td>2</td>\n",
              "      <td>9</td>\n",
              "      <td>2500</td>\n",
              "      <td>1.625268</td>\n",
              "    </tr>\n",
              "  </tbody>\n",
              "</table>\n",
              "</div>\n",
              "      <button class=\"colab-df-convert\" onclick=\"convertToInteractive('df-9c131474-2698-4248-90b2-2c96d8c86387')\"\n",
              "              title=\"Convert this dataframe to an interactive table.\"\n",
              "              style=\"display:none;\">\n",
              "        \n",
              "  <svg xmlns=\"http://www.w3.org/2000/svg\" height=\"24px\"viewBox=\"0 0 24 24\"\n",
              "       width=\"24px\">\n",
              "    <path d=\"M0 0h24v24H0V0z\" fill=\"none\"/>\n",
              "    <path d=\"M18.56 5.44l.94 2.06.94-2.06 2.06-.94-2.06-.94-.94-2.06-.94 2.06-2.06.94zm-11 1L8.5 8.5l.94-2.06 2.06-.94-2.06-.94L8.5 2.5l-.94 2.06-2.06.94zm10 10l.94 2.06.94-2.06 2.06-.94-2.06-.94-.94-2.06-.94 2.06-2.06.94z\"/><path d=\"M17.41 7.96l-1.37-1.37c-.4-.4-.92-.59-1.43-.59-.52 0-1.04.2-1.43.59L10.3 9.45l-7.72 7.72c-.78.78-.78 2.05 0 2.83L4 21.41c.39.39.9.59 1.41.59.51 0 1.02-.2 1.41-.59l7.78-7.78 2.81-2.81c.8-.78.8-2.07 0-2.86zM5.41 20L4 18.59l7.72-7.72 1.47 1.35L5.41 20z\"/>\n",
              "  </svg>\n",
              "      </button>\n",
              "      \n",
              "  <style>\n",
              "    .colab-df-container {\n",
              "      display:flex;\n",
              "      flex-wrap:wrap;\n",
              "      gap: 12px;\n",
              "    }\n",
              "\n",
              "    .colab-df-convert {\n",
              "      background-color: #E8F0FE;\n",
              "      border: none;\n",
              "      border-radius: 50%;\n",
              "      cursor: pointer;\n",
              "      display: none;\n",
              "      fill: #1967D2;\n",
              "      height: 32px;\n",
              "      padding: 0 0 0 0;\n",
              "      width: 32px;\n",
              "    }\n",
              "\n",
              "    .colab-df-convert:hover {\n",
              "      background-color: #E2EBFA;\n",
              "      box-shadow: 0px 1px 2px rgba(60, 64, 67, 0.3), 0px 1px 3px 1px rgba(60, 64, 67, 0.15);\n",
              "      fill: #174EA6;\n",
              "    }\n",
              "\n",
              "    [theme=dark] .colab-df-convert {\n",
              "      background-color: #3B4455;\n",
              "      fill: #D2E3FC;\n",
              "    }\n",
              "\n",
              "    [theme=dark] .colab-df-convert:hover {\n",
              "      background-color: #434B5C;\n",
              "      box-shadow: 0px 1px 3px 1px rgba(0, 0, 0, 0.15);\n",
              "      filter: drop-shadow(0px 1px 2px rgba(0, 0, 0, 0.3));\n",
              "      fill: #FFFFFF;\n",
              "    }\n",
              "  </style>\n",
              "\n",
              "      <script>\n",
              "        const buttonEl =\n",
              "          document.querySelector('#df-9c131474-2698-4248-90b2-2c96d8c86387 button.colab-df-convert');\n",
              "        buttonEl.style.display =\n",
              "          google.colab.kernel.accessAllowed ? 'block' : 'none';\n",
              "\n",
              "        async function convertToInteractive(key) {\n",
              "          const element = document.querySelector('#df-9c131474-2698-4248-90b2-2c96d8c86387');\n",
              "          const dataTable =\n",
              "            await google.colab.kernel.invokeFunction('convertToInteractive',\n",
              "                                                     [key], {});\n",
              "          if (!dataTable) return;\n",
              "\n",
              "          const docLinkHtml = 'Like what you see? Visit the ' +\n",
              "            '<a target=\"_blank\" href=https://colab.research.google.com/notebooks/data_table.ipynb>data table notebook</a>'\n",
              "            + ' to learn more about interactive tables.';\n",
              "          element.innerHTML = '';\n",
              "          dataTable['output_type'] = 'display_data';\n",
              "          await google.colab.output.renderOutput(dataTable, element);\n",
              "          const docLink = document.createElement('div');\n",
              "          docLink.innerHTML = docLinkHtml;\n",
              "          element.appendChild(docLink);\n",
              "        }\n",
              "      </script>\n",
              "    </div>\n",
              "  </div>\n",
              "  "
            ]
          },
          "metadata": {},
          "execution_count": 62
        }
      ],
      "source": [
        "# Nesse caso, consideramos que Dados é a população de onde retiramos nossa amostra\n",
        "# Como não utiilzamos critério nenhum para definir o tamanho da amostra, não\n",
        "# podemos garantir que ela é representativa\n",
        "amostra = dados.sample(n=1000, random_state=101)\n",
        "amostra.head(5)"
      ]
    },
    {
      "cell_type": "code",
      "execution_count": 63,
      "metadata": {
        "id": "wUyXS65sG3F2",
        "colab": {
          "base_uri": "https://localhost:8080/"
        },
        "outputId": "cf6840cf-5d55-43be-eedf-6034334eb282"
      },
      "outputs": [
        {
          "output_type": "execute_result",
          "data": {
            "text/plain": [
              "1000"
            ]
          },
          "metadata": {},
          "execution_count": 63
        }
      ],
      "source": [
        "amostra.shape[0]"
      ]
    },
    {
      "cell_type": "code",
      "execution_count": 64,
      "metadata": {
        "id": "y0J4UtOwG3F5",
        "colab": {
          "base_uri": "https://localhost:8080/"
        },
        "outputId": "6abbabab-b88a-468d-cf6e-2142d38db07f"
      },
      "outputs": [
        {
          "output_type": "execute_result",
          "data": {
            "text/plain": [
              "1998.783"
            ]
          },
          "metadata": {},
          "execution_count": 64
        }
      ],
      "source": [
        "amostra['Renda'].mean()"
      ]
    },
    {
      "cell_type": "code",
      "execution_count": 65,
      "metadata": {
        "id": "WGZT_wnjSgPy",
        "colab": {
          "base_uri": "https://localhost:8080/"
        },
        "outputId": "22f76a27-a38a-4643-f889-5d15e8061249"
      },
      "outputs": [
        {
          "output_type": "execute_result",
          "data": {
            "text/plain": [
              "0    69.299844\n",
              "1    30.700156\n",
              "Name: Sexo, dtype: float64"
            ]
          },
          "metadata": {},
          "execution_count": 65
        }
      ],
      "source": [
        "dados['Sexo'].value_counts(normalize = True)*100"
      ]
    },
    {
      "cell_type": "code",
      "execution_count": 66,
      "metadata": {
        "id": "1la3Y_reSgEM",
        "colab": {
          "base_uri": "https://localhost:8080/"
        },
        "outputId": "d2e85540-5c9b-4c97-8835-ba94307f4db1"
      },
      "outputs": [
        {
          "output_type": "execute_result",
          "data": {
            "text/plain": [
              "0    70.6\n",
              "1    29.4\n",
              "Name: Sexo, dtype: float64"
            ]
          },
          "metadata": {},
          "execution_count": 66
        }
      ],
      "source": [
        "amostra['Sexo'].value_counts(normalize = True)*100"
      ]
    },
    {
      "cell_type": "markdown",
      "metadata": {
        "id": "stcKhnJBG3F7"
      },
      "source": [
        "## <font color=green>3.4 Amostragem Estratificada</font>\n",
        "***"
      ]
    },
    {
      "cell_type": "markdown",
      "metadata": {
        "id": "W1uEZMRIG3GA"
      },
      "source": [
        "É uma melhoria do processo de amostragem aleatória simples. Neste método é proposta a divisão da população em subgrupos de elementos com características similares, ou seja, grupos mais homogêneos. Com estes subgrupos separados, aplica-se a técnica de amostragem aleatória simples dentro de cada subgrupo individualmente.\n",
        "\n",
        "Por exemplo, separaremos a População em classes de renda, como classe A, B, C, D, e E, e dentro de cada uma selecionaremos uma Amostra Aleatória Simples.\n",
        "Ou seja cada indivíduo tem variáveis próximas dos outros indivíduos na mesma classe"
      ]
    },
    {
      "cell_type": "markdown",
      "metadata": {
        "id": "xRjUHDAbG3GB"
      },
      "source": [
        "## <font color=green>3.5 Amostragem por Conglomerados</font>\n",
        "***"
      ]
    },
    {
      "cell_type": "markdown",
      "metadata": {
        "id": "sW9IuaL9G3GH"
      },
      "source": [
        "Também visa melhorar o critério de amostragem aleatória simples. Na amostragem por conglomerados são também criados subgrupos, porém não serão homogêneas como na amostragem estratificada. Na amostragem por conglomerados os subgrupos serão heterogêneos, onde, em seguida, serão aplicadas a amostragem aleatória simples ou estratificada.\n",
        "\n",
        "Um exemplo bastante comum de aplicação deste tipo de técnica é na divisão da população em grupos territoriais, onde os elementos investigados terão características bastante variadas."
      ]
    },
    {
      "cell_type": "markdown",
      "metadata": {
        "id": "2LNJT4FEuzO4"
      },
      "source": [
        "# <font color=green>4 ESTIMAÇÃO</font>\n",
        "***"
      ]
    },
    {
      "cell_type": "markdown",
      "metadata": {
        "id": "z69W2sVGmybS"
      },
      "source": [
        "## <font color='red'>Problema </font>"
      ]
    },
    {
      "cell_type": "markdown",
      "metadata": {
        "id": "ytP6VpismwDY"
      },
      "source": [
        "Suponha que os pesos dos sacos de arroz de uma indústria alimentícia se distribuem aproximadamente como uma normal de **desvio padrão populacional igual a 150 g**. Selecionada uma **amostra aleatório de 20 sacos** de um lote específico, obteve-se um **peso médio de 5.050 g**. Construa um **intervalo de confiança para a média populacional** assumindo um **nível de significância de 5%**."
      ]
    },
    {
      "cell_type": "markdown",
      "metadata": {
        "id": "PCqEvJMOwvUf"
      },
      "source": [
        "---"
      ]
    },
    {
      "cell_type": "markdown",
      "metadata": {
        "id": "HU578SXBG3GN"
      },
      "source": [
        "É a forma de se fazer suposições generalizadas sobre os parâmetros de uma população tendo como base as informações de uma amostra.\n",
        "\n",
        "- **Parâmetros** são os atributos numéricos de uma população, tal como a média, desvio padrão etc.\n",
        "\n",
        "- **Estimativa** é o valor obtido para determinado parâmetro a partir dos dados de uma amostra da população."
      ]
    },
    {
      "cell_type": "markdown",
      "metadata": {
        "id": "klWVkoUDG3GR"
      },
      "source": [
        "## <font color=green>4.1 Teorema do limite central</font>\n",
        "***"
      ]
    },
    {
      "cell_type": "markdown",
      "metadata": {
        "id": "QpgTvbISG3GU"
      },
      "source": [
        "> O **Teorema do Limite Central** afirma que, com o aumento do tamanho da amostra, a distribuição das médias amostrais (**a média de uma amostra é *uma* média amostral**) se aproxima de uma distribuição normal (Fazendo um histograma com a média de várias amostras) com média igual à média da população e desvio padrão igual ao desvio padrão da variável original dividido pela raiz quadrada do tamanho da amostra. Este fato é assegurado para $n$ maior ou igual a 30."
      ]
    },
    {
      "cell_type": "markdown",
      "metadata": {
        "id": "ZIAr6is3wEMp"
      },
      "source": [
        "# $$\\sigma_\\bar{x} = \\frac{\\sigma}{\\sqrt{n}}$$\n",
        "\n",
        "onde:  \n",
        "$\\sigma_\\bar{x} =$ desvio padrão das médias amostrais.  \n",
        "$\\sigma =$ desvio padrão da população total.  \n",
        "$n =$ tamanho das amostras.  \n",
        "\n",
        "O desvio padrão das médias amostrais é conhecido como **erro padrão da média**  \n",
        "Quão maior $n$ menor será $\\sigma_\\bar{x}$"
      ]
    },
    {
      "cell_type": "markdown",
      "metadata": {
        "id": "eFtSo6H0iz7z"
      },
      "source": [
        "### Entendendo o Teorema do Limite Central"
      ]
    },
    {
      "cell_type": "code",
      "execution_count": 67,
      "metadata": {
        "id": "S3q73XpnizTi"
      },
      "outputs": [],
      "source": [
        "n = 2000 # Tamanho das amostras\n",
        "total_de_amostras = 1500 # Quantidade total de amostras"
      ]
    },
    {
      "cell_type": "code",
      "execution_count": 68,
      "metadata": {
        "id": "uXZvARZ0izQp",
        "colab": {
          "base_uri": "https://localhost:8080/",
          "height": 49
        },
        "outputId": "3d930dc1-edcb-4b49-a3aa-3ce92491e6f4"
      },
      "outputs": [
        {
          "output_type": "execute_result",
          "data": {
            "text/plain": [
              "Empty DataFrame\n",
              "Columns: []\n",
              "Index: []"
            ],
            "text/html": [
              "\n",
              "  <div id=\"df-610dd034-9cb6-47f6-9380-35b4cb3b058b\">\n",
              "    <div class=\"colab-df-container\">\n",
              "      <div>\n",
              "<style scoped>\n",
              "    .dataframe tbody tr th:only-of-type {\n",
              "        vertical-align: middle;\n",
              "    }\n",
              "\n",
              "    .dataframe tbody tr th {\n",
              "        vertical-align: top;\n",
              "    }\n",
              "\n",
              "    .dataframe thead th {\n",
              "        text-align: right;\n",
              "    }\n",
              "</style>\n",
              "<table border=\"1\" class=\"dataframe\">\n",
              "  <thead>\n",
              "    <tr style=\"text-align: right;\">\n",
              "      <th></th>\n",
              "    </tr>\n",
              "  </thead>\n",
              "  <tbody>\n",
              "  </tbody>\n",
              "</table>\n",
              "</div>\n",
              "      <button class=\"colab-df-convert\" onclick=\"convertToInteractive('df-610dd034-9cb6-47f6-9380-35b4cb3b058b')\"\n",
              "              title=\"Convert this dataframe to an interactive table.\"\n",
              "              style=\"display:none;\">\n",
              "        \n",
              "  <svg xmlns=\"http://www.w3.org/2000/svg\" height=\"24px\"viewBox=\"0 0 24 24\"\n",
              "       width=\"24px\">\n",
              "    <path d=\"M0 0h24v24H0V0z\" fill=\"none\"/>\n",
              "    <path d=\"M18.56 5.44l.94 2.06.94-2.06 2.06-.94-2.06-.94-.94-2.06-.94 2.06-2.06.94zm-11 1L8.5 8.5l.94-2.06 2.06-.94-2.06-.94L8.5 2.5l-.94 2.06-2.06.94zm10 10l.94 2.06.94-2.06 2.06-.94-2.06-.94-.94-2.06-.94 2.06-2.06.94z\"/><path d=\"M17.41 7.96l-1.37-1.37c-.4-.4-.92-.59-1.43-.59-.52 0-1.04.2-1.43.59L10.3 9.45l-7.72 7.72c-.78.78-.78 2.05 0 2.83L4 21.41c.39.39.9.59 1.41.59.51 0 1.02-.2 1.41-.59l7.78-7.78 2.81-2.81c.8-.78.8-2.07 0-2.86zM5.41 20L4 18.59l7.72-7.72 1.47 1.35L5.41 20z\"/>\n",
              "  </svg>\n",
              "      </button>\n",
              "      \n",
              "  <style>\n",
              "    .colab-df-container {\n",
              "      display:flex;\n",
              "      flex-wrap:wrap;\n",
              "      gap: 12px;\n",
              "    }\n",
              "\n",
              "    .colab-df-convert {\n",
              "      background-color: #E8F0FE;\n",
              "      border: none;\n",
              "      border-radius: 50%;\n",
              "      cursor: pointer;\n",
              "      display: none;\n",
              "      fill: #1967D2;\n",
              "      height: 32px;\n",
              "      padding: 0 0 0 0;\n",
              "      width: 32px;\n",
              "    }\n",
              "\n",
              "    .colab-df-convert:hover {\n",
              "      background-color: #E2EBFA;\n",
              "      box-shadow: 0px 1px 2px rgba(60, 64, 67, 0.3), 0px 1px 3px 1px rgba(60, 64, 67, 0.15);\n",
              "      fill: #174EA6;\n",
              "    }\n",
              "\n",
              "    [theme=dark] .colab-df-convert {\n",
              "      background-color: #3B4455;\n",
              "      fill: #D2E3FC;\n",
              "    }\n",
              "\n",
              "    [theme=dark] .colab-df-convert:hover {\n",
              "      background-color: #434B5C;\n",
              "      box-shadow: 0px 1px 3px 1px rgba(0, 0, 0, 0.15);\n",
              "      filter: drop-shadow(0px 1px 2px rgba(0, 0, 0, 0.3));\n",
              "      fill: #FFFFFF;\n",
              "    }\n",
              "  </style>\n",
              "\n",
              "      <script>\n",
              "        const buttonEl =\n",
              "          document.querySelector('#df-610dd034-9cb6-47f6-9380-35b4cb3b058b button.colab-df-convert');\n",
              "        buttonEl.style.display =\n",
              "          google.colab.kernel.accessAllowed ? 'block' : 'none';\n",
              "\n",
              "        async function convertToInteractive(key) {\n",
              "          const element = document.querySelector('#df-610dd034-9cb6-47f6-9380-35b4cb3b058b');\n",
              "          const dataTable =\n",
              "            await google.colab.kernel.invokeFunction('convertToInteractive',\n",
              "                                                     [key], {});\n",
              "          if (!dataTable) return;\n",
              "\n",
              "          const docLinkHtml = 'Like what you see? Visit the ' +\n",
              "            '<a target=\"_blank\" href=https://colab.research.google.com/notebooks/data_table.ipynb>data table notebook</a>'\n",
              "            + ' to learn more about interactive tables.';\n",
              "          element.innerHTML = '';\n",
              "          dataTable['output_type'] = 'display_data';\n",
              "          await google.colab.output.renderOutput(dataTable, element);\n",
              "          const docLink = document.createElement('div');\n",
              "          docLink.innerHTML = docLinkHtml;\n",
              "          element.appendChild(docLink);\n",
              "        }\n",
              "      </script>\n",
              "    </div>\n",
              "  </div>\n",
              "  "
            ]
          },
          "metadata": {},
          "execution_count": 68
        }
      ],
      "source": [
        "amostras = pd.DataFrame()\n",
        "amostras"
      ]
    },
    {
      "cell_type": "code",
      "execution_count": 69,
      "metadata": {
        "id": "tXa7XKhKTyMu",
        "scrolled": true,
        "colab": {
          "base_uri": "https://localhost:8080/",
          "height": 522
        },
        "outputId": "e65e3655-ea1d-466a-edf8-a6b2fd38aba6"
      },
      "outputs": [
        {
          "output_type": "stream",
          "name": "stderr",
          "text": [
            "<ipython-input-69-ebf473a949c3>:8: PerformanceWarning: DataFrame is highly fragmented.  This is usually the result of calling `frame.insert` many times, which has poor performance.  Consider joining all columns at once using pd.concat(axis=1) instead.  To get a de-fragmented frame, use `newframe = frame.copy()`\n",
            "  amostras['Amostra_' + str(i)] = _\n"
          ]
        },
        {
          "output_type": "execute_result",
          "data": {
            "text/plain": [
              "      Amostra_0  Amostra_1  Amostra_2  Amostra_3  Amostra_4  Amostra_5  \\\n",
              "0            40         68         31         57         55         28   \n",
              "1            42         46         49         33         55         54   \n",
              "2            38         47         46         48         33         43   \n",
              "3            55         34         85         66         65         45   \n",
              "4            44         47         56         33         43         28   \n",
              "...         ...        ...        ...        ...        ...        ...   \n",
              "1995         52         33         31         32         40         43   \n",
              "1996         38         45         53         32         26         42   \n",
              "1997         66         55         51         36         36         52   \n",
              "1998         57         44         52         35         38         49   \n",
              "1999         46         35         30         50         33         40   \n",
              "\n",
              "      Amostra_6  Amostra_7  Amostra_8  Amostra_9  ...  Amostra_1490  \\\n",
              "0            42         30         28         45  ...            51   \n",
              "1            28         42         55         53  ...            47   \n",
              "2            59         43         45         44  ...            52   \n",
              "3            48         43         28         34  ...            65   \n",
              "4            34         74         58         35  ...            34   \n",
              "...         ...        ...        ...        ...  ...           ...   \n",
              "1995         60         50         63         44  ...            65   \n",
              "1996         38         39         31         48  ...            48   \n",
              "1997         31         48         40         74  ...            53   \n",
              "1998         56         32         38         32  ...            28   \n",
              "1999         49         49         49         40  ...            30   \n",
              "\n",
              "      Amostra_1491  Amostra_1492  Amostra_1493  Amostra_1494  Amostra_1495  \\\n",
              "0               52            48            32            29            51   \n",
              "1               59            47            32            57            62   \n",
              "2               58            36            49            30            62   \n",
              "3               33            31            20            46            69   \n",
              "4               66            29            26            48            21   \n",
              "...            ...           ...           ...           ...           ...   \n",
              "1995            47            43            48            42            51   \n",
              "1996            69            25            58            69            52   \n",
              "1997            45            42            61            44            56   \n",
              "1998            39            38            45            57            37   \n",
              "1999            30            29            32            33            60   \n",
              "\n",
              "      Amostra_1496  Amostra_1497  Amostra_1498  Amostra_1499  \n",
              "0               40            66            34            26  \n",
              "1               37            52            69            46  \n",
              "2               32            53            48            32  \n",
              "3               27            54            35            25  \n",
              "4               49            24            43            35  \n",
              "...            ...           ...           ...           ...  \n",
              "1995            23            53            23            46  \n",
              "1996            41            31            22            51  \n",
              "1997            55            45            25            30  \n",
              "1998            39            73            51            34  \n",
              "1999            63            49            26            49  \n",
              "\n",
              "[2000 rows x 1500 columns]"
            ],
            "text/html": [
              "\n",
              "  <div id=\"df-41bdae5d-1208-4d90-bac8-27deb8776dd5\">\n",
              "    <div class=\"colab-df-container\">\n",
              "      <div>\n",
              "<style scoped>\n",
              "    .dataframe tbody tr th:only-of-type {\n",
              "        vertical-align: middle;\n",
              "    }\n",
              "\n",
              "    .dataframe tbody tr th {\n",
              "        vertical-align: top;\n",
              "    }\n",
              "\n",
              "    .dataframe thead th {\n",
              "        text-align: right;\n",
              "    }\n",
              "</style>\n",
              "<table border=\"1\" class=\"dataframe\">\n",
              "  <thead>\n",
              "    <tr style=\"text-align: right;\">\n",
              "      <th></th>\n",
              "      <th>Amostra_0</th>\n",
              "      <th>Amostra_1</th>\n",
              "      <th>Amostra_2</th>\n",
              "      <th>Amostra_3</th>\n",
              "      <th>Amostra_4</th>\n",
              "      <th>Amostra_5</th>\n",
              "      <th>Amostra_6</th>\n",
              "      <th>Amostra_7</th>\n",
              "      <th>Amostra_8</th>\n",
              "      <th>Amostra_9</th>\n",
              "      <th>...</th>\n",
              "      <th>Amostra_1490</th>\n",
              "      <th>Amostra_1491</th>\n",
              "      <th>Amostra_1492</th>\n",
              "      <th>Amostra_1493</th>\n",
              "      <th>Amostra_1494</th>\n",
              "      <th>Amostra_1495</th>\n",
              "      <th>Amostra_1496</th>\n",
              "      <th>Amostra_1497</th>\n",
              "      <th>Amostra_1498</th>\n",
              "      <th>Amostra_1499</th>\n",
              "    </tr>\n",
              "  </thead>\n",
              "  <tbody>\n",
              "    <tr>\n",
              "      <th>0</th>\n",
              "      <td>40</td>\n",
              "      <td>68</td>\n",
              "      <td>31</td>\n",
              "      <td>57</td>\n",
              "      <td>55</td>\n",
              "      <td>28</td>\n",
              "      <td>42</td>\n",
              "      <td>30</td>\n",
              "      <td>28</td>\n",
              "      <td>45</td>\n",
              "      <td>...</td>\n",
              "      <td>51</td>\n",
              "      <td>52</td>\n",
              "      <td>48</td>\n",
              "      <td>32</td>\n",
              "      <td>29</td>\n",
              "      <td>51</td>\n",
              "      <td>40</td>\n",
              "      <td>66</td>\n",
              "      <td>34</td>\n",
              "      <td>26</td>\n",
              "    </tr>\n",
              "    <tr>\n",
              "      <th>1</th>\n",
              "      <td>42</td>\n",
              "      <td>46</td>\n",
              "      <td>49</td>\n",
              "      <td>33</td>\n",
              "      <td>55</td>\n",
              "      <td>54</td>\n",
              "      <td>28</td>\n",
              "      <td>42</td>\n",
              "      <td>55</td>\n",
              "      <td>53</td>\n",
              "      <td>...</td>\n",
              "      <td>47</td>\n",
              "      <td>59</td>\n",
              "      <td>47</td>\n",
              "      <td>32</td>\n",
              "      <td>57</td>\n",
              "      <td>62</td>\n",
              "      <td>37</td>\n",
              "      <td>52</td>\n",
              "      <td>69</td>\n",
              "      <td>46</td>\n",
              "    </tr>\n",
              "    <tr>\n",
              "      <th>2</th>\n",
              "      <td>38</td>\n",
              "      <td>47</td>\n",
              "      <td>46</td>\n",
              "      <td>48</td>\n",
              "      <td>33</td>\n",
              "      <td>43</td>\n",
              "      <td>59</td>\n",
              "      <td>43</td>\n",
              "      <td>45</td>\n",
              "      <td>44</td>\n",
              "      <td>...</td>\n",
              "      <td>52</td>\n",
              "      <td>58</td>\n",
              "      <td>36</td>\n",
              "      <td>49</td>\n",
              "      <td>30</td>\n",
              "      <td>62</td>\n",
              "      <td>32</td>\n",
              "      <td>53</td>\n",
              "      <td>48</td>\n",
              "      <td>32</td>\n",
              "    </tr>\n",
              "    <tr>\n",
              "      <th>3</th>\n",
              "      <td>55</td>\n",
              "      <td>34</td>\n",
              "      <td>85</td>\n",
              "      <td>66</td>\n",
              "      <td>65</td>\n",
              "      <td>45</td>\n",
              "      <td>48</td>\n",
              "      <td>43</td>\n",
              "      <td>28</td>\n",
              "      <td>34</td>\n",
              "      <td>...</td>\n",
              "      <td>65</td>\n",
              "      <td>33</td>\n",
              "      <td>31</td>\n",
              "      <td>20</td>\n",
              "      <td>46</td>\n",
              "      <td>69</td>\n",
              "      <td>27</td>\n",
              "      <td>54</td>\n",
              "      <td>35</td>\n",
              "      <td>25</td>\n",
              "    </tr>\n",
              "    <tr>\n",
              "      <th>4</th>\n",
              "      <td>44</td>\n",
              "      <td>47</td>\n",
              "      <td>56</td>\n",
              "      <td>33</td>\n",
              "      <td>43</td>\n",
              "      <td>28</td>\n",
              "      <td>34</td>\n",
              "      <td>74</td>\n",
              "      <td>58</td>\n",
              "      <td>35</td>\n",
              "      <td>...</td>\n",
              "      <td>34</td>\n",
              "      <td>66</td>\n",
              "      <td>29</td>\n",
              "      <td>26</td>\n",
              "      <td>48</td>\n",
              "      <td>21</td>\n",
              "      <td>49</td>\n",
              "      <td>24</td>\n",
              "      <td>43</td>\n",
              "      <td>35</td>\n",
              "    </tr>\n",
              "    <tr>\n",
              "      <th>...</th>\n",
              "      <td>...</td>\n",
              "      <td>...</td>\n",
              "      <td>...</td>\n",
              "      <td>...</td>\n",
              "      <td>...</td>\n",
              "      <td>...</td>\n",
              "      <td>...</td>\n",
              "      <td>...</td>\n",
              "      <td>...</td>\n",
              "      <td>...</td>\n",
              "      <td>...</td>\n",
              "      <td>...</td>\n",
              "      <td>...</td>\n",
              "      <td>...</td>\n",
              "      <td>...</td>\n",
              "      <td>...</td>\n",
              "      <td>...</td>\n",
              "      <td>...</td>\n",
              "      <td>...</td>\n",
              "      <td>...</td>\n",
              "      <td>...</td>\n",
              "    </tr>\n",
              "    <tr>\n",
              "      <th>1995</th>\n",
              "      <td>52</td>\n",
              "      <td>33</td>\n",
              "      <td>31</td>\n",
              "      <td>32</td>\n",
              "      <td>40</td>\n",
              "      <td>43</td>\n",
              "      <td>60</td>\n",
              "      <td>50</td>\n",
              "      <td>63</td>\n",
              "      <td>44</td>\n",
              "      <td>...</td>\n",
              "      <td>65</td>\n",
              "      <td>47</td>\n",
              "      <td>43</td>\n",
              "      <td>48</td>\n",
              "      <td>42</td>\n",
              "      <td>51</td>\n",
              "      <td>23</td>\n",
              "      <td>53</td>\n",
              "      <td>23</td>\n",
              "      <td>46</td>\n",
              "    </tr>\n",
              "    <tr>\n",
              "      <th>1996</th>\n",
              "      <td>38</td>\n",
              "      <td>45</td>\n",
              "      <td>53</td>\n",
              "      <td>32</td>\n",
              "      <td>26</td>\n",
              "      <td>42</td>\n",
              "      <td>38</td>\n",
              "      <td>39</td>\n",
              "      <td>31</td>\n",
              "      <td>48</td>\n",
              "      <td>...</td>\n",
              "      <td>48</td>\n",
              "      <td>69</td>\n",
              "      <td>25</td>\n",
              "      <td>58</td>\n",
              "      <td>69</td>\n",
              "      <td>52</td>\n",
              "      <td>41</td>\n",
              "      <td>31</td>\n",
              "      <td>22</td>\n",
              "      <td>51</td>\n",
              "    </tr>\n",
              "    <tr>\n",
              "      <th>1997</th>\n",
              "      <td>66</td>\n",
              "      <td>55</td>\n",
              "      <td>51</td>\n",
              "      <td>36</td>\n",
              "      <td>36</td>\n",
              "      <td>52</td>\n",
              "      <td>31</td>\n",
              "      <td>48</td>\n",
              "      <td>40</td>\n",
              "      <td>74</td>\n",
              "      <td>...</td>\n",
              "      <td>53</td>\n",
              "      <td>45</td>\n",
              "      <td>42</td>\n",
              "      <td>61</td>\n",
              "      <td>44</td>\n",
              "      <td>56</td>\n",
              "      <td>55</td>\n",
              "      <td>45</td>\n",
              "      <td>25</td>\n",
              "      <td>30</td>\n",
              "    </tr>\n",
              "    <tr>\n",
              "      <th>1998</th>\n",
              "      <td>57</td>\n",
              "      <td>44</td>\n",
              "      <td>52</td>\n",
              "      <td>35</td>\n",
              "      <td>38</td>\n",
              "      <td>49</td>\n",
              "      <td>56</td>\n",
              "      <td>32</td>\n",
              "      <td>38</td>\n",
              "      <td>32</td>\n",
              "      <td>...</td>\n",
              "      <td>28</td>\n",
              "      <td>39</td>\n",
              "      <td>38</td>\n",
              "      <td>45</td>\n",
              "      <td>57</td>\n",
              "      <td>37</td>\n",
              "      <td>39</td>\n",
              "      <td>73</td>\n",
              "      <td>51</td>\n",
              "      <td>34</td>\n",
              "    </tr>\n",
              "    <tr>\n",
              "      <th>1999</th>\n",
              "      <td>46</td>\n",
              "      <td>35</td>\n",
              "      <td>30</td>\n",
              "      <td>50</td>\n",
              "      <td>33</td>\n",
              "      <td>40</td>\n",
              "      <td>49</td>\n",
              "      <td>49</td>\n",
              "      <td>49</td>\n",
              "      <td>40</td>\n",
              "      <td>...</td>\n",
              "      <td>30</td>\n",
              "      <td>30</td>\n",
              "      <td>29</td>\n",
              "      <td>32</td>\n",
              "      <td>33</td>\n",
              "      <td>60</td>\n",
              "      <td>63</td>\n",
              "      <td>49</td>\n",
              "      <td>26</td>\n",
              "      <td>49</td>\n",
              "    </tr>\n",
              "  </tbody>\n",
              "</table>\n",
              "<p>2000 rows × 1500 columns</p>\n",
              "</div>\n",
              "      <button class=\"colab-df-convert\" onclick=\"convertToInteractive('df-41bdae5d-1208-4d90-bac8-27deb8776dd5')\"\n",
              "              title=\"Convert this dataframe to an interactive table.\"\n",
              "              style=\"display:none;\">\n",
              "        \n",
              "  <svg xmlns=\"http://www.w3.org/2000/svg\" height=\"24px\"viewBox=\"0 0 24 24\"\n",
              "       width=\"24px\">\n",
              "    <path d=\"M0 0h24v24H0V0z\" fill=\"none\"/>\n",
              "    <path d=\"M18.56 5.44l.94 2.06.94-2.06 2.06-.94-2.06-.94-.94-2.06-.94 2.06-2.06.94zm-11 1L8.5 8.5l.94-2.06 2.06-.94-2.06-.94L8.5 2.5l-.94 2.06-2.06.94zm10 10l.94 2.06.94-2.06 2.06-.94-2.06-.94-.94-2.06-.94 2.06-2.06.94z\"/><path d=\"M17.41 7.96l-1.37-1.37c-.4-.4-.92-.59-1.43-.59-.52 0-1.04.2-1.43.59L10.3 9.45l-7.72 7.72c-.78.78-.78 2.05 0 2.83L4 21.41c.39.39.9.59 1.41.59.51 0 1.02-.2 1.41-.59l7.78-7.78 2.81-2.81c.8-.78.8-2.07 0-2.86zM5.41 20L4 18.59l7.72-7.72 1.47 1.35L5.41 20z\"/>\n",
              "  </svg>\n",
              "      </button>\n",
              "      \n",
              "  <style>\n",
              "    .colab-df-container {\n",
              "      display:flex;\n",
              "      flex-wrap:wrap;\n",
              "      gap: 12px;\n",
              "    }\n",
              "\n",
              "    .colab-df-convert {\n",
              "      background-color: #E8F0FE;\n",
              "      border: none;\n",
              "      border-radius: 50%;\n",
              "      cursor: pointer;\n",
              "      display: none;\n",
              "      fill: #1967D2;\n",
              "      height: 32px;\n",
              "      padding: 0 0 0 0;\n",
              "      width: 32px;\n",
              "    }\n",
              "\n",
              "    .colab-df-convert:hover {\n",
              "      background-color: #E2EBFA;\n",
              "      box-shadow: 0px 1px 2px rgba(60, 64, 67, 0.3), 0px 1px 3px 1px rgba(60, 64, 67, 0.15);\n",
              "      fill: #174EA6;\n",
              "    }\n",
              "\n",
              "    [theme=dark] .colab-df-convert {\n",
              "      background-color: #3B4455;\n",
              "      fill: #D2E3FC;\n",
              "    }\n",
              "\n",
              "    [theme=dark] .colab-df-convert:hover {\n",
              "      background-color: #434B5C;\n",
              "      box-shadow: 0px 1px 3px 1px rgba(0, 0, 0, 0.15);\n",
              "      filter: drop-shadow(0px 1px 2px rgba(0, 0, 0, 0.3));\n",
              "      fill: #FFFFFF;\n",
              "    }\n",
              "  </style>\n",
              "\n",
              "      <script>\n",
              "        const buttonEl =\n",
              "          document.querySelector('#df-41bdae5d-1208-4d90-bac8-27deb8776dd5 button.colab-df-convert');\n",
              "        buttonEl.style.display =\n",
              "          google.colab.kernel.accessAllowed ? 'block' : 'none';\n",
              "\n",
              "        async function convertToInteractive(key) {\n",
              "          const element = document.querySelector('#df-41bdae5d-1208-4d90-bac8-27deb8776dd5');\n",
              "          const dataTable =\n",
              "            await google.colab.kernel.invokeFunction('convertToInteractive',\n",
              "                                                     [key], {});\n",
              "          if (!dataTable) return;\n",
              "\n",
              "          const docLinkHtml = 'Like what you see? Visit the ' +\n",
              "            '<a target=\"_blank\" href=https://colab.research.google.com/notebooks/data_table.ipynb>data table notebook</a>'\n",
              "            + ' to learn more about interactive tables.';\n",
              "          element.innerHTML = '';\n",
              "          dataTable['output_type'] = 'display_data';\n",
              "          await google.colab.output.renderOutput(dataTable, element);\n",
              "          const docLink = document.createElement('div');\n",
              "          docLink.innerHTML = docLinkHtml;\n",
              "          element.appendChild(docLink);\n",
              "        }\n",
              "      </script>\n",
              "    </div>\n",
              "  </div>\n",
              "  "
            ]
          },
          "metadata": {},
          "execution_count": 69
        }
      ],
      "source": [
        "# Iteramos pelo total de amostras\n",
        "for i in range(total_de_amostras):\n",
        "  # Pegamos uma amostra da idade, de tamanho n, dos dados; No formato de uma series\n",
        "  _ = dados['Idade'].sample(n)\n",
        "  # resetamos os indices\n",
        "  _.index = range(0, len(_))\n",
        "  # adicionamos no dataframe de amostras, com o nome de Amostra_ seguido do numero da iteração\n",
        "  amostras['Amostra_' + str(i)] = _\n",
        "amostras"
      ]
    },
    {
      "cell_type": "code",
      "execution_count": 70,
      "metadata": {
        "id": "v5Q-rnS_izNd",
        "scrolled": true,
        "colab": {
          "base_uri": "https://localhost:8080/"
        },
        "outputId": "02fbeae1-0d36-4aea-b26b-1dbcd9faa6b9"
      },
      "outputs": [
        {
          "output_type": "execute_result",
          "data": {
            "text/plain": [
              "Amostra_0       44.2160\n",
              "Amostra_1       44.0330\n",
              "Amostra_2       44.3840\n",
              "Amostra_3       44.3115\n",
              "Amostra_4       44.1230\n",
              "                 ...   \n",
              "Amostra_1495    44.2220\n",
              "Amostra_1496    44.0645\n",
              "Amostra_1497    44.3455\n",
              "Amostra_1498    44.6090\n",
              "Amostra_1499    44.6890\n",
              "Length: 1500, dtype: float64"
            ]
          },
          "metadata": {},
          "execution_count": 70
        }
      ],
      "source": [
        "# De acordo com o Teorema do Limite central, essa series deve se aproximar de\n",
        "# uma distribuição normal\n",
        "\n",
        "# Essa é a series de médias amostrais!\n",
        "amostras.mean()"
      ]
    },
    {
      "cell_type": "markdown",
      "metadata": {
        "id": "JfgEBDx0jDzf"
      },
      "source": [
        "> O Teorema do Limite Central afirma que, **com o aumento do tamanho da amostra, a distribuição das médias amostrais se aproxima de uma distribuição normal** com média igual à média da população e desvio padrão igual ao desvio padrão da variável original dividido pela raiz quadrada do tamanho da amostra. Este fato é assegurado para n maior ou igual a 30."
      ]
    },
    {
      "cell_type": "code",
      "execution_count": 71,
      "metadata": {
        "id": "giJKqa_9izKF",
        "colab": {
          "base_uri": "https://localhost:8080/",
          "height": 282
        },
        "outputId": "68551fa7-1227-4e61-9158-7ac6684d3a95"
      },
      "outputs": [
        {
          "output_type": "execute_result",
          "data": {
            "text/plain": [
              "<AxesSubplot:>"
            ]
          },
          "metadata": {},
          "execution_count": 71
        },
        {
          "output_type": "display_data",
          "data": {
            "text/plain": [
              "<Figure size 432x288 with 1 Axes>"
            ],
            "image/png": "[encoded data removed]"
          },
          "metadata": {
            "needs_background": "light"
          }
        }
      ],
      "source": [
        "# é isso ai, veja que ela se aproxima de uma curva de sino!\n",
        "amostras.mean().hist()"
      ]
    },
    {
      "cell_type": "markdown",
      "metadata": {
        "id": "_A4RKStwjkLI"
      },
      "source": [
        "> O Teorema do Limite Central afirma que, com o aumento do tamanho da amostra, a distribuição das médias amostrais se aproxima de uma distribuição normal **com média igual à média da população** e desvio padrão igual ao desvio padrão da variável original dividido pela raiz quadrada do tamanho da amostra. Este fato é assegurado para n maior ou igual a 30."
      ]
    },
    {
      "cell_type": "code",
      "execution_count": 72,
      "metadata": {
        "id": "vXE-UOj_izGZ",
        "colab": {
          "base_uri": "https://localhost:8080/"
        },
        "outputId": "9bbdb1d5-4001-42a0-de15-a61082f0d98d"
      },
      "outputs": [
        {
          "output_type": "execute_result",
          "data": {
            "text/plain": [
              "44.07142113482561"
            ]
          },
          "metadata": {},
          "execution_count": 72
        }
      ],
      "source": [
        "# A média da População\n",
        "dados['Idade'].mean()"
      ]
    },
    {
      "cell_type": "code",
      "execution_count": 73,
      "metadata": {
        "id": "bahA7_WYizC6",
        "colab": {
          "base_uri": "https://localhost:8080/"
        },
        "outputId": "ce9c0373-a67a-42ae-e89e-ebaa0f3a52b7"
      },
      "outputs": [
        {
          "output_type": "execute_result",
          "data": {
            "text/plain": [
              "44.08175666666667"
            ]
          },
          "metadata": {},
          "execution_count": 73
        }
      ],
      "source": [
        "# A média das médias amostrais, \n",
        "amostras.mean().mean()"
      ]
    },
    {
      "cell_type": "markdown",
      "metadata": {
        "id": "7lIWJCAKlPmA"
      },
      "source": [
        "> O Teorema do Limite Central afirma que, com o aumento do tamanho da amostra, a distribuição das médias amostrais se aproxima de uma distribuição normal com média igual à média da população e **desvio padrão igual ao desvio padrão da variável original dividido pela raiz quadrada do tamanho da amostra**. Este fato é assegurado para n maior ou igual a 30.\n",
        "\n",
        "# $$\\sigma_\\bar{x} = \\frac{\\sigma}{\\sqrt{n}}$$\n",
        "\n",
        "onde:  \n",
        "$\\sigma_\\bar{x} =$ desvio padrão da série de médias amostrais (erro padrão da média.)  \n",
        "$\\sigma =$ desvio padrão da população total.  \n",
        "$n =$ tamanho das amostras.  \n"
      ]
    },
    {
      "cell_type": "code",
      "execution_count": 74,
      "metadata": {
        "id": "qKrG0zqhVNzn",
        "colab": {
          "base_uri": "https://localhost:8080/"
        },
        "outputId": "4b4d991b-5a01-4ebc-d3f6-7f7a5b507bea"
      },
      "outputs": [
        {
          "output_type": "execute_result",
          "data": {
            "text/plain": [
              "0.26522481833040157"
            ]
          },
          "metadata": {},
          "execution_count": 74
        }
      ],
      "source": [
        "# Desvio padrão das médias amostrais\n",
        "# Chamamos isso de erro padrão da média\n",
        "amostras.mean().std()"
      ]
    },
    {
      "cell_type": "code",
      "execution_count": 75,
      "metadata": {
        "id": "83ILp8Quiy_W",
        "colab": {
          "base_uri": "https://localhost:8080/"
        },
        "outputId": "e94f7058-20ef-44c0-f86f-21200b4d943a"
      },
      "outputs": [
        {
          "output_type": "execute_result",
          "data": {
            "text/plain": [
              "12.48058346535974"
            ]
          },
          "metadata": {},
          "execution_count": 75
        }
      ],
      "source": [
        "dados['Idade'].std()"
      ]
    },
    {
      "cell_type": "code",
      "execution_count": 76,
      "metadata": {
        "id": "IQ7wC-Nkiy75",
        "colab": {
          "base_uri": "https://localhost:8080/"
        },
        "outputId": "4c7ed12b-9c5e-43b1-e35f-17f578976e56"
      },
      "outputs": [
        {
          "output_type": "execute_result",
          "data": {
            "text/plain": [
              "0.27907433027404266"
            ]
          },
          "metadata": {},
          "execution_count": 76
        }
      ],
      "source": [
        "# 12.48/sqrt(2000) é igual ao desvio padrão das médias amostrais\n",
        "# a unica diferênça é que dessa forma temos mais precisão\n",
        "dados['Idade'].std()/np.sqrt(n)"
      ]
    },
    {
      "cell_type": "markdown",
      "metadata": {
        "id": "ku8CE67iG3Ge"
      },
      "source": [
        "## <font color=green>4.2 Níveis de confiança e significância</font>\n",
        "***"
      ]
    },
    {
      "cell_type": "markdown",
      "metadata": {
        "id": "mk6ZsvgyG3Gf"
      },
      "source": [
        "O **nível de confiança** ($1 - \\alpha$) representa a probabilidade de acerto da estimativa. De forma complementar o **nível de significância** ($\\alpha$) expressa a probabilidade de erro da estimativa.\n",
        "\n",
        "O **nível de confiança** é um valor escolhido para representar o grau de confiabilidade do resultado da estimativa estar dentro de determinado intervalo. Quando fixamos em uma pesquisa um **nível de confiança** de 95%, por exemplo, estamos assumindo que existe uma probabilidade de 95% dos resultados da pesquisa representarem bem a realidade, ou seja, estarem corretos.\n",
        "\n",
        "O **nível de confiança** de uma estimativa pode ser obtido a partir da área sob a curva normal como ilustrado na figura abaixo.\n",
        "\n",
        "Ou seja:\n",
        "\n",
        "Nível de **confiança:** Chance da pesquisa estar **correta.**   \n",
        "Nível de **significância:** Chance da pesquisa estar **errada.**  \n",
        "\n",
        "Ambos são opostos."
      ]
    },
    {
      "cell_type": "markdown",
      "metadata": {
        "id": "WeGyDfvaG3Gg"
      },
      "source": [
        "![alt text](https://caelum-online-public.s3.amazonaws.com/1178-estatistica-parte2/01/img007.png)\n",
        "\n",
        "\n",
        "A area entre $-Z$ e $Z$ é igual a $1-\\alpha$ **(Nível de confiança)**, ou seja, o restante é igual a $\\alpha$ **(Nível de significância)** e já que existem duas partes iguais onde essa área fica (já que a curva é simétrica), podemos afirmar que **cada uma** é igual a $\\alpha/2$"
      ]
    },
    {
      "cell_type": "markdown",
      "metadata": {
        "id": "AN8WDZ-HG3Gi"
      },
      "source": [
        "## <font color=green>4.3 Erro inferencial</font>\n",
        "***"
      ]
    },
    {
      "cell_type": "markdown",
      "metadata": {
        "id": "tk-TwhhfG3Gi"
      },
      "source": [
        "O **erro inferencial** é definido pelo **erro padrão da média (desvio padrão das médias amostrais)** $(\\sigma_\\bar{x})$ multiplicado pelo **nível de confiança** $(1-α)$ determinado para o processo.\n"
      ]
    },
    {
      "cell_type": "markdown",
      "metadata": {
        "id": "FKOQUPYHG3Gk"
      },
      "source": [
        "# $$ e =  z  \\cdot \\sigma_\\bar{x}$$ \n",
        "\n",
        "\n",
        "onde:  \n",
        "$e =$ erro inferencial  \n",
        "$z =$ nível de confiança $(1-\\alpha)$  \n",
        "$\\sigma_\\bar{x} = $ desvio padrão da série de médias amostrais (erro padrão da média )"
      ]
    },
    {
      "cell_type": "markdown",
      "metadata": {
        "id": "ELbWQW4sG3HS"
      },
      "source": [
        "## <font color=green>4.4 Intervalos de confiança</font>\n",
        "***"
      ]
    },
    {
      "cell_type": "markdown",
      "metadata": {
        "id": "-r6EMnH-G3HT"
      },
      "source": [
        "### Intevalo de confiança para a média da população"
      ]
    },
    {
      "cell_type": "markdown",
      "metadata": {
        "id": "QWgBFeRnG3HT"
      },
      "source": [
        "## $$\\mu = \\bar{x} \\pm e$$\n",
        "\n",
        "onde:  \n",
        "$\\mu =$ média populacional  \n",
        "$\\bar{x} =$ média amostral de uma amostra qualquer  \n",
        "$e =$ erro inferencial  \n",
        "\n",
        "Caso não o desvio padrão populacional não seja conhecido, podemos trocar ele pelo desvio padrão da própria amostra quando formos calcular $\\sigma_̄\\bar{x}$"
      ]
    },
    {
      "cell_type": "markdown",
      "source": [
        "## Resumão dessa parte\n",
        "\n",
        "# $$\\sigma_\\bar{x} = \\frac{\\sigma}{\\sqrt{n}}$$\n",
        "\n",
        "onde:  \n",
        "$\\sigma_\\bar{x} =$ erro padrão da média.(desvio padrão da série de médias amostrais)   \n",
        "$\\sigma =$ desvio padrão da população total.  \n",
        "$n =$ tamanho das amostras.  \n",
        "\n",
        "---\n",
        "\n",
        "# $$ e =  z  \\cdot \\sigma_\\bar{x}$$ \n",
        "\n",
        "\n",
        "onde:  \n",
        "$e =$ erro inferencial  \n",
        "$z =$ nível de confiança $(1-\\alpha)$  \n",
        "$\\sigma_\\bar{x} = $ desvio padrão da série de médias amostrais (erro padrão da média )  \n",
        "\n",
        "---\n",
        "### Intervalo de confiança\n",
        "## $$\\mu = \\bar{x} \\pm e$$\n",
        "\n",
        "onde:  \n",
        "$\\mu =$ limites onde média populacional pode estar   \n",
        "$\\bar{x} =$ média amostral de uma amostra qualquer  \n",
        "$e =$ erro inferencial  \n",
        "\n"
      ],
      "metadata": {
        "id": "-e5mQOb0psDb"
      }
    },
    {
      "cell_type": "markdown",
      "metadata": {
        "id": "R2qqLneeG3HT"
      },
      "source": [
        "## <font color='blue'>Exemplo: </font>"
      ]
    },
    {
      "cell_type": "markdown",
      "metadata": {
        "id": "AgnrFjdMG3HT"
      },
      "source": [
        "Suponha que os pesos dos sacos de arroz de uma indústria alimentícia se distribuem aproximadamente como uma normal de **desvio padrão populacional igual a 150 g**. Selecionada uma **amostra aleatório de 20 sacos** de um lote específico, obteve-se um **peso médio de 5.050 g**. **Construa um intervalo de confiança** para a **média populacional** assumindo um **nível de significância de 5%**."
      ]
    },
    {
      "cell_type": "markdown",
      "metadata": {
        "id": "LpGQGksTG3HU"
      },
      "source": [
        "### Média amostral ($\\bar{x}$)"
      ]
    },
    {
      "cell_type": "code",
      "execution_count": 77,
      "metadata": {
        "id": "aF2QQ0z3G3HU",
        "colab": {
          "base_uri": "https://localhost:8080/"
        },
        "outputId": "be6ea44b-27c4-4af0-ed38-5514997d44d1"
      },
      "outputs": [
        {
          "output_type": "execute_result",
          "data": {
            "text/plain": [
              "5050"
            ]
          },
          "metadata": {},
          "execution_count": 77
        }
      ],
      "source": [
        "# Peso médio da amostra aleatória de 20 sacos\n",
        "media_amostral = 5050\n",
        "media_amostral"
      ]
    },
    {
      "cell_type": "markdown",
      "metadata": {
        "id": "Jly1bVP9G3HY"
      },
      "source": [
        "### Nível de significância ($\\alpha$)"
      ]
    },
    {
      "cell_type": "code",
      "execution_count": 78,
      "metadata": {
        "id": "BzIgN3C7G3HY",
        "colab": {
          "base_uri": "https://localhost:8080/"
        },
        "outputId": "97c4a547-7357-4742-db5d-fadd4bf947fe"
      },
      "outputs": [
        {
          "output_type": "execute_result",
          "data": {
            "text/plain": [
              "0.05"
            ]
          },
          "metadata": {},
          "execution_count": 78
        }
      ],
      "source": [
        "# Nível de significancia de 5% (chance da operação estar errada)\n",
        "alpha = 0.05\n",
        "alpha"
      ]
    },
    {
      "cell_type": "markdown",
      "metadata": {
        "id": "SrZAbQRKG3Ha"
      },
      "source": [
        "### Nível de confiança ($1 - \\alpha$)"
      ]
    },
    {
      "cell_type": "code",
      "execution_count": 79,
      "metadata": {
        "id": "1JeWXwA6G3Ha",
        "colab": {
          "base_uri": "https://localhost:8080/"
        },
        "outputId": "9037a0ed-bc22-4497-cd97-78de6d0a84cf"
      },
      "outputs": [
        {
          "output_type": "execute_result",
          "data": {
            "text/plain": [
              "0.95"
            ]
          },
          "metadata": {},
          "execution_count": 79
        }
      ],
      "source": [
        "# Nível de confiança (chance da operação estar correta) de 95%\n",
        "nivel_confianca = 1-alpha\n",
        "nivel_confianca"
      ]
    },
    {
      "cell_type": "markdown",
      "metadata": {
        "id": "mZoUFr1nG3Hf"
      },
      "source": [
        "### Obtendo $z$"
      ]
    },
    {
      "cell_type": "code",
      "execution_count": 80,
      "metadata": {
        "id": "f9IMOwY2Xeva",
        "colab": {
          "base_uri": "https://localhost:8080/",
          "height": 363
        },
        "outputId": "5096c1f8-bdd5-4863-8cdd-964ebd02b2a2"
      },
      "outputs": [
        {
          "output_type": "execute_result",
          "data": {
            "text/plain": [
              "Z       0.00    0.01    0.02    0.03    0.04    0.05    0.06    0.07    0.08  \\\n",
              "1.60  0.9452  0.9463  0.9474  0.9484  0.9495  0.9505  0.9515  0.9525  0.9535   \n",
              "1.70  0.9554  0.9564  0.9573  0.9582  0.9591  0.9599  0.9608  0.9616  0.9625   \n",
              "1.80  0.9641  0.9649  0.9656  0.9664  0.9671  0.9678  0.9686  0.9693  0.9699   \n",
              "1.90  0.9713  0.9719  0.9726  0.9732  0.9738  0.9744  0.9750  0.9756  0.9761   \n",
              "2.00  0.9772  0.9778  0.9783  0.9788  0.9793  0.9798  0.9803  0.9808  0.9812   \n",
              "2.10  0.9821  0.9826  0.9830  0.9834  0.9838  0.9842  0.9846  0.9850  0.9854   \n",
              "2.20  0.9861  0.9864  0.9868  0.9871  0.9875  0.9878  0.9881  0.9884  0.9887   \n",
              "2.30  0.9893  0.9896  0.9898  0.9901  0.9904  0.9906  0.9909  0.9911  0.9913   \n",
              "2.40  0.9918  0.9920  0.9922  0.9925  0.9927  0.9929  0.9931  0.9932  0.9934   \n",
              "2.50  0.9938  0.9940  0.9941  0.9943  0.9945  0.9946  0.9948  0.9949  0.9951   \n",
              "\n",
              "Z       0.09  \n",
              "1.60  0.9545  \n",
              "1.70  0.9633  \n",
              "1.80  0.9706  \n",
              "1.90  0.9767  \n",
              "2.00  0.9817  \n",
              "2.10  0.9857  \n",
              "2.20  0.9890  \n",
              "2.30  0.9916  \n",
              "2.40  0.9936  \n",
              "2.50  0.9952  "
            ],
            "text/html": [
              "\n",
              "  <div id=\"df-0534234c-ecf2-4cb0-b4c9-eb20734496a9\">\n",
              "    <div class=\"colab-df-container\">\n",
              "      <div>\n",
              "<style scoped>\n",
              "    .dataframe tbody tr th:only-of-type {\n",
              "        vertical-align: middle;\n",
              "    }\n",
              "\n",
              "    .dataframe tbody tr th {\n",
              "        vertical-align: top;\n",
              "    }\n",
              "\n",
              "    .dataframe thead th {\n",
              "        text-align: right;\n",
              "    }\n",
              "</style>\n",
              "<table border=\"1\" class=\"dataframe\">\n",
              "  <thead>\n",
              "    <tr style=\"text-align: right;\">\n",
              "      <th>Z</th>\n",
              "      <th>0.00</th>\n",
              "      <th>0.01</th>\n",
              "      <th>0.02</th>\n",
              "      <th>0.03</th>\n",
              "      <th>0.04</th>\n",
              "      <th>0.05</th>\n",
              "      <th>0.06</th>\n",
              "      <th>0.07</th>\n",
              "      <th>0.08</th>\n",
              "      <th>0.09</th>\n",
              "    </tr>\n",
              "  </thead>\n",
              "  <tbody>\n",
              "    <tr>\n",
              "      <th>1.60</th>\n",
              "      <td>0.9452</td>\n",
              "      <td>0.9463</td>\n",
              "      <td>0.9474</td>\n",
              "      <td>0.9484</td>\n",
              "      <td>0.9495</td>\n",
              "      <td>0.9505</td>\n",
              "      <td>0.9515</td>\n",
              "      <td>0.9525</td>\n",
              "      <td>0.9535</td>\n",
              "      <td>0.9545</td>\n",
              "    </tr>\n",
              "    <tr>\n",
              "      <th>1.70</th>\n",
              "      <td>0.9554</td>\n",
              "      <td>0.9564</td>\n",
              "      <td>0.9573</td>\n",
              "      <td>0.9582</td>\n",
              "      <td>0.9591</td>\n",
              "      <td>0.9599</td>\n",
              "      <td>0.9608</td>\n",
              "      <td>0.9616</td>\n",
              "      <td>0.9625</td>\n",
              "      <td>0.9633</td>\n",
              "    </tr>\n",
              "    <tr>\n",
              "      <th>1.80</th>\n",
              "      <td>0.9641</td>\n",
              "      <td>0.9649</td>\n",
              "      <td>0.9656</td>\n",
              "      <td>0.9664</td>\n",
              "      <td>0.9671</td>\n",
              "      <td>0.9678</td>\n",
              "      <td>0.9686</td>\n",
              "      <td>0.9693</td>\n",
              "      <td>0.9699</td>\n",
              "      <td>0.9706</td>\n",
              "    </tr>\n",
              "    <tr>\n",
              "      <th>1.90</th>\n",
              "      <td>0.9713</td>\n",
              "      <td>0.9719</td>\n",
              "      <td>0.9726</td>\n",
              "      <td>0.9732</td>\n",
              "      <td>0.9738</td>\n",
              "      <td>0.9744</td>\n",
              "      <td>0.9750</td>\n",
              "      <td>0.9756</td>\n",
              "      <td>0.9761</td>\n",
              "      <td>0.9767</td>\n",
              "    </tr>\n",
              "    <tr>\n",
              "      <th>2.00</th>\n",
              "      <td>0.9772</td>\n",
              "      <td>0.9778</td>\n",
              "      <td>0.9783</td>\n",
              "      <td>0.9788</td>\n",
              "      <td>0.9793</td>\n",
              "      <td>0.9798</td>\n",
              "      <td>0.9803</td>\n",
              "      <td>0.9808</td>\n",
              "      <td>0.9812</td>\n",
              "      <td>0.9817</td>\n",
              "    </tr>\n",
              "    <tr>\n",
              "      <th>2.10</th>\n",
              "      <td>0.9821</td>\n",
              "      <td>0.9826</td>\n",
              "      <td>0.9830</td>\n",
              "      <td>0.9834</td>\n",
              "      <td>0.9838</td>\n",
              "      <td>0.9842</td>\n",
              "      <td>0.9846</td>\n",
              "      <td>0.9850</td>\n",
              "      <td>0.9854</td>\n",
              "      <td>0.9857</td>\n",
              "    </tr>\n",
              "    <tr>\n",
              "      <th>2.20</th>\n",
              "      <td>0.9861</td>\n",
              "      <td>0.9864</td>\n",
              "      <td>0.9868</td>\n",
              "      <td>0.9871</td>\n",
              "      <td>0.9875</td>\n",
              "      <td>0.9878</td>\n",
              "      <td>0.9881</td>\n",
              "      <td>0.9884</td>\n",
              "      <td>0.9887</td>\n",
              "      <td>0.9890</td>\n",
              "    </tr>\n",
              "    <tr>\n",
              "      <th>2.30</th>\n",
              "      <td>0.9893</td>\n",
              "      <td>0.9896</td>\n",
              "      <td>0.9898</td>\n",
              "      <td>0.9901</td>\n",
              "      <td>0.9904</td>\n",
              "      <td>0.9906</td>\n",
              "      <td>0.9909</td>\n",
              "      <td>0.9911</td>\n",
              "      <td>0.9913</td>\n",
              "      <td>0.9916</td>\n",
              "    </tr>\n",
              "    <tr>\n",
              "      <th>2.40</th>\n",
              "      <td>0.9918</td>\n",
              "      <td>0.9920</td>\n",
              "      <td>0.9922</td>\n",
              "      <td>0.9925</td>\n",
              "      <td>0.9927</td>\n",
              "      <td>0.9929</td>\n",
              "      <td>0.9931</td>\n",
              "      <td>0.9932</td>\n",
              "      <td>0.9934</td>\n",
              "      <td>0.9936</td>\n",
              "    </tr>\n",
              "    <tr>\n",
              "      <th>2.50</th>\n",
              "      <td>0.9938</td>\n",
              "      <td>0.9940</td>\n",
              "      <td>0.9941</td>\n",
              "      <td>0.9943</td>\n",
              "      <td>0.9945</td>\n",
              "      <td>0.9946</td>\n",
              "      <td>0.9948</td>\n",
              "      <td>0.9949</td>\n",
              "      <td>0.9951</td>\n",
              "      <td>0.9952</td>\n",
              "    </tr>\n",
              "  </tbody>\n",
              "</table>\n",
              "</div>\n",
              "      <button class=\"colab-df-convert\" onclick=\"convertToInteractive('df-0534234c-ecf2-4cb0-b4c9-eb20734496a9')\"\n",
              "              title=\"Convert this dataframe to an interactive table.\"\n",
              "              style=\"display:none;\">\n",
              "        \n",
              "  <svg xmlns=\"http://www.w3.org/2000/svg\" height=\"24px\"viewBox=\"0 0 24 24\"\n",
              "       width=\"24px\">\n",
              "    <path d=\"M0 0h24v24H0V0z\" fill=\"none\"/>\n",
              "    <path d=\"M18.56 5.44l.94 2.06.94-2.06 2.06-.94-2.06-.94-.94-2.06-.94 2.06-2.06.94zm-11 1L8.5 8.5l.94-2.06 2.06-.94-2.06-.94L8.5 2.5l-.94 2.06-2.06.94zm10 10l.94 2.06.94-2.06 2.06-.94-2.06-.94-.94-2.06-.94 2.06-2.06.94z\"/><path d=\"M17.41 7.96l-1.37-1.37c-.4-.4-.92-.59-1.43-.59-.52 0-1.04.2-1.43.59L10.3 9.45l-7.72 7.72c-.78.78-.78 2.05 0 2.83L4 21.41c.39.39.9.59 1.41.59.51 0 1.02-.2 1.41-.59l7.78-7.78 2.81-2.81c.8-.78.8-2.07 0-2.86zM5.41 20L4 18.59l7.72-7.72 1.47 1.35L5.41 20z\"/>\n",
              "  </svg>\n",
              "      </button>\n",
              "      \n",
              "  <style>\n",
              "    .colab-df-container {\n",
              "      display:flex;\n",
              "      flex-wrap:wrap;\n",
              "      gap: 12px;\n",
              "    }\n",
              "\n",
              "    .colab-df-convert {\n",
              "      background-color: #E8F0FE;\n",
              "      border: none;\n",
              "      border-radius: 50%;\n",
              "      cursor: pointer;\n",
              "      display: none;\n",
              "      fill: #1967D2;\n",
              "      height: 32px;\n",
              "      padding: 0 0 0 0;\n",
              "      width: 32px;\n",
              "    }\n",
              "\n",
              "    .colab-df-convert:hover {\n",
              "      background-color: #E2EBFA;\n",
              "      box-shadow: 0px 1px 2px rgba(60, 64, 67, 0.3), 0px 1px 3px 1px rgba(60, 64, 67, 0.15);\n",
              "      fill: #174EA6;\n",
              "    }\n",
              "\n",
              "    [theme=dark] .colab-df-convert {\n",
              "      background-color: #3B4455;\n",
              "      fill: #D2E3FC;\n",
              "    }\n",
              "\n",
              "    [theme=dark] .colab-df-convert:hover {\n",
              "      background-color: #434B5C;\n",
              "      box-shadow: 0px 1px 3px 1px rgba(0, 0, 0, 0.15);\n",
              "      filter: drop-shadow(0px 1px 2px rgba(0, 0, 0, 0.3));\n",
              "      fill: #FFFFFF;\n",
              "    }\n",
              "  </style>\n",
              "\n",
              "      <script>\n",
              "        const buttonEl =\n",
              "          document.querySelector('#df-0534234c-ecf2-4cb0-b4c9-eb20734496a9 button.colab-df-convert');\n",
              "        buttonEl.style.display =\n",
              "          google.colab.kernel.accessAllowed ? 'block' : 'none';\n",
              "\n",
              "        async function convertToInteractive(key) {\n",
              "          const element = document.querySelector('#df-0534234c-ecf2-4cb0-b4c9-eb20734496a9');\n",
              "          const dataTable =\n",
              "            await google.colab.kernel.invokeFunction('convertToInteractive',\n",
              "                                                     [key], {});\n",
              "          if (!dataTable) return;\n",
              "\n",
              "          const docLinkHtml = 'Like what you see? Visit the ' +\n",
              "            '<a target=\"_blank\" href=https://colab.research.google.com/notebooks/data_table.ipynb>data table notebook</a>'\n",
              "            + ' to learn more about interactive tables.';\n",
              "          element.innerHTML = '';\n",
              "          dataTable['output_type'] = 'display_data';\n",
              "          await google.colab.output.renderOutput(dataTable, element);\n",
              "          const docLink = document.createElement('div');\n",
              "          docLink.innerHTML = docLinkHtml;\n",
              "          element.appendChild(docLink);\n",
              "        }\n",
              "      </script>\n",
              "    </div>\n",
              "  </div>\n",
              "  "
            ]
          },
          "metadata": {},
          "execution_count": 80
        }
      ],
      "source": [
        "# Pra referencia futura\n",
        "tabela_normal_padronizada[16:26]"
      ]
    },
    {
      "cell_type": "markdown",
      "metadata": {
        "id": "rMRmnaNPG3Go"
      },
      "source": [
        "### Obtendo $z$"
      ]
    },
    {
      "cell_type": "markdown",
      "metadata": {
        "id": "T-3mV1qlUj1t"
      },
      "source": [
        "![alt text](https://caelum-online-public.s3.amazonaws.com/1178-estatistica-parte2/01/img008.png)"
      ]
    },
    {
      "cell_type": "code",
      "source": [
        "# A area de 1-alpha é 95%\n",
        "# Queremos o |Z|\n",
        "# Então pra cada valor absoluto de Z (|z|) é a metade disso\n",
        "# já que é simetrico em torno da média\n",
        "0.95/2"
      ],
      "metadata": {
        "colab": {
          "base_uri": "https://localhost:8080/"
        },
        "id": "v7Sd8f2Cqp1y",
        "outputId": "2a138584-f030-4caf-8afe-77777c30e358"
      },
      "execution_count": 81,
      "outputs": [
        {
          "output_type": "execute_result",
          "data": {
            "text/plain": [
              "0.475"
            ]
          },
          "metadata": {},
          "execution_count": 81
        }
      ]
    },
    {
      "cell_type": "code",
      "execution_count": 82,
      "metadata": {
        "id": "nT5ZTwjOG3Go",
        "colab": {
          "base_uri": "https://localhost:8080/"
        },
        "outputId": "b72f4bda-b0c2-47de-aac9-a2b957ae18c5"
      },
      "outputs": [
        {
          "output_type": "execute_result",
          "data": {
            "text/plain": [
              "0.975"
            ]
          },
          "metadata": {},
          "execution_count": 82
        }
      ],
      "source": [
        "# Então a area de de -infinito para +Z é igual a 0.5(infinito até a média) + |Z|\n",
        "0.475+0.5"
      ]
    },
    {
      "cell_type": "code",
      "source": [
        "# Uma outra forma, de chegar na area (porcentagem) de -infinito para +z é\n",
        "# Já que sabemos que falta metade de alpha para Z chegar a 1, \n",
        "# então apenas subtraimos isso da area total\n",
        "porcentagem_infinito_para_z = 1-(alpha/2)\n",
        "porcentagem_infinito_para_z"
      ],
      "metadata": {
        "colab": {
          "base_uri": "https://localhost:8080/"
        },
        "id": "7q5hqBlkujZj",
        "outputId": "a455f282-39c7-4cea-bbf0-443f6ef397e2"
      },
      "execution_count": 103,
      "outputs": [
        {
          "output_type": "execute_result",
          "data": {
            "text/plain": [
              "0.975"
            ]
          },
          "metadata": {},
          "execution_count": 103
        }
      ]
    },
    {
      "cell_type": "code",
      "execution_count": 104,
      "metadata": {
        "id": "vMjck-3ZU_sz",
        "colab": {
          "base_uri": "https://localhost:8080/"
        },
        "outputId": "c224ed18-1026-4faa-e65d-410f519aab57"
      },
      "outputs": [
        {
          "output_type": "execute_result",
          "data": {
            "text/plain": [
              "1.96"
            ]
          },
          "metadata": {},
          "execution_count": 104
        }
      ],
      "source": [
        "# vendo na tabela, sabemos a porcentagem, e calculamos o Z com base na \n",
        "# coordenadas da porcentagem na tabela\n",
        "# Já que é simétrico, o outro valor de\n",
        "1.9 + 0.06"
      ]
    },
    {
      "cell_type": "code",
      "execution_count": 108,
      "metadata": {
        "id": "JJS6Z-85G3Hf",
        "colab": {
          "base_uri": "https://localhost:8080/"
        },
        "outputId": "669f3d7e-310b-4a02-981d-102f2190f360"
      },
      "outputs": [
        {
          "output_type": "execute_result",
          "data": {
            "text/plain": [
              "1.959963984540054"
            ]
          },
          "metadata": {},
          "execution_count": 108
        }
      ],
      "source": [
        "# Usamos o scipy, damos a porcentagem e recebemos o |Z|\n",
        "z = norm.ppf(porcentagem_infinito_para_z)\n",
        "norm.ppf(porcentagem_infinito_para_z)"
      ]
    },
    {
      "cell_type": "markdown",
      "metadata": {
        "id": "ggXXP8QqTyNA"
      },
      "source": [
        "## Valores de $z$ para os níveis de confiança mais utilizados\n",
        "\n",
        "|Nível de<br>confiança|Valor da área sob<br>a curva normal| $z$ |\n",
        "|:----------------:|:---------------------------------:|:---:|\n",
        "|90%               |0,95                               |1,645|\n",
        "|95%               |0,975                              |1,96 |\n",
        "|99%               |0,995                              |2,575|"
      ]
    },
    {
      "cell_type": "markdown",
      "metadata": {
        "id": "MfE1ru0AG3Hg"
      },
      "source": [
        "### Obtendo $\\sigma_\\bar{x}$"
      ]
    },
    {
      "cell_type": "code",
      "execution_count": 87,
      "metadata": {
        "id": "LyQ6UUYtG3Hh",
        "colab": {
          "base_uri": "https://localhost:8080/"
        },
        "outputId": "e5cf2914-d22f-44b4-98d4-5875611638cc"
      },
      "outputs": [
        {
          "output_type": "execute_result",
          "data": {
            "text/plain": [
              "150"
            ]
          },
          "metadata": {},
          "execution_count": 87
        }
      ],
      "source": [
        "# nos foi dado no texto\n",
        "desvio_padrao_populacional = 150\n",
        "desvio_padrao_populacional"
      ]
    },
    {
      "cell_type": "code",
      "execution_count": 88,
      "metadata": {
        "id": "ebvikT95G3Hi",
        "colab": {
          "base_uri": "https://localhost:8080/"
        },
        "outputId": "dabbd38c-4f31-4229-83a0-76cf49d9818e"
      },
      "outputs": [
        {
          "output_type": "execute_result",
          "data": {
            "text/plain": [
              "20"
            ]
          },
          "metadata": {},
          "execution_count": 88
        }
      ],
      "source": [
        "# tamanho da amostra\n",
        "n = 20\n",
        "n"
      ]
    },
    {
      "cell_type": "code",
      "execution_count": 89,
      "metadata": {
        "id": "TxM3yTpjG3Hk",
        "colab": {
          "base_uri": "https://localhost:8080/"
        },
        "outputId": "5b7fda63-0b52-4662-ef07-c427e4a47d4e"
      },
      "outputs": [
        {
          "output_type": "execute_result",
          "data": {
            "text/plain": [
              "4.47213595499958"
            ]
          },
          "metadata": {},
          "execution_count": 89
        }
      ],
      "source": [
        "raiz_de_n = np.sqrt(n)\n",
        "raiz_de_n"
      ]
    },
    {
      "cell_type": "code",
      "execution_count": 107,
      "metadata": {
        "id": "HNAcOpl0G3Hl",
        "colab": {
          "base_uri": "https://localhost:8080/"
        },
        "outputId": "e5713dbd-5958-4d85-e4e7-a41dd05c8f49"
      },
      "outputs": [
        {
          "output_type": "execute_result",
          "data": {
            "text/plain": [
              "33.54101966249684"
            ]
          },
          "metadata": {},
          "execution_count": 107
        }
      ],
      "source": [
        "# desvio padrão da série de médias amostrais\n",
        "sigma_x_barra = desvio_padrao_populacional/raiz_de_n\n",
        "sigma_x_barra"
      ]
    },
    {
      "cell_type": "markdown",
      "metadata": {
        "id": "NHbXlLk-G3Hn"
      },
      "source": [
        "### Obtendo $e$"
      ]
    },
    {
      "cell_type": "code",
      "execution_count": 109,
      "metadata": {
        "id": "gAfakih5G3Ho",
        "colab": {
          "base_uri": "https://localhost:8080/"
        },
        "outputId": "4c3d14a4-75b1-473d-b3a2-0a2d7965dfda"
      },
      "outputs": [
        {
          "output_type": "execute_result",
          "data": {
            "text/plain": [
              "65.73919054324361"
            ]
          },
          "metadata": {},
          "execution_count": 109
        }
      ],
      "source": [
        "# Erro inferencial\n",
        "e = z * sigma_x_barra\n",
        "e"
      ]
    },
    {
      "cell_type": "markdown",
      "metadata": {
        "id": "sx1QTfNrG3Hq"
      },
      "source": [
        "### Solução 1 - Calculando o intervalo de confiança para a média"
      ]
    },
    {
      "cell_type": "code",
      "execution_count": 111,
      "metadata": {
        "id": "NlJCcPZnG3Hq",
        "colab": {
          "base_uri": "https://localhost:8080/"
        },
        "outputId": "de77d3ad-163b-4298-8958-85d3135ee7b1"
      },
      "outputs": [
        {
          "output_type": "execute_result",
          "data": {
            "text/plain": [
              "(4984.260809456757, 5115.739190543243)"
            ]
          },
          "metadata": {},
          "execution_count": 111
        }
      ],
      "source": [
        "limite_inf = media_amostral-e\n",
        "limite_sup = media_amostral+e\n",
        "intervalo = (limite_inf,limite_sup)\n",
        "\n",
        "# como o nivel de confiança é 95% temos a chance de 95% da média estar entre estes 2 valores\n",
        "intervalo"
      ]
    },
    {
      "cell_type": "markdown",
      "metadata": {
        "id": "DkFJL7fcG3Ht"
      },
      "source": [
        "### Solução 2 - Calculando o intervalo de confiança para a média"
      ]
    },
    {
      "cell_type": "code",
      "execution_count": 112,
      "metadata": {
        "id": "U92vSYMkG3Hu",
        "colab": {
          "base_uri": "https://localhost:8080/"
        },
        "outputId": "7e0cd125-8d9e-49f7-cfb2-08d4b2451270"
      },
      "outputs": [
        {
          "output_type": "execute_result",
          "data": {
            "text/plain": [
              "(4984.260809456757, 5115.739190543243)"
            ]
          },
          "metadata": {},
          "execution_count": 112
        }
      ],
      "source": [
        "norm.interval(\n",
        "  alpha=1-alpha, # nível de confiança\n",
        "  loc=media_amostral, # média da amostra\n",
        "  scale=sigma_x_barra # desvio padrão da serie de medias amostrais\n",
        ")\n",
        "\n",
        "# como o nivel de confiança é 95% temos a chance de 95% da média estar entre estes 2 valores\n"
      ]
    },
    {
      "cell_type": "markdown",
      "metadata": {
        "id": "aF9jAC6yG3Gl"
      },
      "source": [
        "# <font color=green>5 CÁLCULO DO TAMANHO DA AMOSTRA</font>\n",
        "***"
      ]
    },
    {
      "cell_type": "markdown",
      "metadata": {
        "id": "BwiygaNqnjrr"
      },
      "source": [
        "## <font color='red'>Problema </font>"
      ]
    },
    {
      "cell_type": "markdown",
      "metadata": {
        "id": "a7RjjVVUnlI3"
      },
      "source": [
        "Estamos estudando o rendimento mensal dos chefes de domicílios com renda até R$\\$$ 5.000,00 no Brasil. Nosso supervisor determinou que o **erro máximo em relação a média seja de R$\\$$ 10,00**. Sabemos que o **desvio padrão populacional** deste grupo de trabalhadores é de **R$\\$$ 1.082,79**. Para um **nível de confiança de 95%**, qual deve ser o tamanho da amostra de nosso estudo?"
      ]
    },
    {
      "cell_type": "markdown",
      "metadata": {
        "id": "za2sGJt6G3Gm"
      },
      "source": [
        "## <font color=green>5.1 Variáveis quantitativas e população infinita</font>\n",
        "***"
      ]
    },
    {
      "cell_type": "markdown",
      "metadata": {
        "id": "3wqMjJWR5sVq"
      },
      "source": [
        "# $$e = z \\frac{\\sigma}{\\sqrt{n}}$$"
      ]
    },
    {
      "cell_type": "markdown",
      "metadata": {
        "id": "X1AxpKtIG3Gn"
      },
      "source": [
        "#### Com desvio padrão conhecido\n",
        "\n",
        "## $$n = \\left(z\\frac{\\sigma}{e}\\right)^2$$\n",
        "\n",
        "#### Com desvio padrão desconhecido\n",
        "\n",
        "## $$n = \\left(z\\frac{s}{e}\\right)^2$$\n",
        "\n",
        "Onde:\n",
        "\n",
        "$z$ = variável normal padronizada\n",
        "\n",
        "$\\sigma$ = desvio padrão populacional\n",
        "\n",
        "$s$ = desvio padrão amostral\n",
        "\n",
        "$e$ = erro inferencial"
      ]
    },
    {
      "cell_type": "markdown",
      "metadata": {
        "id": "T0fysCyDG3Gn"
      },
      "source": [
        "### <font color='red'>Observações</font>\n",
        "\n",
        "1. O desvio padrão ($\\sigma$ ou $s$) e o erro ($e$) devem estar na mesma unidade de medida.\n",
        "\n",
        "2. Quando o erro ($e$) for representado em termos percentuais, deve ser interpretado como um percentual relacionado à média."
      ]
    },
    {
      "cell_type": "markdown",
      "metadata": {
        "id": "WHYBTaupG3Gn"
      },
      "source": [
        "## <font color='blue'>Exemplo: Rendimento médio</font>"
      ]
    },
    {
      "cell_type": "markdown",
      "metadata": {
        "id": "dcdzo7EgG3Go"
      },
      "source": [
        "Estamos estudando o rendimento mensal dos chefes de domicílios no Brasil. Nosso supervisor determinou que o **erro máximo em relação a média seja de R$\\$$ 100,00**. Sabemos que o **desvio padrão populacional** deste grupo de trabalhadores é de **R$\\$$ 3.323,39**. Para um **nível de confiança de 95%**, qual deve ser o tamanho da amostra de nosso estudo?"
      ]
    },
    {
      "cell_type": "code",
      "execution_count": 85,
      "metadata": {
        "id": "XtJ5I_kaKDN3"
      },
      "outputs": [],
      "source": []
    },
    {
      "cell_type": "code",
      "execution_count": 85,
      "metadata": {
        "id": "-4TLCgNLKC95"
      },
      "outputs": [],
      "source": []
    },
    {
      "cell_type": "code",
      "execution_count": 85,
      "metadata": {
        "id": "7XDT12I4ViYN"
      },
      "outputs": [],
      "source": []
    },
    {
      "cell_type": "markdown",
      "metadata": {
        "id": "6uCkW4KlG3Gr"
      },
      "source": [
        "### Obtendo $\\sigma$"
      ]
    },
    {
      "cell_type": "code",
      "execution_count": 85,
      "metadata": {
        "id": "1RmtZfj-G3Gr"
      },
      "outputs": [],
      "source": []
    },
    {
      "cell_type": "markdown",
      "metadata": {
        "id": "Cl39PIZ2G3Gt"
      },
      "source": [
        "### Obtendo $e$"
      ]
    },
    {
      "cell_type": "code",
      "execution_count": 85,
      "metadata": {
        "id": "NTRMt2gWG3Gt"
      },
      "outputs": [],
      "source": []
    },
    {
      "cell_type": "markdown",
      "metadata": {
        "id": "OlAX3Gj6G3Gv"
      },
      "source": [
        "### Obtendo $n$"
      ]
    },
    {
      "cell_type": "code",
      "execution_count": 85,
      "metadata": {
        "id": "0MjluwHPG3Gv",
        "scrolled": true
      },
      "outputs": [],
      "source": []
    },
    {
      "cell_type": "markdown",
      "metadata": {
        "id": "MjP0xsqyTyNO"
      },
      "source": [
        "---\n",
        "---"
      ]
    },
    {
      "cell_type": "markdown",
      "metadata": {
        "id": "dx2vyLC-TyNP"
      },
      "source": [
        "## <font color='red'>Problema</font>"
      ]
    },
    {
      "cell_type": "markdown",
      "metadata": {
        "id": "uzK2fAOFTyNP"
      },
      "source": [
        "Em um lote de **10.000 latas** de refrigerante foi realizada uma amostra aleatória simples de **100 latas** e foi obtido o **desvio padrão amostral do conteúdo das latas igual a 12 ml**. O fabricante estipula um **erro máximo sobre a média populacional de apenas 5 ml**. Para garantir um **nível de confiança de 95%** qual o tamanho de amostra deve ser selecionado para este estudo?"
      ]
    },
    {
      "cell_type": "markdown",
      "metadata": {
        "id": "FlAz5kycTyNQ"
      },
      "source": [
        "## <font color=green>5.2 Variáveis quantitativas e população finita</font>\n",
        "***"
      ]
    },
    {
      "cell_type": "markdown",
      "metadata": {
        "id": "UOe02McSTyNR"
      },
      "source": [
        "#### Com desvio padrão conhecido\n",
        "\n",
        "## $$n = \\frac{z^2 \\sigma^2 N}{z^2 \\sigma^2 + e^2(N-1)}$$\n",
        "\n",
        "#### Com desvio padrão desconhecido\n",
        "\n",
        "## $$n = \\frac{z^2 s^2 N}{z^2 s^2 + e^2(N-1)}$$\n",
        "\n",
        "Onde:\n",
        "\n",
        "$N$ = tamanho da população\n",
        "\n",
        "$z$ = variável normal padronizada\n",
        "\n",
        "$\\sigma$ = desvio padrão populacional\n",
        "\n",
        "$s$ = desvio padrão amostral\n",
        "\n",
        "$e$ = erro inferencial"
      ]
    },
    {
      "cell_type": "markdown",
      "metadata": {
        "id": "cUELtYTKTyNS"
      },
      "source": [
        "## <font color='blue'>Exemplo: Indústria de refrigerantes</font>"
      ]
    },
    {
      "cell_type": "markdown",
      "metadata": {
        "id": "upv1mM7fTyNS"
      },
      "source": [
        "Em um lote de **10.000 latas** de refrigerante foi realizada uma amostra aleatória simples de **100 latas** e foi obtido o **desvio padrão amostral do conteúdo das latas igual a 12 ml**. O fabricante estipula um **erro máximo sobre a média populacional de apenas 5 ml**. Para garantir um **nível de confiança de 95%** qual o tamanho de amostra deve ser selecionado para este estudo?"
      ]
    },
    {
      "cell_type": "markdown",
      "metadata": {
        "id": "_y3-3VIBTyNS"
      },
      "source": [
        "### Obtendo $N$"
      ]
    },
    {
      "cell_type": "code",
      "execution_count": 85,
      "metadata": {
        "id": "gXWn9zTETyNS"
      },
      "outputs": [],
      "source": []
    },
    {
      "cell_type": "markdown",
      "metadata": {
        "id": "xCgZ1JSjTyNT"
      },
      "source": [
        "### Obtendo $z$"
      ]
    },
    {
      "cell_type": "code",
      "execution_count": 85,
      "metadata": {
        "id": "ZUs9aYJRTyNT"
      },
      "outputs": [],
      "source": []
    },
    {
      "cell_type": "markdown",
      "metadata": {
        "id": "KCnigJd8TyNU"
      },
      "source": [
        "### Obtendo $s$"
      ]
    },
    {
      "cell_type": "code",
      "execution_count": 85,
      "metadata": {
        "id": "fKqFI_TZTyNU"
      },
      "outputs": [],
      "source": []
    },
    {
      "cell_type": "markdown",
      "metadata": {
        "id": "K9gDEIUdTyNX"
      },
      "source": [
        "### Obtendo $e$"
      ]
    },
    {
      "cell_type": "code",
      "execution_count": 85,
      "metadata": {
        "id": "hyhJ3MQKTyNX"
      },
      "outputs": [],
      "source": []
    },
    {
      "cell_type": "markdown",
      "metadata": {
        "id": "Dsm3bg9gTyNX"
      },
      "source": [
        "### Obtendo $n$\n",
        "\n",
        "## $$n = \\frac{z^2 s^2 N}{z^2 s^2 + e^2(N-1)}$$"
      ]
    },
    {
      "cell_type": "code",
      "execution_count": 85,
      "metadata": {
        "id": "0XxWfaPdTyNY",
        "scrolled": true
      },
      "outputs": [],
      "source": []
    },
    {
      "cell_type": "markdown",
      "metadata": {
        "id": "XNH7CMglG3Hv"
      },
      "source": [
        "# <font color=green>6 FIXANDO O CONTEÚDO</font>\n",
        "***"
      ]
    },
    {
      "cell_type": "markdown",
      "metadata": {
        "id": "iRYqVAxuG3Hv"
      },
      "source": [
        "## <font color='blue'>Exemplo: Rendimento médio</font>"
      ]
    },
    {
      "cell_type": "markdown",
      "metadata": {
        "id": "ggloHI5sG3Hw"
      },
      "source": [
        "Estamos estudando o **rendimento mensal dos chefes de domicílios com renda até R$\\$$ 5.000,00 no Brasil**. Nosso supervisor determinou que o **erro máximo em relação a média seja de R$\\$$ 10,00**. Sabemos que o **desvio padrão populacional** deste grupo de trabalhadores é de **R$\\$$ 1.082,79** e que a **média populacional** é de **R$\\$$ 1.426,54**. Para um **nível de confiança de 95%**, qual deve ser o tamanho da amostra de nosso estudo? Qual o intervalo de confiança para a média considerando o tamanho de amostra obtido?"
      ]
    },
    {
      "cell_type": "markdown",
      "metadata": {
        "id": "JZDvLD-NG3Hw"
      },
      "source": [
        "### Construindo o dataset conforme especificado pelo problema"
      ]
    },
    {
      "cell_type": "code",
      "execution_count": 85,
      "metadata": {
        "id": "qlnYQeaKG3Hw"
      },
      "outputs": [],
      "source": []
    },
    {
      "cell_type": "code",
      "execution_count": 85,
      "metadata": {
        "id": "VKuxbygIG3Hy"
      },
      "outputs": [],
      "source": []
    },
    {
      "cell_type": "code",
      "execution_count": 85,
      "metadata": {
        "id": "Q2Ku3mVPG3Hz"
      },
      "outputs": [],
      "source": []
    },
    {
      "cell_type": "markdown",
      "metadata": {
        "id": "F33TdkXdG3H2"
      },
      "source": [
        "### Calculando o tamanho da amostra"
      ]
    },
    {
      "cell_type": "code",
      "execution_count": 85,
      "metadata": {
        "id": "sWIvnmygG3H2"
      },
      "outputs": [],
      "source": []
    },
    {
      "cell_type": "markdown",
      "metadata": {
        "id": "xRN_gmmLG3H6"
      },
      "source": [
        "### Calculando o intervalo de confiança para a média"
      ]
    },
    {
      "cell_type": "code",
      "execution_count": 85,
      "metadata": {
        "id": "HoG6JKxxG3H6"
      },
      "outputs": [],
      "source": []
    },
    {
      "cell_type": "markdown",
      "metadata": {
        "id": "xWAG8q8oG3H8"
      },
      "source": [
        "### Realizando uma prova gráfica"
      ]
    },
    {
      "cell_type": "code",
      "execution_count": 85,
      "metadata": {
        "id": "pxjJyWnNG3H8"
      },
      "outputs": [],
      "source": []
    },
    {
      "cell_type": "code",
      "execution_count": 85,
      "metadata": {
        "id": "L5BFsSI8G3IB"
      },
      "outputs": [],
      "source": []
    }
  ],
  "metadata": {
    "colab": {
      "provenance": [],
      "include_colab_link": true
    },
    "kernelspec": {
      "display_name": "Python 3",
      "language": "python",
      "name": "python3"
    },
    "language_info": {
      "codemirror_mode": {
        "name": "ipython",
        "version": 3
      },
      "file_extension": ".py",
      "mimetype": "text/x-python",
      "name": "python",
      "nbconvert_exporter": "python",
      "pygments_lexer": "ipython3",
      "version": "3.6.5"
    }
  },
  "nbformat": 4,
  "nbformat_minor": 0
}