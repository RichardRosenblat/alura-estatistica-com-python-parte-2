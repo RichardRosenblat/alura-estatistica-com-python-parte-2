{
  "nbformat": 4,
  "nbformat_minor": 0,
  "metadata": {
    "colab": {
      "provenance": [],
      "include_colab_link": true
    },
    "kernelspec": {
      "name": "python3",
      "display_name": "Python 3"
    }
  },
  "cells": [
    {
      "cell_type": "markdown",
      "metadata": {
        "id": "view-in-github",
        "colab_type": "text"
      },
      "source": [
        "<a href=\"https://colab.research.google.com/github/RichardRosenblat/alura-estatistica-com-python-parte-2/blob/main/Vers%C3%A3o_bibliotecas.ipynb\" target=\"_parent\"><img src=\"https://colab.research.google.com/assets/colab-badge.svg\" alt=\"Open In Colab\"/></a>"
      ]
    },
    {
      "metadata": {
        "id": "kffSOYcgir5Q",
        "colab": {
          "base_uri": "https://localhost:8080/",
          "height": 85
        },
        "outputId": "50032805-bedc-4165-d643-22a32105367e"
      },
      "cell_type": "code",
      "source": [
        "import pandas, numpy, scipy, matplotlib\n",
        "\n",
        "print('Versão do pandas -> %s' % pandas.__version__)\n",
        "print('Versão do numpy -> %s' % numpy.__version__)\n",
        "print('Versão do scipy -> %s' % scipy.__version__)\n",
        "print('Versão do matplotlib -> %s' % matplotlib.__version__)"
      ],
      "execution_count": null,
      "outputs": [
        {
          "output_type": "stream",
          "text": [
            "Versão do pandas -> 0.23.4\n",
            "Versão do numpy -> 1.16.2\n",
            "Versão do scipy -> 1.2.1\n",
            "Versão do matplotlib -> 3.0.3\n"
          ],
          "name": "stdout"
        }
      ]
    },
    {
      "metadata": {
        "id": "bcAPEvyqjJCx",
        "colab": {
          "base_uri": "https://localhost:8080/"
        },
        "outputId": "158e59fe-cef5-46ac-bd0e-3a26a1260870"
      },
      "cell_type": "code",
      "source": [
        "import pandas, numpy, scipy, matplotlib\n",
        "\n",
        "print('Minhas versões')\n",
        "print('Versão do pandas -> %s' % pandas.__version__)\n",
        "print('Versão do numpy -> %s' % numpy.__version__)\n",
        "print('Versão do scipy -> %s' % scipy.__version__)\n",
        "print('Versão do matplotlib -> %s' % matplotlib.__version__)"
      ],
      "execution_count": 2,
      "outputs": [
        {
          "output_type": "stream",
          "name": "stdout",
          "text": [
            "Minhas versões\n",
            "Versão do pandas -> 1.3.5\n",
            "Versão do numpy -> 1.22.4\n",
            "Versão do scipy -> 1.7.3\n",
            "Versão do matplotlib -> 3.2.2\n"
          ]
        }
      ]
    }
  ]
}